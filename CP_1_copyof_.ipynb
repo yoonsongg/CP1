{
  "nbformat": 4,
  "nbformat_minor": 0,
  "metadata": {
    "colab": {
      "name": "CP_1_copyof_.ipynb",
      "provenance": [],
      "collapsed_sections": [],
      "mount_file_id": "18SECsutMbHfZ-6BDeTO36A20SBZ8uOed",
      "authorship_tag": "ABX9TyPuGXbjdt043kfgPfAlMXv4",
      "include_colab_link": true
    },
    "kernelspec": {
      "name": "python3",
      "display_name": "Python 3"
    },
    "language_info": {
      "name": "python"
    },
    "widgets": {
      "application/vnd.jupyter.widget-state+json": {
        "0fe6f83d547a4f5883e08456c3ec6e5b": {
          "model_module": "@jupyter-widgets/controls",
          "model_name": "VBoxModel",
          "model_module_version": "1.5.0",
          "state": {
            "_view_name": "VBoxView",
            "_dom_classes": [],
            "_model_name": "VBoxModel",
            "_view_module": "@jupyter-widgets/controls",
            "_model_module_version": "1.5.0",
            "_view_count": null,
            "_view_module_version": "1.5.0",
            "box_style": "",
            "layout": "IPY_MODEL_61816db0a539489a9972925d587ed8bc",
            "_model_module": "@jupyter-widgets/controls",
            "children": [
              "IPY_MODEL_fe18f2b58379465cb5ade639f888e38d",
              "IPY_MODEL_8f69167f70814ce99c8fda96c6c94faf"
            ]
          }
        },
        "61816db0a539489a9972925d587ed8bc": {
          "model_module": "@jupyter-widgets/base",
          "model_name": "LayoutModel",
          "model_module_version": "1.2.0",
          "state": {
            "_view_name": "LayoutView",
            "grid_template_rows": null,
            "right": null,
            "justify_content": null,
            "_view_module": "@jupyter-widgets/base",
            "overflow": null,
            "_model_module_version": "1.2.0",
            "_view_count": null,
            "flex_flow": null,
            "width": null,
            "min_width": null,
            "border": null,
            "align_items": null,
            "bottom": null,
            "_model_module": "@jupyter-widgets/base",
            "top": null,
            "grid_column": null,
            "overflow_y": null,
            "overflow_x": null,
            "grid_auto_flow": null,
            "grid_area": null,
            "grid_template_columns": null,
            "flex": null,
            "_model_name": "LayoutModel",
            "justify_items": null,
            "grid_row": null,
            "max_height": null,
            "align_content": null,
            "visibility": null,
            "align_self": null,
            "height": null,
            "min_height": null,
            "padding": null,
            "grid_auto_rows": null,
            "grid_gap": null,
            "max_width": null,
            "order": null,
            "_view_module_version": "1.2.0",
            "grid_template_areas": null,
            "object_position": null,
            "object_fit": null,
            "grid_auto_columns": null,
            "margin": null,
            "display": null,
            "left": null
          }
        },
        "fe18f2b58379465cb5ade639f888e38d": {
          "model_module": "@jupyter-widgets/controls",
          "model_name": "LabelModel",
          "model_module_version": "1.5.0",
          "state": {
            "_view_name": "LabelView",
            "style": "IPY_MODEL_eb98ead12b1d4982b891bb4d83bef94b",
            "_dom_classes": [],
            "description": "",
            "_model_name": "LabelModel",
            "placeholder": "​",
            "_view_module": "@jupyter-widgets/controls",
            "_model_module_version": "1.5.0",
            "value": " 0.01MB of 0.01MB uploaded (0.00MB deduped)\r",
            "_view_count": null,
            "_view_module_version": "1.5.0",
            "description_tooltip": null,
            "_model_module": "@jupyter-widgets/controls",
            "layout": "IPY_MODEL_ea5e27cb79df4aa2ae95cbc12e25b4c4"
          }
        },
        "8f69167f70814ce99c8fda96c6c94faf": {
          "model_module": "@jupyter-widgets/controls",
          "model_name": "FloatProgressModel",
          "model_module_version": "1.5.0",
          "state": {
            "_view_name": "ProgressView",
            "style": "IPY_MODEL_0ac5050c308c48c1acd5d34cc99b2e4d",
            "_dom_classes": [],
            "description": "",
            "_model_name": "FloatProgressModel",
            "bar_style": "",
            "max": 1,
            "_view_module": "@jupyter-widgets/controls",
            "_model_module_version": "1.5.0",
            "value": 1,
            "_view_count": null,
            "_view_module_version": "1.5.0",
            "orientation": "horizontal",
            "min": 0,
            "description_tooltip": null,
            "_model_module": "@jupyter-widgets/controls",
            "layout": "IPY_MODEL_7b1d91d86a4f4b39896588037a2fbcf8"
          }
        },
        "eb98ead12b1d4982b891bb4d83bef94b": {
          "model_module": "@jupyter-widgets/controls",
          "model_name": "DescriptionStyleModel",
          "model_module_version": "1.5.0",
          "state": {
            "_view_name": "StyleView",
            "_model_name": "DescriptionStyleModel",
            "description_width": "",
            "_view_module": "@jupyter-widgets/base",
            "_model_module_version": "1.5.0",
            "_view_count": null,
            "_view_module_version": "1.2.0",
            "_model_module": "@jupyter-widgets/controls"
          }
        },
        "ea5e27cb79df4aa2ae95cbc12e25b4c4": {
          "model_module": "@jupyter-widgets/base",
          "model_name": "LayoutModel",
          "model_module_version": "1.2.0",
          "state": {
            "_view_name": "LayoutView",
            "grid_template_rows": null,
            "right": null,
            "justify_content": null,
            "_view_module": "@jupyter-widgets/base",
            "overflow": null,
            "_model_module_version": "1.2.0",
            "_view_count": null,
            "flex_flow": null,
            "width": null,
            "min_width": null,
            "border": null,
            "align_items": null,
            "bottom": null,
            "_model_module": "@jupyter-widgets/base",
            "top": null,
            "grid_column": null,
            "overflow_y": null,
            "overflow_x": null,
            "grid_auto_flow": null,
            "grid_area": null,
            "grid_template_columns": null,
            "flex": null,
            "_model_name": "LayoutModel",
            "justify_items": null,
            "grid_row": null,
            "max_height": null,
            "align_content": null,
            "visibility": null,
            "align_self": null,
            "height": null,
            "min_height": null,
            "padding": null,
            "grid_auto_rows": null,
            "grid_gap": null,
            "max_width": null,
            "order": null,
            "_view_module_version": "1.2.0",
            "grid_template_areas": null,
            "object_position": null,
            "object_fit": null,
            "grid_auto_columns": null,
            "margin": null,
            "display": null,
            "left": null
          }
        },
        "0ac5050c308c48c1acd5d34cc99b2e4d": {
          "model_module": "@jupyter-widgets/controls",
          "model_name": "ProgressStyleModel",
          "model_module_version": "1.5.0",
          "state": {
            "_view_name": "StyleView",
            "_model_name": "ProgressStyleModel",
            "description_width": "",
            "_view_module": "@jupyter-widgets/base",
            "_model_module_version": "1.5.0",
            "_view_count": null,
            "_view_module_version": "1.2.0",
            "bar_color": null,
            "_model_module": "@jupyter-widgets/controls"
          }
        },
        "7b1d91d86a4f4b39896588037a2fbcf8": {
          "model_module": "@jupyter-widgets/base",
          "model_name": "LayoutModel",
          "model_module_version": "1.2.0",
          "state": {
            "_view_name": "LayoutView",
            "grid_template_rows": null,
            "right": null,
            "justify_content": null,
            "_view_module": "@jupyter-widgets/base",
            "overflow": null,
            "_model_module_version": "1.2.0",
            "_view_count": null,
            "flex_flow": null,
            "width": null,
            "min_width": null,
            "border": null,
            "align_items": null,
            "bottom": null,
            "_model_module": "@jupyter-widgets/base",
            "top": null,
            "grid_column": null,
            "overflow_y": null,
            "overflow_x": null,
            "grid_auto_flow": null,
            "grid_area": null,
            "grid_template_columns": null,
            "flex": null,
            "_model_name": "LayoutModel",
            "justify_items": null,
            "grid_row": null,
            "max_height": null,
            "align_content": null,
            "visibility": null,
            "align_self": null,
            "height": null,
            "min_height": null,
            "padding": null,
            "grid_auto_rows": null,
            "grid_gap": null,
            "max_width": null,
            "order": null,
            "_view_module_version": "1.2.0",
            "grid_template_areas": null,
            "object_position": null,
            "object_fit": null,
            "grid_auto_columns": null,
            "margin": null,
            "display": null,
            "left": null
          }
        },
        "75ec6cc74cc548478a50910685e268d7": {
          "model_module": "@jupyter-widgets/controls",
          "model_name": "VBoxModel",
          "model_module_version": "1.5.0",
          "state": {
            "_view_name": "VBoxView",
            "_dom_classes": [],
            "_model_name": "VBoxModel",
            "_view_module": "@jupyter-widgets/controls",
            "_model_module_version": "1.5.0",
            "_view_count": null,
            "_view_module_version": "1.5.0",
            "box_style": "",
            "layout": "IPY_MODEL_485d6d51c6cf451eb4752e93908bd44c",
            "_model_module": "@jupyter-widgets/controls",
            "children": [
              "IPY_MODEL_bcf2b9836d8e453eb4f334caf239b46d",
              "IPY_MODEL_6177888633fc4b4daf6b74faebb23534"
            ]
          }
        },
        "485d6d51c6cf451eb4752e93908bd44c": {
          "model_module": "@jupyter-widgets/base",
          "model_name": "LayoutModel",
          "model_module_version": "1.2.0",
          "state": {
            "_view_name": "LayoutView",
            "grid_template_rows": null,
            "right": null,
            "justify_content": null,
            "_view_module": "@jupyter-widgets/base",
            "overflow": null,
            "_model_module_version": "1.2.0",
            "_view_count": null,
            "flex_flow": null,
            "width": null,
            "min_width": null,
            "border": null,
            "align_items": null,
            "bottom": null,
            "_model_module": "@jupyter-widgets/base",
            "top": null,
            "grid_column": null,
            "overflow_y": null,
            "overflow_x": null,
            "grid_auto_flow": null,
            "grid_area": null,
            "grid_template_columns": null,
            "flex": null,
            "_model_name": "LayoutModel",
            "justify_items": null,
            "grid_row": null,
            "max_height": null,
            "align_content": null,
            "visibility": null,
            "align_self": null,
            "height": null,
            "min_height": null,
            "padding": null,
            "grid_auto_rows": null,
            "grid_gap": null,
            "max_width": null,
            "order": null,
            "_view_module_version": "1.2.0",
            "grid_template_areas": null,
            "object_position": null,
            "object_fit": null,
            "grid_auto_columns": null,
            "margin": null,
            "display": null,
            "left": null
          }
        },
        "bcf2b9836d8e453eb4f334caf239b46d": {
          "model_module": "@jupyter-widgets/controls",
          "model_name": "LabelModel",
          "model_module_version": "1.5.0",
          "state": {
            "_view_name": "LabelView",
            "style": "IPY_MODEL_edcd2035c0884e7f820b8a8dbd8607c2",
            "_dom_classes": [],
            "description": "",
            "_model_name": "LabelModel",
            "placeholder": "​",
            "_view_module": "@jupyter-widgets/controls",
            "_model_module_version": "1.5.0",
            "value": " 0.01MB of 0.01MB uploaded (0.00MB deduped)\r",
            "_view_count": null,
            "_view_module_version": "1.5.0",
            "description_tooltip": null,
            "_model_module": "@jupyter-widgets/controls",
            "layout": "IPY_MODEL_f3b9c59b683c493bb257d2d3be38c702"
          }
        },
        "6177888633fc4b4daf6b74faebb23534": {
          "model_module": "@jupyter-widgets/controls",
          "model_name": "FloatProgressModel",
          "model_module_version": "1.5.0",
          "state": {
            "_view_name": "ProgressView",
            "style": "IPY_MODEL_d5e5656b450642a0b24419a2b87120d4",
            "_dom_classes": [],
            "description": "",
            "_model_name": "FloatProgressModel",
            "bar_style": "",
            "max": 1,
            "_view_module": "@jupyter-widgets/controls",
            "_model_module_version": "1.5.0",
            "value": 1,
            "_view_count": null,
            "_view_module_version": "1.5.0",
            "orientation": "horizontal",
            "min": 0,
            "description_tooltip": null,
            "_model_module": "@jupyter-widgets/controls",
            "layout": "IPY_MODEL_3fa82ca91ea34ccfabbe35a312f78cf5"
          }
        },
        "edcd2035c0884e7f820b8a8dbd8607c2": {
          "model_module": "@jupyter-widgets/controls",
          "model_name": "DescriptionStyleModel",
          "model_module_version": "1.5.0",
          "state": {
            "_view_name": "StyleView",
            "_model_name": "DescriptionStyleModel",
            "description_width": "",
            "_view_module": "@jupyter-widgets/base",
            "_model_module_version": "1.5.0",
            "_view_count": null,
            "_view_module_version": "1.2.0",
            "_model_module": "@jupyter-widgets/controls"
          }
        },
        "f3b9c59b683c493bb257d2d3be38c702": {
          "model_module": "@jupyter-widgets/base",
          "model_name": "LayoutModel",
          "model_module_version": "1.2.0",
          "state": {
            "_view_name": "LayoutView",
            "grid_template_rows": null,
            "right": null,
            "justify_content": null,
            "_view_module": "@jupyter-widgets/base",
            "overflow": null,
            "_model_module_version": "1.2.0",
            "_view_count": null,
            "flex_flow": null,
            "width": null,
            "min_width": null,
            "border": null,
            "align_items": null,
            "bottom": null,
            "_model_module": "@jupyter-widgets/base",
            "top": null,
            "grid_column": null,
            "overflow_y": null,
            "overflow_x": null,
            "grid_auto_flow": null,
            "grid_area": null,
            "grid_template_columns": null,
            "flex": null,
            "_model_name": "LayoutModel",
            "justify_items": null,
            "grid_row": null,
            "max_height": null,
            "align_content": null,
            "visibility": null,
            "align_self": null,
            "height": null,
            "min_height": null,
            "padding": null,
            "grid_auto_rows": null,
            "grid_gap": null,
            "max_width": null,
            "order": null,
            "_view_module_version": "1.2.0",
            "grid_template_areas": null,
            "object_position": null,
            "object_fit": null,
            "grid_auto_columns": null,
            "margin": null,
            "display": null,
            "left": null
          }
        },
        "d5e5656b450642a0b24419a2b87120d4": {
          "model_module": "@jupyter-widgets/controls",
          "model_name": "ProgressStyleModel",
          "model_module_version": "1.5.0",
          "state": {
            "_view_name": "StyleView",
            "_model_name": "ProgressStyleModel",
            "description_width": "",
            "_view_module": "@jupyter-widgets/base",
            "_model_module_version": "1.5.0",
            "_view_count": null,
            "_view_module_version": "1.2.0",
            "bar_color": null,
            "_model_module": "@jupyter-widgets/controls"
          }
        },
        "3fa82ca91ea34ccfabbe35a312f78cf5": {
          "model_module": "@jupyter-widgets/base",
          "model_name": "LayoutModel",
          "model_module_version": "1.2.0",
          "state": {
            "_view_name": "LayoutView",
            "grid_template_rows": null,
            "right": null,
            "justify_content": null,
            "_view_module": "@jupyter-widgets/base",
            "overflow": null,
            "_model_module_version": "1.2.0",
            "_view_count": null,
            "flex_flow": null,
            "width": null,
            "min_width": null,
            "border": null,
            "align_items": null,
            "bottom": null,
            "_model_module": "@jupyter-widgets/base",
            "top": null,
            "grid_column": null,
            "overflow_y": null,
            "overflow_x": null,
            "grid_auto_flow": null,
            "grid_area": null,
            "grid_template_columns": null,
            "flex": null,
            "_model_name": "LayoutModel",
            "justify_items": null,
            "grid_row": null,
            "max_height": null,
            "align_content": null,
            "visibility": null,
            "align_self": null,
            "height": null,
            "min_height": null,
            "padding": null,
            "grid_auto_rows": null,
            "grid_gap": null,
            "max_width": null,
            "order": null,
            "_view_module_version": "1.2.0",
            "grid_template_areas": null,
            "object_position": null,
            "object_fit": null,
            "grid_auto_columns": null,
            "margin": null,
            "display": null,
            "left": null
          }
        },
        "17fe26cebe9d4fe79ab66c9b55c8f3d6": {
          "model_module": "@jupyter-widgets/controls",
          "model_name": "VBoxModel",
          "model_module_version": "1.5.0",
          "state": {
            "_view_name": "VBoxView",
            "_dom_classes": [],
            "_model_name": "VBoxModel",
            "_view_module": "@jupyter-widgets/controls",
            "_model_module_version": "1.5.0",
            "_view_count": null,
            "_view_module_version": "1.5.0",
            "box_style": "",
            "layout": "IPY_MODEL_48dc836698434c648b077d7cfd226a70",
            "_model_module": "@jupyter-widgets/controls",
            "children": [
              "IPY_MODEL_8f56107c863f40eab1a7d2f4ab34939e",
              "IPY_MODEL_5a68be42cef54072a6deca8913140307"
            ]
          }
        },
        "48dc836698434c648b077d7cfd226a70": {
          "model_module": "@jupyter-widgets/base",
          "model_name": "LayoutModel",
          "model_module_version": "1.2.0",
          "state": {
            "_view_name": "LayoutView",
            "grid_template_rows": null,
            "right": null,
            "justify_content": null,
            "_view_module": "@jupyter-widgets/base",
            "overflow": null,
            "_model_module_version": "1.2.0",
            "_view_count": null,
            "flex_flow": null,
            "width": null,
            "min_width": null,
            "border": null,
            "align_items": null,
            "bottom": null,
            "_model_module": "@jupyter-widgets/base",
            "top": null,
            "grid_column": null,
            "overflow_y": null,
            "overflow_x": null,
            "grid_auto_flow": null,
            "grid_area": null,
            "grid_template_columns": null,
            "flex": null,
            "_model_name": "LayoutModel",
            "justify_items": null,
            "grid_row": null,
            "max_height": null,
            "align_content": null,
            "visibility": null,
            "align_self": null,
            "height": null,
            "min_height": null,
            "padding": null,
            "grid_auto_rows": null,
            "grid_gap": null,
            "max_width": null,
            "order": null,
            "_view_module_version": "1.2.0",
            "grid_template_areas": null,
            "object_position": null,
            "object_fit": null,
            "grid_auto_columns": null,
            "margin": null,
            "display": null,
            "left": null
          }
        },
        "8f56107c863f40eab1a7d2f4ab34939e": {
          "model_module": "@jupyter-widgets/controls",
          "model_name": "LabelModel",
          "model_module_version": "1.5.0",
          "state": {
            "_view_name": "LabelView",
            "style": "IPY_MODEL_af2577684a574b178c68f1ed7b495f55",
            "_dom_classes": [],
            "description": "",
            "_model_name": "LabelModel",
            "placeholder": "​",
            "_view_module": "@jupyter-widgets/controls",
            "_model_module_version": "1.5.0",
            "value": " 0.01MB of 0.01MB uploaded (0.00MB deduped)\r",
            "_view_count": null,
            "_view_module_version": "1.5.0",
            "description_tooltip": null,
            "_model_module": "@jupyter-widgets/controls",
            "layout": "IPY_MODEL_3ab43570b9cf4cd186eb176d5c210237"
          }
        },
        "5a68be42cef54072a6deca8913140307": {
          "model_module": "@jupyter-widgets/controls",
          "model_name": "FloatProgressModel",
          "model_module_version": "1.5.0",
          "state": {
            "_view_name": "ProgressView",
            "style": "IPY_MODEL_0b06f107380944248e0abc77ff3039c4",
            "_dom_classes": [],
            "description": "",
            "_model_name": "FloatProgressModel",
            "bar_style": "",
            "max": 1,
            "_view_module": "@jupyter-widgets/controls",
            "_model_module_version": "1.5.0",
            "value": 1,
            "_view_count": null,
            "_view_module_version": "1.5.0",
            "orientation": "horizontal",
            "min": 0,
            "description_tooltip": null,
            "_model_module": "@jupyter-widgets/controls",
            "layout": "IPY_MODEL_ec7e34d1a0bd4da1887d8391e8f05d9b"
          }
        },
        "af2577684a574b178c68f1ed7b495f55": {
          "model_module": "@jupyter-widgets/controls",
          "model_name": "DescriptionStyleModel",
          "model_module_version": "1.5.0",
          "state": {
            "_view_name": "StyleView",
            "_model_name": "DescriptionStyleModel",
            "description_width": "",
            "_view_module": "@jupyter-widgets/base",
            "_model_module_version": "1.5.0",
            "_view_count": null,
            "_view_module_version": "1.2.0",
            "_model_module": "@jupyter-widgets/controls"
          }
        },
        "3ab43570b9cf4cd186eb176d5c210237": {
          "model_module": "@jupyter-widgets/base",
          "model_name": "LayoutModel",
          "model_module_version": "1.2.0",
          "state": {
            "_view_name": "LayoutView",
            "grid_template_rows": null,
            "right": null,
            "justify_content": null,
            "_view_module": "@jupyter-widgets/base",
            "overflow": null,
            "_model_module_version": "1.2.0",
            "_view_count": null,
            "flex_flow": null,
            "width": null,
            "min_width": null,
            "border": null,
            "align_items": null,
            "bottom": null,
            "_model_module": "@jupyter-widgets/base",
            "top": null,
            "grid_column": null,
            "overflow_y": null,
            "overflow_x": null,
            "grid_auto_flow": null,
            "grid_area": null,
            "grid_template_columns": null,
            "flex": null,
            "_model_name": "LayoutModel",
            "justify_items": null,
            "grid_row": null,
            "max_height": null,
            "align_content": null,
            "visibility": null,
            "align_self": null,
            "height": null,
            "min_height": null,
            "padding": null,
            "grid_auto_rows": null,
            "grid_gap": null,
            "max_width": null,
            "order": null,
            "_view_module_version": "1.2.0",
            "grid_template_areas": null,
            "object_position": null,
            "object_fit": null,
            "grid_auto_columns": null,
            "margin": null,
            "display": null,
            "left": null
          }
        },
        "0b06f107380944248e0abc77ff3039c4": {
          "model_module": "@jupyter-widgets/controls",
          "model_name": "ProgressStyleModel",
          "model_module_version": "1.5.0",
          "state": {
            "_view_name": "StyleView",
            "_model_name": "ProgressStyleModel",
            "description_width": "",
            "_view_module": "@jupyter-widgets/base",
            "_model_module_version": "1.5.0",
            "_view_count": null,
            "_view_module_version": "1.2.0",
            "bar_color": null,
            "_model_module": "@jupyter-widgets/controls"
          }
        },
        "ec7e34d1a0bd4da1887d8391e8f05d9b": {
          "model_module": "@jupyter-widgets/base",
          "model_name": "LayoutModel",
          "model_module_version": "1.2.0",
          "state": {
            "_view_name": "LayoutView",
            "grid_template_rows": null,
            "right": null,
            "justify_content": null,
            "_view_module": "@jupyter-widgets/base",
            "overflow": null,
            "_model_module_version": "1.2.0",
            "_view_count": null,
            "flex_flow": null,
            "width": null,
            "min_width": null,
            "border": null,
            "align_items": null,
            "bottom": null,
            "_model_module": "@jupyter-widgets/base",
            "top": null,
            "grid_column": null,
            "overflow_y": null,
            "overflow_x": null,
            "grid_auto_flow": null,
            "grid_area": null,
            "grid_template_columns": null,
            "flex": null,
            "_model_name": "LayoutModel",
            "justify_items": null,
            "grid_row": null,
            "max_height": null,
            "align_content": null,
            "visibility": null,
            "align_self": null,
            "height": null,
            "min_height": null,
            "padding": null,
            "grid_auto_rows": null,
            "grid_gap": null,
            "max_width": null,
            "order": null,
            "_view_module_version": "1.2.0",
            "grid_template_areas": null,
            "object_position": null,
            "object_fit": null,
            "grid_auto_columns": null,
            "margin": null,
            "display": null,
            "left": null
          }
        },
        "2203af88a85f4da08f437a271d2e10b4": {
          "model_module": "@jupyter-widgets/controls",
          "model_name": "VBoxModel",
          "model_module_version": "1.5.0",
          "state": {
            "_view_name": "VBoxView",
            "_dom_classes": [],
            "_model_name": "VBoxModel",
            "_view_module": "@jupyter-widgets/controls",
            "_model_module_version": "1.5.0",
            "_view_count": null,
            "_view_module_version": "1.5.0",
            "box_style": "",
            "layout": "IPY_MODEL_d09e54e58149439881c3a7c6813e23bd",
            "_model_module": "@jupyter-widgets/controls",
            "children": [
              "IPY_MODEL_9e51616727f14e5e9dd7f6a8bfa008ff",
              "IPY_MODEL_332f9c2b9017423c8cbfb53f15083804"
            ]
          }
        },
        "d09e54e58149439881c3a7c6813e23bd": {
          "model_module": "@jupyter-widgets/base",
          "model_name": "LayoutModel",
          "model_module_version": "1.2.0",
          "state": {
            "_view_name": "LayoutView",
            "grid_template_rows": null,
            "right": null,
            "justify_content": null,
            "_view_module": "@jupyter-widgets/base",
            "overflow": null,
            "_model_module_version": "1.2.0",
            "_view_count": null,
            "flex_flow": null,
            "width": null,
            "min_width": null,
            "border": null,
            "align_items": null,
            "bottom": null,
            "_model_module": "@jupyter-widgets/base",
            "top": null,
            "grid_column": null,
            "overflow_y": null,
            "overflow_x": null,
            "grid_auto_flow": null,
            "grid_area": null,
            "grid_template_columns": null,
            "flex": null,
            "_model_name": "LayoutModel",
            "justify_items": null,
            "grid_row": null,
            "max_height": null,
            "align_content": null,
            "visibility": null,
            "align_self": null,
            "height": null,
            "min_height": null,
            "padding": null,
            "grid_auto_rows": null,
            "grid_gap": null,
            "max_width": null,
            "order": null,
            "_view_module_version": "1.2.0",
            "grid_template_areas": null,
            "object_position": null,
            "object_fit": null,
            "grid_auto_columns": null,
            "margin": null,
            "display": null,
            "left": null
          }
        },
        "9e51616727f14e5e9dd7f6a8bfa008ff": {
          "model_module": "@jupyter-widgets/controls",
          "model_name": "LabelModel",
          "model_module_version": "1.5.0",
          "state": {
            "_view_name": "LabelView",
            "style": "IPY_MODEL_27bbd494f22241478e317c50c4f73702",
            "_dom_classes": [],
            "description": "",
            "_model_name": "LabelModel",
            "placeholder": "​",
            "_view_module": "@jupyter-widgets/controls",
            "_model_module_version": "1.5.0",
            "value": " 0.01MB of 0.01MB uploaded (0.00MB deduped)\r",
            "_view_count": null,
            "_view_module_version": "1.5.0",
            "description_tooltip": null,
            "_model_module": "@jupyter-widgets/controls",
            "layout": "IPY_MODEL_403fd2aa3d004a24a94a1c0a0fe474d4"
          }
        },
        "332f9c2b9017423c8cbfb53f15083804": {
          "model_module": "@jupyter-widgets/controls",
          "model_name": "FloatProgressModel",
          "model_module_version": "1.5.0",
          "state": {
            "_view_name": "ProgressView",
            "style": "IPY_MODEL_66be84600eba4967ba2c0b328b3757b1",
            "_dom_classes": [],
            "description": "",
            "_model_name": "FloatProgressModel",
            "bar_style": "",
            "max": 1,
            "_view_module": "@jupyter-widgets/controls",
            "_model_module_version": "1.5.0",
            "value": 1,
            "_view_count": null,
            "_view_module_version": "1.5.0",
            "orientation": "horizontal",
            "min": 0,
            "description_tooltip": null,
            "_model_module": "@jupyter-widgets/controls",
            "layout": "IPY_MODEL_6208557e555241dd9c2d186dac239b70"
          }
        },
        "27bbd494f22241478e317c50c4f73702": {
          "model_module": "@jupyter-widgets/controls",
          "model_name": "DescriptionStyleModel",
          "model_module_version": "1.5.0",
          "state": {
            "_view_name": "StyleView",
            "_model_name": "DescriptionStyleModel",
            "description_width": "",
            "_view_module": "@jupyter-widgets/base",
            "_model_module_version": "1.5.0",
            "_view_count": null,
            "_view_module_version": "1.2.0",
            "_model_module": "@jupyter-widgets/controls"
          }
        },
        "403fd2aa3d004a24a94a1c0a0fe474d4": {
          "model_module": "@jupyter-widgets/base",
          "model_name": "LayoutModel",
          "model_module_version": "1.2.0",
          "state": {
            "_view_name": "LayoutView",
            "grid_template_rows": null,
            "right": null,
            "justify_content": null,
            "_view_module": "@jupyter-widgets/base",
            "overflow": null,
            "_model_module_version": "1.2.0",
            "_view_count": null,
            "flex_flow": null,
            "width": null,
            "min_width": null,
            "border": null,
            "align_items": null,
            "bottom": null,
            "_model_module": "@jupyter-widgets/base",
            "top": null,
            "grid_column": null,
            "overflow_y": null,
            "overflow_x": null,
            "grid_auto_flow": null,
            "grid_area": null,
            "grid_template_columns": null,
            "flex": null,
            "_model_name": "LayoutModel",
            "justify_items": null,
            "grid_row": null,
            "max_height": null,
            "align_content": null,
            "visibility": null,
            "align_self": null,
            "height": null,
            "min_height": null,
            "padding": null,
            "grid_auto_rows": null,
            "grid_gap": null,
            "max_width": null,
            "order": null,
            "_view_module_version": "1.2.0",
            "grid_template_areas": null,
            "object_position": null,
            "object_fit": null,
            "grid_auto_columns": null,
            "margin": null,
            "display": null,
            "left": null
          }
        },
        "66be84600eba4967ba2c0b328b3757b1": {
          "model_module": "@jupyter-widgets/controls",
          "model_name": "ProgressStyleModel",
          "model_module_version": "1.5.0",
          "state": {
            "_view_name": "StyleView",
            "_model_name": "ProgressStyleModel",
            "description_width": "",
            "_view_module": "@jupyter-widgets/base",
            "_model_module_version": "1.5.0",
            "_view_count": null,
            "_view_module_version": "1.2.0",
            "bar_color": null,
            "_model_module": "@jupyter-widgets/controls"
          }
        },
        "6208557e555241dd9c2d186dac239b70": {
          "model_module": "@jupyter-widgets/base",
          "model_name": "LayoutModel",
          "model_module_version": "1.2.0",
          "state": {
            "_view_name": "LayoutView",
            "grid_template_rows": null,
            "right": null,
            "justify_content": null,
            "_view_module": "@jupyter-widgets/base",
            "overflow": null,
            "_model_module_version": "1.2.0",
            "_view_count": null,
            "flex_flow": null,
            "width": null,
            "min_width": null,
            "border": null,
            "align_items": null,
            "bottom": null,
            "_model_module": "@jupyter-widgets/base",
            "top": null,
            "grid_column": null,
            "overflow_y": null,
            "overflow_x": null,
            "grid_auto_flow": null,
            "grid_area": null,
            "grid_template_columns": null,
            "flex": null,
            "_model_name": "LayoutModel",
            "justify_items": null,
            "grid_row": null,
            "max_height": null,
            "align_content": null,
            "visibility": null,
            "align_self": null,
            "height": null,
            "min_height": null,
            "padding": null,
            "grid_auto_rows": null,
            "grid_gap": null,
            "max_width": null,
            "order": null,
            "_view_module_version": "1.2.0",
            "grid_template_areas": null,
            "object_position": null,
            "object_fit": null,
            "grid_auto_columns": null,
            "margin": null,
            "display": null,
            "left": null
          }
        },
        "c56ccc00195c4aeabb6d4abab59bc185": {
          "model_module": "@jupyter-widgets/controls",
          "model_name": "VBoxModel",
          "model_module_version": "1.5.0",
          "state": {
            "_view_name": "VBoxView",
            "_dom_classes": [],
            "_model_name": "VBoxModel",
            "_view_module": "@jupyter-widgets/controls",
            "_model_module_version": "1.5.0",
            "_view_count": null,
            "_view_module_version": "1.5.0",
            "box_style": "",
            "layout": "IPY_MODEL_8ac3ee0eac71491083e75ada77e00ddf",
            "_model_module": "@jupyter-widgets/controls",
            "children": [
              "IPY_MODEL_ad8cfa92afcd465a9294d65539940c68",
              "IPY_MODEL_99cd27d141f843d6833cf555857eaa9c"
            ]
          }
        },
        "8ac3ee0eac71491083e75ada77e00ddf": {
          "model_module": "@jupyter-widgets/base",
          "model_name": "LayoutModel",
          "model_module_version": "1.2.0",
          "state": {
            "_view_name": "LayoutView",
            "grid_template_rows": null,
            "right": null,
            "justify_content": null,
            "_view_module": "@jupyter-widgets/base",
            "overflow": null,
            "_model_module_version": "1.2.0",
            "_view_count": null,
            "flex_flow": null,
            "width": null,
            "min_width": null,
            "border": null,
            "align_items": null,
            "bottom": null,
            "_model_module": "@jupyter-widgets/base",
            "top": null,
            "grid_column": null,
            "overflow_y": null,
            "overflow_x": null,
            "grid_auto_flow": null,
            "grid_area": null,
            "grid_template_columns": null,
            "flex": null,
            "_model_name": "LayoutModel",
            "justify_items": null,
            "grid_row": null,
            "max_height": null,
            "align_content": null,
            "visibility": null,
            "align_self": null,
            "height": null,
            "min_height": null,
            "padding": null,
            "grid_auto_rows": null,
            "grid_gap": null,
            "max_width": null,
            "order": null,
            "_view_module_version": "1.2.0",
            "grid_template_areas": null,
            "object_position": null,
            "object_fit": null,
            "grid_auto_columns": null,
            "margin": null,
            "display": null,
            "left": null
          }
        },
        "ad8cfa92afcd465a9294d65539940c68": {
          "model_module": "@jupyter-widgets/controls",
          "model_name": "LabelModel",
          "model_module_version": "1.5.0",
          "state": {
            "_view_name": "LabelView",
            "style": "IPY_MODEL_8fbba5b3636b4c05960d0c70b60a3665",
            "_dom_classes": [],
            "description": "",
            "_model_name": "LabelModel",
            "placeholder": "​",
            "_view_module": "@jupyter-widgets/controls",
            "_model_module_version": "1.5.0",
            "value": " 0.01MB of 0.01MB uploaded (0.00MB deduped)\r",
            "_view_count": null,
            "_view_module_version": "1.5.0",
            "description_tooltip": null,
            "_model_module": "@jupyter-widgets/controls",
            "layout": "IPY_MODEL_0798de4ff3f94892ab45f78769abcabc"
          }
        },
        "99cd27d141f843d6833cf555857eaa9c": {
          "model_module": "@jupyter-widgets/controls",
          "model_name": "FloatProgressModel",
          "model_module_version": "1.5.0",
          "state": {
            "_view_name": "ProgressView",
            "style": "IPY_MODEL_4dfcc04ba84747a8a3693a4522b3072d",
            "_dom_classes": [],
            "description": "",
            "_model_name": "FloatProgressModel",
            "bar_style": "",
            "max": 1,
            "_view_module": "@jupyter-widgets/controls",
            "_model_module_version": "1.5.0",
            "value": 1,
            "_view_count": null,
            "_view_module_version": "1.5.0",
            "orientation": "horizontal",
            "min": 0,
            "description_tooltip": null,
            "_model_module": "@jupyter-widgets/controls",
            "layout": "IPY_MODEL_3e815d8fba7a42b6bc3e39f4b665ca31"
          }
        },
        "8fbba5b3636b4c05960d0c70b60a3665": {
          "model_module": "@jupyter-widgets/controls",
          "model_name": "DescriptionStyleModel",
          "model_module_version": "1.5.0",
          "state": {
            "_view_name": "StyleView",
            "_model_name": "DescriptionStyleModel",
            "description_width": "",
            "_view_module": "@jupyter-widgets/base",
            "_model_module_version": "1.5.0",
            "_view_count": null,
            "_view_module_version": "1.2.0",
            "_model_module": "@jupyter-widgets/controls"
          }
        },
        "0798de4ff3f94892ab45f78769abcabc": {
          "model_module": "@jupyter-widgets/base",
          "model_name": "LayoutModel",
          "model_module_version": "1.2.0",
          "state": {
            "_view_name": "LayoutView",
            "grid_template_rows": null,
            "right": null,
            "justify_content": null,
            "_view_module": "@jupyter-widgets/base",
            "overflow": null,
            "_model_module_version": "1.2.0",
            "_view_count": null,
            "flex_flow": null,
            "width": null,
            "min_width": null,
            "border": null,
            "align_items": null,
            "bottom": null,
            "_model_module": "@jupyter-widgets/base",
            "top": null,
            "grid_column": null,
            "overflow_y": null,
            "overflow_x": null,
            "grid_auto_flow": null,
            "grid_area": null,
            "grid_template_columns": null,
            "flex": null,
            "_model_name": "LayoutModel",
            "justify_items": null,
            "grid_row": null,
            "max_height": null,
            "align_content": null,
            "visibility": null,
            "align_self": null,
            "height": null,
            "min_height": null,
            "padding": null,
            "grid_auto_rows": null,
            "grid_gap": null,
            "max_width": null,
            "order": null,
            "_view_module_version": "1.2.0",
            "grid_template_areas": null,
            "object_position": null,
            "object_fit": null,
            "grid_auto_columns": null,
            "margin": null,
            "display": null,
            "left": null
          }
        },
        "4dfcc04ba84747a8a3693a4522b3072d": {
          "model_module": "@jupyter-widgets/controls",
          "model_name": "ProgressStyleModel",
          "model_module_version": "1.5.0",
          "state": {
            "_view_name": "StyleView",
            "_model_name": "ProgressStyleModel",
            "description_width": "",
            "_view_module": "@jupyter-widgets/base",
            "_model_module_version": "1.5.0",
            "_view_count": null,
            "_view_module_version": "1.2.0",
            "bar_color": null,
            "_model_module": "@jupyter-widgets/controls"
          }
        },
        "3e815d8fba7a42b6bc3e39f4b665ca31": {
          "model_module": "@jupyter-widgets/base",
          "model_name": "LayoutModel",
          "model_module_version": "1.2.0",
          "state": {
            "_view_name": "LayoutView",
            "grid_template_rows": null,
            "right": null,
            "justify_content": null,
            "_view_module": "@jupyter-widgets/base",
            "overflow": null,
            "_model_module_version": "1.2.0",
            "_view_count": null,
            "flex_flow": null,
            "width": null,
            "min_width": null,
            "border": null,
            "align_items": null,
            "bottom": null,
            "_model_module": "@jupyter-widgets/base",
            "top": null,
            "grid_column": null,
            "overflow_y": null,
            "overflow_x": null,
            "grid_auto_flow": null,
            "grid_area": null,
            "grid_template_columns": null,
            "flex": null,
            "_model_name": "LayoutModel",
            "justify_items": null,
            "grid_row": null,
            "max_height": null,
            "align_content": null,
            "visibility": null,
            "align_self": null,
            "height": null,
            "min_height": null,
            "padding": null,
            "grid_auto_rows": null,
            "grid_gap": null,
            "max_width": null,
            "order": null,
            "_view_module_version": "1.2.0",
            "grid_template_areas": null,
            "object_position": null,
            "object_fit": null,
            "grid_auto_columns": null,
            "margin": null,
            "display": null,
            "left": null
          }
        },
        "0f142dd1851341fab31fae563367ac34": {
          "model_module": "@jupyter-widgets/controls",
          "model_name": "VBoxModel",
          "model_module_version": "1.5.0",
          "state": {
            "_view_name": "VBoxView",
            "_dom_classes": [],
            "_model_name": "VBoxModel",
            "_view_module": "@jupyter-widgets/controls",
            "_model_module_version": "1.5.0",
            "_view_count": null,
            "_view_module_version": "1.5.0",
            "box_style": "",
            "layout": "IPY_MODEL_486d25443006489fb8c7c9b1f823831e",
            "_model_module": "@jupyter-widgets/controls",
            "children": [
              "IPY_MODEL_45d8e70b4ade438da319f1768936e5a4",
              "IPY_MODEL_91746f4273ff432a838071ac47411fe9"
            ]
          }
        },
        "486d25443006489fb8c7c9b1f823831e": {
          "model_module": "@jupyter-widgets/base",
          "model_name": "LayoutModel",
          "model_module_version": "1.2.0",
          "state": {
            "_view_name": "LayoutView",
            "grid_template_rows": null,
            "right": null,
            "justify_content": null,
            "_view_module": "@jupyter-widgets/base",
            "overflow": null,
            "_model_module_version": "1.2.0",
            "_view_count": null,
            "flex_flow": null,
            "width": null,
            "min_width": null,
            "border": null,
            "align_items": null,
            "bottom": null,
            "_model_module": "@jupyter-widgets/base",
            "top": null,
            "grid_column": null,
            "overflow_y": null,
            "overflow_x": null,
            "grid_auto_flow": null,
            "grid_area": null,
            "grid_template_columns": null,
            "flex": null,
            "_model_name": "LayoutModel",
            "justify_items": null,
            "grid_row": null,
            "max_height": null,
            "align_content": null,
            "visibility": null,
            "align_self": null,
            "height": null,
            "min_height": null,
            "padding": null,
            "grid_auto_rows": null,
            "grid_gap": null,
            "max_width": null,
            "order": null,
            "_view_module_version": "1.2.0",
            "grid_template_areas": null,
            "object_position": null,
            "object_fit": null,
            "grid_auto_columns": null,
            "margin": null,
            "display": null,
            "left": null
          }
        },
        "45d8e70b4ade438da319f1768936e5a4": {
          "model_module": "@jupyter-widgets/controls",
          "model_name": "LabelModel",
          "model_module_version": "1.5.0",
          "state": {
            "_view_name": "LabelView",
            "style": "IPY_MODEL_1494b3e5f54b4a2fb7ff184e3d058a39",
            "_dom_classes": [],
            "description": "",
            "_model_name": "LabelModel",
            "placeholder": "​",
            "_view_module": "@jupyter-widgets/controls",
            "_model_module_version": "1.5.0",
            "value": " 0.40MB of 0.40MB uploaded (0.00MB deduped)\r",
            "_view_count": null,
            "_view_module_version": "1.5.0",
            "description_tooltip": null,
            "_model_module": "@jupyter-widgets/controls",
            "layout": "IPY_MODEL_9ddbc164da9a4437bd41b719682a591e"
          }
        },
        "91746f4273ff432a838071ac47411fe9": {
          "model_module": "@jupyter-widgets/controls",
          "model_name": "FloatProgressModel",
          "model_module_version": "1.5.0",
          "state": {
            "_view_name": "ProgressView",
            "style": "IPY_MODEL_8c3b225f14104d8dbad305bdb17b32f0",
            "_dom_classes": [],
            "description": "",
            "_model_name": "FloatProgressModel",
            "bar_style": "",
            "max": 1,
            "_view_module": "@jupyter-widgets/controls",
            "_model_module_version": "1.5.0",
            "value": 1,
            "_view_count": null,
            "_view_module_version": "1.5.0",
            "orientation": "horizontal",
            "min": 0,
            "description_tooltip": null,
            "_model_module": "@jupyter-widgets/controls",
            "layout": "IPY_MODEL_2cd98eb87a294f999cd1458e0bd47352"
          }
        },
        "1494b3e5f54b4a2fb7ff184e3d058a39": {
          "model_module": "@jupyter-widgets/controls",
          "model_name": "DescriptionStyleModel",
          "model_module_version": "1.5.0",
          "state": {
            "_view_name": "StyleView",
            "_model_name": "DescriptionStyleModel",
            "description_width": "",
            "_view_module": "@jupyter-widgets/base",
            "_model_module_version": "1.5.0",
            "_view_count": null,
            "_view_module_version": "1.2.0",
            "_model_module": "@jupyter-widgets/controls"
          }
        },
        "9ddbc164da9a4437bd41b719682a591e": {
          "model_module": "@jupyter-widgets/base",
          "model_name": "LayoutModel",
          "model_module_version": "1.2.0",
          "state": {
            "_view_name": "LayoutView",
            "grid_template_rows": null,
            "right": null,
            "justify_content": null,
            "_view_module": "@jupyter-widgets/base",
            "overflow": null,
            "_model_module_version": "1.2.0",
            "_view_count": null,
            "flex_flow": null,
            "width": null,
            "min_width": null,
            "border": null,
            "align_items": null,
            "bottom": null,
            "_model_module": "@jupyter-widgets/base",
            "top": null,
            "grid_column": null,
            "overflow_y": null,
            "overflow_x": null,
            "grid_auto_flow": null,
            "grid_area": null,
            "grid_template_columns": null,
            "flex": null,
            "_model_name": "LayoutModel",
            "justify_items": null,
            "grid_row": null,
            "max_height": null,
            "align_content": null,
            "visibility": null,
            "align_self": null,
            "height": null,
            "min_height": null,
            "padding": null,
            "grid_auto_rows": null,
            "grid_gap": null,
            "max_width": null,
            "order": null,
            "_view_module_version": "1.2.0",
            "grid_template_areas": null,
            "object_position": null,
            "object_fit": null,
            "grid_auto_columns": null,
            "margin": null,
            "display": null,
            "left": null
          }
        },
        "8c3b225f14104d8dbad305bdb17b32f0": {
          "model_module": "@jupyter-widgets/controls",
          "model_name": "ProgressStyleModel",
          "model_module_version": "1.5.0",
          "state": {
            "_view_name": "StyleView",
            "_model_name": "ProgressStyleModel",
            "description_width": "",
            "_view_module": "@jupyter-widgets/base",
            "_model_module_version": "1.5.0",
            "_view_count": null,
            "_view_module_version": "1.2.0",
            "bar_color": null,
            "_model_module": "@jupyter-widgets/controls"
          }
        },
        "2cd98eb87a294f999cd1458e0bd47352": {
          "model_module": "@jupyter-widgets/base",
          "model_name": "LayoutModel",
          "model_module_version": "1.2.0",
          "state": {
            "_view_name": "LayoutView",
            "grid_template_rows": null,
            "right": null,
            "justify_content": null,
            "_view_module": "@jupyter-widgets/base",
            "overflow": null,
            "_model_module_version": "1.2.0",
            "_view_count": null,
            "flex_flow": null,
            "width": null,
            "min_width": null,
            "border": null,
            "align_items": null,
            "bottom": null,
            "_model_module": "@jupyter-widgets/base",
            "top": null,
            "grid_column": null,
            "overflow_y": null,
            "overflow_x": null,
            "grid_auto_flow": null,
            "grid_area": null,
            "grid_template_columns": null,
            "flex": null,
            "_model_name": "LayoutModel",
            "justify_items": null,
            "grid_row": null,
            "max_height": null,
            "align_content": null,
            "visibility": null,
            "align_self": null,
            "height": null,
            "min_height": null,
            "padding": null,
            "grid_auto_rows": null,
            "grid_gap": null,
            "max_width": null,
            "order": null,
            "_view_module_version": "1.2.0",
            "grid_template_areas": null,
            "object_position": null,
            "object_fit": null,
            "grid_auto_columns": null,
            "margin": null,
            "display": null,
            "left": null
          }
        },
        "0a32277671af40dcbd6534e7f0c9afd0": {
          "model_module": "@jupyter-widgets/controls",
          "model_name": "VBoxModel",
          "model_module_version": "1.5.0",
          "state": {
            "_view_name": "VBoxView",
            "_dom_classes": [],
            "_model_name": "VBoxModel",
            "_view_module": "@jupyter-widgets/controls",
            "_model_module_version": "1.5.0",
            "_view_count": null,
            "_view_module_version": "1.5.0",
            "box_style": "",
            "layout": "IPY_MODEL_f9cc378346084a8a8f02fab587b88d7d",
            "_model_module": "@jupyter-widgets/controls",
            "children": [
              "IPY_MODEL_a817628b0a3748e88d7e3359051aa70f",
              "IPY_MODEL_8d287fa2df934aecb94c88f8ce3a4171"
            ]
          }
        },
        "f9cc378346084a8a8f02fab587b88d7d": {
          "model_module": "@jupyter-widgets/base",
          "model_name": "LayoutModel",
          "model_module_version": "1.2.0",
          "state": {
            "_view_name": "LayoutView",
            "grid_template_rows": null,
            "right": null,
            "justify_content": null,
            "_view_module": "@jupyter-widgets/base",
            "overflow": null,
            "_model_module_version": "1.2.0",
            "_view_count": null,
            "flex_flow": null,
            "width": null,
            "min_width": null,
            "border": null,
            "align_items": null,
            "bottom": null,
            "_model_module": "@jupyter-widgets/base",
            "top": null,
            "grid_column": null,
            "overflow_y": null,
            "overflow_x": null,
            "grid_auto_flow": null,
            "grid_area": null,
            "grid_template_columns": null,
            "flex": null,
            "_model_name": "LayoutModel",
            "justify_items": null,
            "grid_row": null,
            "max_height": null,
            "align_content": null,
            "visibility": null,
            "align_self": null,
            "height": null,
            "min_height": null,
            "padding": null,
            "grid_auto_rows": null,
            "grid_gap": null,
            "max_width": null,
            "order": null,
            "_view_module_version": "1.2.0",
            "grid_template_areas": null,
            "object_position": null,
            "object_fit": null,
            "grid_auto_columns": null,
            "margin": null,
            "display": null,
            "left": null
          }
        },
        "a817628b0a3748e88d7e3359051aa70f": {
          "model_module": "@jupyter-widgets/controls",
          "model_name": "LabelModel",
          "model_module_version": "1.5.0",
          "state": {
            "_view_name": "LabelView",
            "style": "IPY_MODEL_cba680f0198942bebecf42afac8fdf3f",
            "_dom_classes": [],
            "description": "",
            "_model_name": "LabelModel",
            "placeholder": "​",
            "_view_module": "@jupyter-widgets/controls",
            "_model_module_version": "1.5.0",
            "value": " 0.01MB of 0.01MB uploaded (0.00MB deduped)\r",
            "_view_count": null,
            "_view_module_version": "1.5.0",
            "description_tooltip": null,
            "_model_module": "@jupyter-widgets/controls",
            "layout": "IPY_MODEL_6828ee530eb642859c3a8e5263bce0fd"
          }
        },
        "8d287fa2df934aecb94c88f8ce3a4171": {
          "model_module": "@jupyter-widgets/controls",
          "model_name": "FloatProgressModel",
          "model_module_version": "1.5.0",
          "state": {
            "_view_name": "ProgressView",
            "style": "IPY_MODEL_b3bd05b579b2447f8d21f600c0edda9d",
            "_dom_classes": [],
            "description": "",
            "_model_name": "FloatProgressModel",
            "bar_style": "",
            "max": 1,
            "_view_module": "@jupyter-widgets/controls",
            "_model_module_version": "1.5.0",
            "value": 1,
            "_view_count": null,
            "_view_module_version": "1.5.0",
            "orientation": "horizontal",
            "min": 0,
            "description_tooltip": null,
            "_model_module": "@jupyter-widgets/controls",
            "layout": "IPY_MODEL_fbde4a94e51149cfa1818ef86e445971"
          }
        },
        "cba680f0198942bebecf42afac8fdf3f": {
          "model_module": "@jupyter-widgets/controls",
          "model_name": "DescriptionStyleModel",
          "model_module_version": "1.5.0",
          "state": {
            "_view_name": "StyleView",
            "_model_name": "DescriptionStyleModel",
            "description_width": "",
            "_view_module": "@jupyter-widgets/base",
            "_model_module_version": "1.5.0",
            "_view_count": null,
            "_view_module_version": "1.2.0",
            "_model_module": "@jupyter-widgets/controls"
          }
        },
        "6828ee530eb642859c3a8e5263bce0fd": {
          "model_module": "@jupyter-widgets/base",
          "model_name": "LayoutModel",
          "model_module_version": "1.2.0",
          "state": {
            "_view_name": "LayoutView",
            "grid_template_rows": null,
            "right": null,
            "justify_content": null,
            "_view_module": "@jupyter-widgets/base",
            "overflow": null,
            "_model_module_version": "1.2.0",
            "_view_count": null,
            "flex_flow": null,
            "width": null,
            "min_width": null,
            "border": null,
            "align_items": null,
            "bottom": null,
            "_model_module": "@jupyter-widgets/base",
            "top": null,
            "grid_column": null,
            "overflow_y": null,
            "overflow_x": null,
            "grid_auto_flow": null,
            "grid_area": null,
            "grid_template_columns": null,
            "flex": null,
            "_model_name": "LayoutModel",
            "justify_items": null,
            "grid_row": null,
            "max_height": null,
            "align_content": null,
            "visibility": null,
            "align_self": null,
            "height": null,
            "min_height": null,
            "padding": null,
            "grid_auto_rows": null,
            "grid_gap": null,
            "max_width": null,
            "order": null,
            "_view_module_version": "1.2.0",
            "grid_template_areas": null,
            "object_position": null,
            "object_fit": null,
            "grid_auto_columns": null,
            "margin": null,
            "display": null,
            "left": null
          }
        },
        "b3bd05b579b2447f8d21f600c0edda9d": {
          "model_module": "@jupyter-widgets/controls",
          "model_name": "ProgressStyleModel",
          "model_module_version": "1.5.0",
          "state": {
            "_view_name": "StyleView",
            "_model_name": "ProgressStyleModel",
            "description_width": "",
            "_view_module": "@jupyter-widgets/base",
            "_model_module_version": "1.5.0",
            "_view_count": null,
            "_view_module_version": "1.2.0",
            "bar_color": null,
            "_model_module": "@jupyter-widgets/controls"
          }
        },
        "fbde4a94e51149cfa1818ef86e445971": {
          "model_module": "@jupyter-widgets/base",
          "model_name": "LayoutModel",
          "model_module_version": "1.2.0",
          "state": {
            "_view_name": "LayoutView",
            "grid_template_rows": null,
            "right": null,
            "justify_content": null,
            "_view_module": "@jupyter-widgets/base",
            "overflow": null,
            "_model_module_version": "1.2.0",
            "_view_count": null,
            "flex_flow": null,
            "width": null,
            "min_width": null,
            "border": null,
            "align_items": null,
            "bottom": null,
            "_model_module": "@jupyter-widgets/base",
            "top": null,
            "grid_column": null,
            "overflow_y": null,
            "overflow_x": null,
            "grid_auto_flow": null,
            "grid_area": null,
            "grid_template_columns": null,
            "flex": null,
            "_model_name": "LayoutModel",
            "justify_items": null,
            "grid_row": null,
            "max_height": null,
            "align_content": null,
            "visibility": null,
            "align_self": null,
            "height": null,
            "min_height": null,
            "padding": null,
            "grid_auto_rows": null,
            "grid_gap": null,
            "max_width": null,
            "order": null,
            "_view_module_version": "1.2.0",
            "grid_template_areas": null,
            "object_position": null,
            "object_fit": null,
            "grid_auto_columns": null,
            "margin": null,
            "display": null,
            "left": null
          }
        },
        "76f2e6369f5f49c7a8a0cfba413723f0": {
          "model_module": "@jupyter-widgets/controls",
          "model_name": "VBoxModel",
          "model_module_version": "1.5.0",
          "state": {
            "_view_name": "VBoxView",
            "_dom_classes": [],
            "_model_name": "VBoxModel",
            "_view_module": "@jupyter-widgets/controls",
            "_model_module_version": "1.5.0",
            "_view_count": null,
            "_view_module_version": "1.5.0",
            "box_style": "",
            "layout": "IPY_MODEL_18dbbb38309a42ae980fa029a2881ec5",
            "_model_module": "@jupyter-widgets/controls",
            "children": [
              "IPY_MODEL_b047e0d0f6e74e5fa86d39ee5face0b9",
              "IPY_MODEL_f6e5b9ff39ed4ccfb11fe7c038491dd6"
            ]
          }
        },
        "18dbbb38309a42ae980fa029a2881ec5": {
          "model_module": "@jupyter-widgets/base",
          "model_name": "LayoutModel",
          "model_module_version": "1.2.0",
          "state": {
            "_view_name": "LayoutView",
            "grid_template_rows": null,
            "right": null,
            "justify_content": null,
            "_view_module": "@jupyter-widgets/base",
            "overflow": null,
            "_model_module_version": "1.2.0",
            "_view_count": null,
            "flex_flow": null,
            "width": null,
            "min_width": null,
            "border": null,
            "align_items": null,
            "bottom": null,
            "_model_module": "@jupyter-widgets/base",
            "top": null,
            "grid_column": null,
            "overflow_y": null,
            "overflow_x": null,
            "grid_auto_flow": null,
            "grid_area": null,
            "grid_template_columns": null,
            "flex": null,
            "_model_name": "LayoutModel",
            "justify_items": null,
            "grid_row": null,
            "max_height": null,
            "align_content": null,
            "visibility": null,
            "align_self": null,
            "height": null,
            "min_height": null,
            "padding": null,
            "grid_auto_rows": null,
            "grid_gap": null,
            "max_width": null,
            "order": null,
            "_view_module_version": "1.2.0",
            "grid_template_areas": null,
            "object_position": null,
            "object_fit": null,
            "grid_auto_columns": null,
            "margin": null,
            "display": null,
            "left": null
          }
        },
        "b047e0d0f6e74e5fa86d39ee5face0b9": {
          "model_module": "@jupyter-widgets/controls",
          "model_name": "LabelModel",
          "model_module_version": "1.5.0",
          "state": {
            "_view_name": "LabelView",
            "style": "IPY_MODEL_987835ab6c4d47679fc0c96f0adec616",
            "_dom_classes": [],
            "description": "",
            "_model_name": "LabelModel",
            "placeholder": "​",
            "_view_module": "@jupyter-widgets/controls",
            "_model_module_version": "1.5.0",
            "value": " 0.01MB of 0.01MB uploaded (0.00MB deduped)\r",
            "_view_count": null,
            "_view_module_version": "1.5.0",
            "description_tooltip": null,
            "_model_module": "@jupyter-widgets/controls",
            "layout": "IPY_MODEL_29f47fe37fac477f82b3efec654ca487"
          }
        },
        "f6e5b9ff39ed4ccfb11fe7c038491dd6": {
          "model_module": "@jupyter-widgets/controls",
          "model_name": "FloatProgressModel",
          "model_module_version": "1.5.0",
          "state": {
            "_view_name": "ProgressView",
            "style": "IPY_MODEL_b09a14cb7d9f4761b1babd6b472bedd5",
            "_dom_classes": [],
            "description": "",
            "_model_name": "FloatProgressModel",
            "bar_style": "",
            "max": 1,
            "_view_module": "@jupyter-widgets/controls",
            "_model_module_version": "1.5.0",
            "value": 1,
            "_view_count": null,
            "_view_module_version": "1.5.0",
            "orientation": "horizontal",
            "min": 0,
            "description_tooltip": null,
            "_model_module": "@jupyter-widgets/controls",
            "layout": "IPY_MODEL_6e22ef2ac94d43a59e8ffd2e21a71e17"
          }
        },
        "987835ab6c4d47679fc0c96f0adec616": {
          "model_module": "@jupyter-widgets/controls",
          "model_name": "DescriptionStyleModel",
          "model_module_version": "1.5.0",
          "state": {
            "_view_name": "StyleView",
            "_model_name": "DescriptionStyleModel",
            "description_width": "",
            "_view_module": "@jupyter-widgets/base",
            "_model_module_version": "1.5.0",
            "_view_count": null,
            "_view_module_version": "1.2.0",
            "_model_module": "@jupyter-widgets/controls"
          }
        },
        "29f47fe37fac477f82b3efec654ca487": {
          "model_module": "@jupyter-widgets/base",
          "model_name": "LayoutModel",
          "model_module_version": "1.2.0",
          "state": {
            "_view_name": "LayoutView",
            "grid_template_rows": null,
            "right": null,
            "justify_content": null,
            "_view_module": "@jupyter-widgets/base",
            "overflow": null,
            "_model_module_version": "1.2.0",
            "_view_count": null,
            "flex_flow": null,
            "width": null,
            "min_width": null,
            "border": null,
            "align_items": null,
            "bottom": null,
            "_model_module": "@jupyter-widgets/base",
            "top": null,
            "grid_column": null,
            "overflow_y": null,
            "overflow_x": null,
            "grid_auto_flow": null,
            "grid_area": null,
            "grid_template_columns": null,
            "flex": null,
            "_model_name": "LayoutModel",
            "justify_items": null,
            "grid_row": null,
            "max_height": null,
            "align_content": null,
            "visibility": null,
            "align_self": null,
            "height": null,
            "min_height": null,
            "padding": null,
            "grid_auto_rows": null,
            "grid_gap": null,
            "max_width": null,
            "order": null,
            "_view_module_version": "1.2.0",
            "grid_template_areas": null,
            "object_position": null,
            "object_fit": null,
            "grid_auto_columns": null,
            "margin": null,
            "display": null,
            "left": null
          }
        },
        "b09a14cb7d9f4761b1babd6b472bedd5": {
          "model_module": "@jupyter-widgets/controls",
          "model_name": "ProgressStyleModel",
          "model_module_version": "1.5.0",
          "state": {
            "_view_name": "StyleView",
            "_model_name": "ProgressStyleModel",
            "description_width": "",
            "_view_module": "@jupyter-widgets/base",
            "_model_module_version": "1.5.0",
            "_view_count": null,
            "_view_module_version": "1.2.0",
            "bar_color": null,
            "_model_module": "@jupyter-widgets/controls"
          }
        },
        "6e22ef2ac94d43a59e8ffd2e21a71e17": {
          "model_module": "@jupyter-widgets/base",
          "model_name": "LayoutModel",
          "model_module_version": "1.2.0",
          "state": {
            "_view_name": "LayoutView",
            "grid_template_rows": null,
            "right": null,
            "justify_content": null,
            "_view_module": "@jupyter-widgets/base",
            "overflow": null,
            "_model_module_version": "1.2.0",
            "_view_count": null,
            "flex_flow": null,
            "width": null,
            "min_width": null,
            "border": null,
            "align_items": null,
            "bottom": null,
            "_model_module": "@jupyter-widgets/base",
            "top": null,
            "grid_column": null,
            "overflow_y": null,
            "overflow_x": null,
            "grid_auto_flow": null,
            "grid_area": null,
            "grid_template_columns": null,
            "flex": null,
            "_model_name": "LayoutModel",
            "justify_items": null,
            "grid_row": null,
            "max_height": null,
            "align_content": null,
            "visibility": null,
            "align_self": null,
            "height": null,
            "min_height": null,
            "padding": null,
            "grid_auto_rows": null,
            "grid_gap": null,
            "max_width": null,
            "order": null,
            "_view_module_version": "1.2.0",
            "grid_template_areas": null,
            "object_position": null,
            "object_fit": null,
            "grid_auto_columns": null,
            "margin": null,
            "display": null,
            "left": null
          }
        }
      }
    }
  },
  "cells": [
    {
      "cell_type": "markdown",
      "metadata": {
        "id": "view-in-github",
        "colab_type": "text"
      },
      "source": [
        "<a href=\"https://colab.research.google.com/github/yoonsongg/CP1/blob/main/CP_1_copyof_.ipynb\" target=\"_parent\"><img src=\"https://colab.research.google.com/assets/colab-badge.svg\" alt=\"Open In Colab\"/></a>"
      ]
    },
    {
      "cell_type": "code",
      "metadata": {
        "colab": {
          "base_uri": "https://localhost:8080/"
        },
        "id": "QEucZxC6ouum",
        "outputId": "57b36d3e-3256-4f9a-8786-33eee870271e"
      },
      "source": [
        "from google.colab import drive\n",
        "drive.mount('/content/drive')"
      ],
      "execution_count": 1,
      "outputs": [
        {
          "output_type": "stream",
          "name": "stdout",
          "text": [
            "Drive already mounted at /content/drive; to attempt to forcibly remount, call drive.mount(\"/content/drive\", force_remount=True).\n"
          ]
        }
      ]
    },
    {
      "cell_type": "code",
      "source": [
        "!pip install wandb"
      ],
      "metadata": {
        "colab": {
          "base_uri": "https://localhost:8080/"
        },
        "id": "WfiD7CAYNx4I",
        "outputId": "1188f299-4baf-4e82-ac81-1e968452622f"
      },
      "execution_count": 2,
      "outputs": [
        {
          "output_type": "stream",
          "name": "stdout",
          "text": [
            "Collecting wandb\n",
            "  Downloading wandb-0.12.9-py2.py3-none-any.whl (1.7 MB)\n",
            "\u001b[?25l\r\u001b[K     |▏                               | 10 kB 19.9 MB/s eta 0:00:01\r\u001b[K     |▍                               | 20 kB 22.0 MB/s eta 0:00:01\r\u001b[K     |▋                               | 30 kB 10.8 MB/s eta 0:00:01\r\u001b[K     |▊                               | 40 kB 12.1 MB/s eta 0:00:01\r\u001b[K     |█                               | 51 kB 10.9 MB/s eta 0:00:01\r\u001b[K     |█▏                              | 61 kB 11.1 MB/s eta 0:00:01\r\u001b[K     |█▍                              | 71 kB 10.0 MB/s eta 0:00:01\r\u001b[K     |█▌                              | 81 kB 11.0 MB/s eta 0:00:01\r\u001b[K     |█▊                              | 92 kB 11.3 MB/s eta 0:00:01\r\u001b[K     |██                              | 102 kB 10.9 MB/s eta 0:00:01\r\u001b[K     |██                              | 112 kB 10.9 MB/s eta 0:00:01\r\u001b[K     |██▎                             | 122 kB 10.9 MB/s eta 0:00:01\r\u001b[K     |██▌                             | 133 kB 10.9 MB/s eta 0:00:01\r\u001b[K     |██▊                             | 143 kB 10.9 MB/s eta 0:00:01\r\u001b[K     |██▉                             | 153 kB 10.9 MB/s eta 0:00:01\r\u001b[K     |███                             | 163 kB 10.9 MB/s eta 0:00:01\r\u001b[K     |███▎                            | 174 kB 10.9 MB/s eta 0:00:01\r\u001b[K     |███▍                            | 184 kB 10.9 MB/s eta 0:00:01\r\u001b[K     |███▋                            | 194 kB 10.9 MB/s eta 0:00:01\r\u001b[K     |███▉                            | 204 kB 10.9 MB/s eta 0:00:01\r\u001b[K     |████                            | 215 kB 10.9 MB/s eta 0:00:01\r\u001b[K     |████▏                           | 225 kB 10.9 MB/s eta 0:00:01\r\u001b[K     |████▍                           | 235 kB 10.9 MB/s eta 0:00:01\r\u001b[K     |████▋                           | 245 kB 10.9 MB/s eta 0:00:01\r\u001b[K     |████▉                           | 256 kB 10.9 MB/s eta 0:00:01\r\u001b[K     |█████                           | 266 kB 10.9 MB/s eta 0:00:01\r\u001b[K     |█████▏                          | 276 kB 10.9 MB/s eta 0:00:01\r\u001b[K     |█████▍                          | 286 kB 10.9 MB/s eta 0:00:01\r\u001b[K     |█████▌                          | 296 kB 10.9 MB/s eta 0:00:01\r\u001b[K     |█████▊                          | 307 kB 10.9 MB/s eta 0:00:01\r\u001b[K     |██████                          | 317 kB 10.9 MB/s eta 0:00:01\r\u001b[K     |██████▏                         | 327 kB 10.9 MB/s eta 0:00:01\r\u001b[K     |██████▎                         | 337 kB 10.9 MB/s eta 0:00:01\r\u001b[K     |██████▌                         | 348 kB 10.9 MB/s eta 0:00:01\r\u001b[K     |██████▊                         | 358 kB 10.9 MB/s eta 0:00:01\r\u001b[K     |██████▉                         | 368 kB 10.9 MB/s eta 0:00:01\r\u001b[K     |███████                         | 378 kB 10.9 MB/s eta 0:00:01\r\u001b[K     |███████▎                        | 389 kB 10.9 MB/s eta 0:00:01\r\u001b[K     |███████▌                        | 399 kB 10.9 MB/s eta 0:00:01\r\u001b[K     |███████▋                        | 409 kB 10.9 MB/s eta 0:00:01\r\u001b[K     |███████▉                        | 419 kB 10.9 MB/s eta 0:00:01\r\u001b[K     |████████                        | 430 kB 10.9 MB/s eta 0:00:01\r\u001b[K     |████████▎                       | 440 kB 10.9 MB/s eta 0:00:01\r\u001b[K     |████████▍                       | 450 kB 10.9 MB/s eta 0:00:01\r\u001b[K     |████████▋                       | 460 kB 10.9 MB/s eta 0:00:01\r\u001b[K     |████████▉                       | 471 kB 10.9 MB/s eta 0:00:01\r\u001b[K     |█████████                       | 481 kB 10.9 MB/s eta 0:00:01\r\u001b[K     |█████████▏                      | 491 kB 10.9 MB/s eta 0:00:01\r\u001b[K     |█████████▍                      | 501 kB 10.9 MB/s eta 0:00:01\r\u001b[K     |█████████▋                      | 512 kB 10.9 MB/s eta 0:00:01\r\u001b[K     |█████████▊                      | 522 kB 10.9 MB/s eta 0:00:01\r\u001b[K     |██████████                      | 532 kB 10.9 MB/s eta 0:00:01\r\u001b[K     |██████████▏                     | 542 kB 10.9 MB/s eta 0:00:01\r\u001b[K     |██████████▎                     | 552 kB 10.9 MB/s eta 0:00:01\r\u001b[K     |██████████▌                     | 563 kB 10.9 MB/s eta 0:00:01\r\u001b[K     |██████████▊                     | 573 kB 10.9 MB/s eta 0:00:01\r\u001b[K     |███████████                     | 583 kB 10.9 MB/s eta 0:00:01\r\u001b[K     |███████████                     | 593 kB 10.9 MB/s eta 0:00:01\r\u001b[K     |███████████▎                    | 604 kB 10.9 MB/s eta 0:00:01\r\u001b[K     |███████████▌                    | 614 kB 10.9 MB/s eta 0:00:01\r\u001b[K     |███████████▋                    | 624 kB 10.9 MB/s eta 0:00:01\r\u001b[K     |███████████▉                    | 634 kB 10.9 MB/s eta 0:00:01\r\u001b[K     |████████████                    | 645 kB 10.9 MB/s eta 0:00:01\r\u001b[K     |████████████▎                   | 655 kB 10.9 MB/s eta 0:00:01\r\u001b[K     |████████████▍                   | 665 kB 10.9 MB/s eta 0:00:01\r\u001b[K     |████████████▋                   | 675 kB 10.9 MB/s eta 0:00:01\r\u001b[K     |████████████▉                   | 686 kB 10.9 MB/s eta 0:00:01\r\u001b[K     |█████████████                   | 696 kB 10.9 MB/s eta 0:00:01\r\u001b[K     |█████████████▏                  | 706 kB 10.9 MB/s eta 0:00:01\r\u001b[K     |█████████████▍                  | 716 kB 10.9 MB/s eta 0:00:01\r\u001b[K     |█████████████▋                  | 727 kB 10.9 MB/s eta 0:00:01\r\u001b[K     |█████████████▊                  | 737 kB 10.9 MB/s eta 0:00:01\r\u001b[K     |██████████████                  | 747 kB 10.9 MB/s eta 0:00:01\r\u001b[K     |██████████████▏                 | 757 kB 10.9 MB/s eta 0:00:01\r\u001b[K     |██████████████▍                 | 768 kB 10.9 MB/s eta 0:00:01\r\u001b[K     |██████████████▌                 | 778 kB 10.9 MB/s eta 0:00:01\r\u001b[K     |██████████████▊                 | 788 kB 10.9 MB/s eta 0:00:01\r\u001b[K     |███████████████                 | 798 kB 10.9 MB/s eta 0:00:01\r\u001b[K     |███████████████                 | 808 kB 10.9 MB/s eta 0:00:01\r\u001b[K     |███████████████▎                | 819 kB 10.9 MB/s eta 0:00:01\r\u001b[K     |███████████████▌                | 829 kB 10.9 MB/s eta 0:00:01\r\u001b[K     |███████████████▊                | 839 kB 10.9 MB/s eta 0:00:01\r\u001b[K     |███████████████▉                | 849 kB 10.9 MB/s eta 0:00:01\r\u001b[K     |████████████████                | 860 kB 10.9 MB/s eta 0:00:01\r\u001b[K     |████████████████▎               | 870 kB 10.9 MB/s eta 0:00:01\r\u001b[K     |████████████████▌               | 880 kB 10.9 MB/s eta 0:00:01\r\u001b[K     |████████████████▋               | 890 kB 10.9 MB/s eta 0:00:01\r\u001b[K     |████████████████▉               | 901 kB 10.9 MB/s eta 0:00:01\r\u001b[K     |█████████████████               | 911 kB 10.9 MB/s eta 0:00:01\r\u001b[K     |█████████████████▏              | 921 kB 10.9 MB/s eta 0:00:01\r\u001b[K     |█████████████████▍              | 931 kB 10.9 MB/s eta 0:00:01\r\u001b[K     |█████████████████▋              | 942 kB 10.9 MB/s eta 0:00:01\r\u001b[K     |█████████████████▉              | 952 kB 10.9 MB/s eta 0:00:01\r\u001b[K     |██████████████████              | 962 kB 10.9 MB/s eta 0:00:01\r\u001b[K     |██████████████████▏             | 972 kB 10.9 MB/s eta 0:00:01\r\u001b[K     |██████████████████▍             | 983 kB 10.9 MB/s eta 0:00:01\r\u001b[K     |██████████████████▌             | 993 kB 10.9 MB/s eta 0:00:01\r\u001b[K     |██████████████████▊             | 1.0 MB 10.9 MB/s eta 0:00:01\r\u001b[K     |███████████████████             | 1.0 MB 10.9 MB/s eta 0:00:01\r\u001b[K     |███████████████████▏            | 1.0 MB 10.9 MB/s eta 0:00:01\r\u001b[K     |███████████████████▎            | 1.0 MB 10.9 MB/s eta 0:00:01\r\u001b[K     |███████████████████▌            | 1.0 MB 10.9 MB/s eta 0:00:01\r\u001b[K     |███████████████████▊            | 1.1 MB 10.9 MB/s eta 0:00:01\r\u001b[K     |███████████████████▉            | 1.1 MB 10.9 MB/s eta 0:00:01\r\u001b[K     |████████████████████            | 1.1 MB 10.9 MB/s eta 0:00:01\r\u001b[K     |████████████████████▎           | 1.1 MB 10.9 MB/s eta 0:00:01\r\u001b[K     |████████████████████▌           | 1.1 MB 10.9 MB/s eta 0:00:01\r\u001b[K     |████████████████████▋           | 1.1 MB 10.9 MB/s eta 0:00:01\r\u001b[K     |████████████████████▉           | 1.1 MB 10.9 MB/s eta 0:00:01\r\u001b[K     |█████████████████████           | 1.1 MB 10.9 MB/s eta 0:00:01\r\u001b[K     |█████████████████████▎          | 1.1 MB 10.9 MB/s eta 0:00:01\r\u001b[K     |█████████████████████▍          | 1.1 MB 10.9 MB/s eta 0:00:01\r\u001b[K     |█████████████████████▋          | 1.2 MB 10.9 MB/s eta 0:00:01\r\u001b[K     |█████████████████████▉          | 1.2 MB 10.9 MB/s eta 0:00:01\r\u001b[K     |██████████████████████          | 1.2 MB 10.9 MB/s eta 0:00:01\r\u001b[K     |██████████████████████▏         | 1.2 MB 10.9 MB/s eta 0:00:01\r\u001b[K     |██████████████████████▍         | 1.2 MB 10.9 MB/s eta 0:00:01\r\u001b[K     |██████████████████████▋         | 1.2 MB 10.9 MB/s eta 0:00:01\r\u001b[K     |██████████████████████▊         | 1.2 MB 10.9 MB/s eta 0:00:01\r\u001b[K     |███████████████████████         | 1.2 MB 10.9 MB/s eta 0:00:01\r\u001b[K     |███████████████████████▏        | 1.2 MB 10.9 MB/s eta 0:00:01\r\u001b[K     |███████████████████████▎        | 1.2 MB 10.9 MB/s eta 0:00:01\r\u001b[K     |███████████████████████▌        | 1.3 MB 10.9 MB/s eta 0:00:01\r\u001b[K     |███████████████████████▊        | 1.3 MB 10.9 MB/s eta 0:00:01\r\u001b[K     |████████████████████████        | 1.3 MB 10.9 MB/s eta 0:00:01\r\u001b[K     |████████████████████████        | 1.3 MB 10.9 MB/s eta 0:00:01\r\u001b[K     |████████████████████████▎       | 1.3 MB 10.9 MB/s eta 0:00:01\r\u001b[K     |████████████████████████▌       | 1.3 MB 10.9 MB/s eta 0:00:01\r\u001b[K     |████████████████████████▊       | 1.3 MB 10.9 MB/s eta 0:00:01\r\u001b[K     |████████████████████████▉       | 1.3 MB 10.9 MB/s eta 0:00:01\r\u001b[K     |█████████████████████████       | 1.3 MB 10.9 MB/s eta 0:00:01\r\u001b[K     |█████████████████████████▎      | 1.4 MB 10.9 MB/s eta 0:00:01\r\u001b[K     |█████████████████████████▍      | 1.4 MB 10.9 MB/s eta 0:00:01\r\u001b[K     |█████████████████████████▋      | 1.4 MB 10.9 MB/s eta 0:00:01\r\u001b[K     |█████████████████████████▉      | 1.4 MB 10.9 MB/s eta 0:00:01\r\u001b[K     |██████████████████████████      | 1.4 MB 10.9 MB/s eta 0:00:01\r\u001b[K     |██████████████████████████▏     | 1.4 MB 10.9 MB/s eta 0:00:01\r\u001b[K     |██████████████████████████▍     | 1.4 MB 10.9 MB/s eta 0:00:01\r\u001b[K     |██████████████████████████▋     | 1.4 MB 10.9 MB/s eta 0:00:01\r\u001b[K     |██████████████████████████▊     | 1.4 MB 10.9 MB/s eta 0:00:01\r\u001b[K     |███████████████████████████     | 1.4 MB 10.9 MB/s eta 0:00:01\r\u001b[K     |███████████████████████████▏    | 1.5 MB 10.9 MB/s eta 0:00:01\r\u001b[K     |███████████████████████████▍    | 1.5 MB 10.9 MB/s eta 0:00:01\r\u001b[K     |███████████████████████████▌    | 1.5 MB 10.9 MB/s eta 0:00:01\r\u001b[K     |███████████████████████████▊    | 1.5 MB 10.9 MB/s eta 0:00:01\r\u001b[K     |████████████████████████████    | 1.5 MB 10.9 MB/s eta 0:00:01\r\u001b[K     |████████████████████████████▏   | 1.5 MB 10.9 MB/s eta 0:00:01\r\u001b[K     |████████████████████████████▎   | 1.5 MB 10.9 MB/s eta 0:00:01\r\u001b[K     |████████████████████████████▌   | 1.5 MB 10.9 MB/s eta 0:00:01\r\u001b[K     |████████████████████████████▊   | 1.5 MB 10.9 MB/s eta 0:00:01\r\u001b[K     |████████████████████████████▉   | 1.5 MB 10.9 MB/s eta 0:00:01\r\u001b[K     |█████████████████████████████   | 1.6 MB 10.9 MB/s eta 0:00:01\r\u001b[K     |█████████████████████████████▎  | 1.6 MB 10.9 MB/s eta 0:00:01\r\u001b[K     |█████████████████████████████▌  | 1.6 MB 10.9 MB/s eta 0:00:01\r\u001b[K     |█████████████████████████████▋  | 1.6 MB 10.9 MB/s eta 0:00:01\r\u001b[K     |█████████████████████████████▉  | 1.6 MB 10.9 MB/s eta 0:00:01\r\u001b[K     |██████████████████████████████  | 1.6 MB 10.9 MB/s eta 0:00:01\r\u001b[K     |██████████████████████████████▏ | 1.6 MB 10.9 MB/s eta 0:00:01\r\u001b[K     |██████████████████████████████▍ | 1.6 MB 10.9 MB/s eta 0:00:01\r\u001b[K     |██████████████████████████████▋ | 1.6 MB 10.9 MB/s eta 0:00:01\r\u001b[K     |██████████████████████████████▉ | 1.6 MB 10.9 MB/s eta 0:00:01\r\u001b[K     |███████████████████████████████ | 1.7 MB 10.9 MB/s eta 0:00:01\r\u001b[K     |███████████████████████████████▏| 1.7 MB 10.9 MB/s eta 0:00:01\r\u001b[K     |███████████████████████████████▍| 1.7 MB 10.9 MB/s eta 0:00:01\r\u001b[K     |███████████████████████████████▌| 1.7 MB 10.9 MB/s eta 0:00:01\r\u001b[K     |███████████████████████████████▊| 1.7 MB 10.9 MB/s eta 0:00:01\r\u001b[K     |████████████████████████████████| 1.7 MB 10.9 MB/s eta 0:00:01\r\u001b[K     |████████████████████████████████| 1.7 MB 10.9 MB/s \n",
            "\u001b[?25hRequirement already satisfied: psutil>=5.0.0 in /usr/local/lib/python3.7/dist-packages (from wandb) (5.4.8)\n",
            "Requirement already satisfied: PyYAML in /usr/local/lib/python3.7/dist-packages (from wandb) (3.13)\n",
            "Collecting pathtools\n",
            "  Downloading pathtools-0.1.2.tar.gz (11 kB)\n",
            "Requirement already satisfied: promise<3,>=2.0 in /usr/local/lib/python3.7/dist-packages (from wandb) (2.3)\n",
            "Collecting docker-pycreds>=0.4.0\n",
            "  Downloading docker_pycreds-0.4.0-py2.py3-none-any.whl (9.0 kB)\n",
            "Requirement already satisfied: python-dateutil>=2.6.1 in /usr/local/lib/python3.7/dist-packages (from wandb) (2.8.2)\n",
            "Collecting configparser>=3.8.1\n",
            "  Downloading configparser-5.2.0-py3-none-any.whl (19 kB)\n",
            "Collecting yaspin>=1.0.0\n",
            "  Downloading yaspin-2.1.0-py3-none-any.whl (18 kB)\n",
            "Collecting subprocess32>=3.5.3\n",
            "  Downloading subprocess32-3.5.4.tar.gz (97 kB)\n",
            "\u001b[K     |████████████████████████████████| 97 kB 5.1 MB/s \n",
            "\u001b[?25hRequirement already satisfied: requests<3,>=2.0.0 in /usr/local/lib/python3.7/dist-packages (from wandb) (2.23.0)\n",
            "Collecting sentry-sdk>=1.0.0\n",
            "  Downloading sentry_sdk-1.5.1-py2.py3-none-any.whl (140 kB)\n",
            "\u001b[K     |████████████████████████████████| 140 kB 47.7 MB/s \n",
            "\u001b[?25hRequirement already satisfied: Click!=8.0.0,>=7.0 in /usr/local/lib/python3.7/dist-packages (from wandb) (7.1.2)\n",
            "Collecting GitPython>=1.0.0\n",
            "  Downloading GitPython-3.1.24-py3-none-any.whl (180 kB)\n",
            "\u001b[K     |████████████████████████████████| 180 kB 19.2 MB/s \n",
            "\u001b[?25hRequirement already satisfied: six>=1.13.0 in /usr/local/lib/python3.7/dist-packages (from wandb) (1.15.0)\n",
            "Requirement already satisfied: protobuf>=3.12.0 in /usr/local/lib/python3.7/dist-packages (from wandb) (3.17.3)\n",
            "Collecting shortuuid>=0.5.0\n",
            "  Downloading shortuuid-1.0.8-py3-none-any.whl (9.5 kB)\n",
            "Requirement already satisfied: typing-extensions>=3.7.4.3 in /usr/local/lib/python3.7/dist-packages (from GitPython>=1.0.0->wandb) (3.10.0.2)\n",
            "Collecting gitdb<5,>=4.0.1\n",
            "  Downloading gitdb-4.0.9-py3-none-any.whl (63 kB)\n",
            "\u001b[K     |████████████████████████████████| 63 kB 377 kB/s \n",
            "\u001b[?25hCollecting smmap<6,>=3.0.1\n",
            "  Downloading smmap-5.0.0-py3-none-any.whl (24 kB)\n",
            "Requirement already satisfied: certifi>=2017.4.17 in /usr/local/lib/python3.7/dist-packages (from requests<3,>=2.0.0->wandb) (2021.10.8)\n",
            "Requirement already satisfied: chardet<4,>=3.0.2 in /usr/local/lib/python3.7/dist-packages (from requests<3,>=2.0.0->wandb) (3.0.4)\n",
            "Requirement already satisfied: urllib3!=1.25.0,!=1.25.1,<1.26,>=1.21.1 in /usr/local/lib/python3.7/dist-packages (from requests<3,>=2.0.0->wandb) (1.24.3)\n",
            "Requirement already satisfied: idna<3,>=2.5 in /usr/local/lib/python3.7/dist-packages (from requests<3,>=2.0.0->wandb) (2.10)\n",
            "Requirement already satisfied: termcolor<2.0.0,>=1.1.0 in /usr/local/lib/python3.7/dist-packages (from yaspin>=1.0.0->wandb) (1.1.0)\n",
            "Building wheels for collected packages: subprocess32, pathtools\n",
            "  Building wheel for subprocess32 (setup.py) ... \u001b[?25l\u001b[?25hdone\n",
            "  Created wheel for subprocess32: filename=subprocess32-3.5.4-py3-none-any.whl size=6502 sha256=493f110a53fbc05c8997ab40aed2377e341d025b212264c52347d000ead713be\n",
            "  Stored in directory: /root/.cache/pip/wheels/50/ca/fa/8fca8d246e64f19488d07567547ddec8eb084e8c0d7a59226a\n",
            "  Building wheel for pathtools (setup.py) ... \u001b[?25l\u001b[?25hdone\n",
            "  Created wheel for pathtools: filename=pathtools-0.1.2-py3-none-any.whl size=8807 sha256=fb54d3496872249918e748c55b75ae15b58a33ba3d82a3587bed476db008302e\n",
            "  Stored in directory: /root/.cache/pip/wheels/3e/31/09/fa59cef12cdcfecc627b3d24273699f390e71828921b2cbba2\n",
            "Successfully built subprocess32 pathtools\n",
            "Installing collected packages: smmap, gitdb, yaspin, subprocess32, shortuuid, sentry-sdk, pathtools, GitPython, docker-pycreds, configparser, wandb\n",
            "Successfully installed GitPython-3.1.24 configparser-5.2.0 docker-pycreds-0.4.0 gitdb-4.0.9 pathtools-0.1.2 sentry-sdk-1.5.1 shortuuid-1.0.8 smmap-5.0.0 subprocess32-3.5.4 wandb-0.12.9 yaspin-2.1.0\n"
          ]
        }
      ]
    },
    {
      "cell_type": "code",
      "source": [
        "import wandb\n",
        "wandb.login()"
      ],
      "metadata": {
        "colab": {
          "base_uri": "https://localhost:8080/",
          "height": 68
        },
        "id": "gW8JWSBaN1HM",
        "outputId": "7864a2ec-d010-4903-8e48-71c4a410bf38"
      },
      "execution_count": 3,
      "outputs": [
        {
          "output_type": "display_data",
          "data": {
            "application/javascript": [
              "\n",
              "        window._wandbApiKey = new Promise((resolve, reject) => {\n",
              "            function loadScript(url) {\n",
              "            return new Promise(function(resolve, reject) {\n",
              "                let newScript = document.createElement(\"script\");\n",
              "                newScript.onerror = reject;\n",
              "                newScript.onload = resolve;\n",
              "                document.body.appendChild(newScript);\n",
              "                newScript.src = url;\n",
              "            });\n",
              "            }\n",
              "            loadScript(\"https://cdn.jsdelivr.net/npm/postmate/build/postmate.min.js\").then(() => {\n",
              "            const iframe = document.createElement('iframe')\n",
              "            iframe.style.cssText = \"width:0;height:0;border:none\"\n",
              "            document.body.appendChild(iframe)\n",
              "            const handshake = new Postmate({\n",
              "                container: iframe,\n",
              "                url: 'https://wandb.ai/authorize'\n",
              "            });\n",
              "            const timeout = setTimeout(() => reject(\"Couldn't auto authenticate\"), 5000)\n",
              "            handshake.then(function(child) {\n",
              "                child.on('authorize', data => {\n",
              "                    clearTimeout(timeout)\n",
              "                    resolve(data)\n",
              "                });\n",
              "            });\n",
              "            })\n",
              "        });\n",
              "    "
            ],
            "text/plain": [
              "<IPython.core.display.Javascript object>"
            ]
          },
          "metadata": {}
        },
        {
          "output_type": "stream",
          "name": "stderr",
          "text": [
            "\u001b[34m\u001b[1mwandb\u001b[0m: Appending key for api.wandb.ai to your netrc file: /root/.netrc\n"
          ]
        },
        {
          "output_type": "execute_result",
          "data": {
            "text/plain": [
              "True"
            ]
          },
          "metadata": {},
          "execution_count": 3
        }
      ]
    },
    {
      "cell_type": "code",
      "metadata": {
        "id": "lEzMx_3qogoa"
      },
      "source": [
        "\n",
        "import pandas as pd\n",
        "\n",
        "correct_train_url = '/content/drive/MyDrive/AI_Bootcamp/CP1/grade7_correct_train.csv'\n",
        "itemIRT_train_url = '/content/drive/MyDrive/AI_Bootcamp/CP1/grade7_itemIRT_train.csv'\n",
        "learnerIRT_train_url = '/content/drive/MyDrive/AI_Bootcamp/CP1/grade7_learnerIRT_train.csv'\n",
        "\n",
        "correct_valid_url = '/content/drive/MyDrive/AI_Bootcamp/CP1/grade7_correct_valid.csv'\n",
        "itemIRT_valid_url = '/content/drive/MyDrive/AI_Bootcamp/CP1/grade7_itemIRT_valid.csv'\n",
        "learnerIRT_valid_url = '/content/drive/MyDrive/AI_Bootcamp/CP1/grade7_learnerIRT_valid.csv'\n",
        "\n",
        "\n",
        "correct_train = pd.read_csv(correct_train_url)\n",
        "itemIRT_train = pd.read_csv(itemIRT_train_url)\n",
        "learnerIRT_train = pd.read_csv(learnerIRT_train_url)\n",
        "\n",
        "correct_valid = pd.read_csv(correct_valid_url)\n",
        "itemIRT_valid = pd.read_csv(itemIRT_valid_url)\n",
        "learnerIRT_valid = pd.read_csv(learnerIRT_valid_url)\n"
      ],
      "execution_count": 4,
      "outputs": []
    },
    {
      "cell_type": "code",
      "source": [
        "correct_train.head()"
      ],
      "metadata": {
        "id": "VzcLkE1CxN5f",
        "colab": {
          "base_uri": "https://localhost:8080/",
          "height": 206
        },
        "outputId": "19e6ce2b-8cef-4fd5-c29b-c1f77abb4b21"
      },
      "execution_count": 5,
      "outputs": [
        {
          "output_type": "execute_result",
          "data": {
            "text/html": [
              "\n",
              "  <div id=\"df-d7804ff3-7d24-49a5-a2ea-fbbcbfe7a34a\">\n",
              "    <div class=\"colab-df-container\">\n",
              "      <div>\n",
              "<style scoped>\n",
              "    .dataframe tbody tr th:only-of-type {\n",
              "        vertical-align: middle;\n",
              "    }\n",
              "\n",
              "    .dataframe tbody tr th {\n",
              "        vertical-align: top;\n",
              "    }\n",
              "\n",
              "    .dataframe thead th {\n",
              "        text-align: right;\n",
              "    }\n",
              "</style>\n",
              "<table border=\"1\" class=\"dataframe\">\n",
              "  <thead>\n",
              "    <tr style=\"text-align: right;\">\n",
              "      <th></th>\n",
              "      <th>learnerID</th>\n",
              "      <th>testID</th>\n",
              "      <th>assessmentItemID</th>\n",
              "      <th>answerCode</th>\n",
              "      <th>Timestamp</th>\n",
              "    </tr>\n",
              "  </thead>\n",
              "  <tbody>\n",
              "    <tr>\n",
              "      <th>0</th>\n",
              "      <td>A070001903</td>\n",
              "      <td>A070000094</td>\n",
              "      <td>A070094008</td>\n",
              "      <td>1</td>\n",
              "      <td>2020-08-22 08:19:15</td>\n",
              "    </tr>\n",
              "    <tr>\n",
              "      <th>1</th>\n",
              "      <td>A070001440</td>\n",
              "      <td>A070000094</td>\n",
              "      <td>A070094006</td>\n",
              "      <td>1</td>\n",
              "      <td>2020-09-14 03:04:07</td>\n",
              "    </tr>\n",
              "    <tr>\n",
              "      <th>2</th>\n",
              "      <td>A070001619</td>\n",
              "      <td>A070000094</td>\n",
              "      <td>A070094007</td>\n",
              "      <td>0</td>\n",
              "      <td>2020-09-16 21:30:37</td>\n",
              "    </tr>\n",
              "    <tr>\n",
              "      <th>3</th>\n",
              "      <td>A070001032</td>\n",
              "      <td>A070000094</td>\n",
              "      <td>A070094004</td>\n",
              "      <td>0</td>\n",
              "      <td>2020-12-16 04:31:25</td>\n",
              "    </tr>\n",
              "    <tr>\n",
              "      <th>4</th>\n",
              "      <td>A070001138</td>\n",
              "      <td>A070000094</td>\n",
              "      <td>A070094001</td>\n",
              "      <td>1</td>\n",
              "      <td>2020-08-08 19:34:14</td>\n",
              "    </tr>\n",
              "  </tbody>\n",
              "</table>\n",
              "</div>\n",
              "      <button class=\"colab-df-convert\" onclick=\"convertToInteractive('df-d7804ff3-7d24-49a5-a2ea-fbbcbfe7a34a')\"\n",
              "              title=\"Convert this dataframe to an interactive table.\"\n",
              "              style=\"display:none;\">\n",
              "        \n",
              "  <svg xmlns=\"http://www.w3.org/2000/svg\" height=\"24px\"viewBox=\"0 0 24 24\"\n",
              "       width=\"24px\">\n",
              "    <path d=\"M0 0h24v24H0V0z\" fill=\"none\"/>\n",
              "    <path d=\"M18.56 5.44l.94 2.06.94-2.06 2.06-.94-2.06-.94-.94-2.06-.94 2.06-2.06.94zm-11 1L8.5 8.5l.94-2.06 2.06-.94-2.06-.94L8.5 2.5l-.94 2.06-2.06.94zm10 10l.94 2.06.94-2.06 2.06-.94-2.06-.94-.94-2.06-.94 2.06-2.06.94z\"/><path d=\"M17.41 7.96l-1.37-1.37c-.4-.4-.92-.59-1.43-.59-.52 0-1.04.2-1.43.59L10.3 9.45l-7.72 7.72c-.78.78-.78 2.05 0 2.83L4 21.41c.39.39.9.59 1.41.59.51 0 1.02-.2 1.41-.59l7.78-7.78 2.81-2.81c.8-.78.8-2.07 0-2.86zM5.41 20L4 18.59l7.72-7.72 1.47 1.35L5.41 20z\"/>\n",
              "  </svg>\n",
              "      </button>\n",
              "      \n",
              "  <style>\n",
              "    .colab-df-container {\n",
              "      display:flex;\n",
              "      flex-wrap:wrap;\n",
              "      gap: 12px;\n",
              "    }\n",
              "\n",
              "    .colab-df-convert {\n",
              "      background-color: #E8F0FE;\n",
              "      border: none;\n",
              "      border-radius: 50%;\n",
              "      cursor: pointer;\n",
              "      display: none;\n",
              "      fill: #1967D2;\n",
              "      height: 32px;\n",
              "      padding: 0 0 0 0;\n",
              "      width: 32px;\n",
              "    }\n",
              "\n",
              "    .colab-df-convert:hover {\n",
              "      background-color: #E2EBFA;\n",
              "      box-shadow: 0px 1px 2px rgba(60, 64, 67, 0.3), 0px 1px 3px 1px rgba(60, 64, 67, 0.15);\n",
              "      fill: #174EA6;\n",
              "    }\n",
              "\n",
              "    [theme=dark] .colab-df-convert {\n",
              "      background-color: #3B4455;\n",
              "      fill: #D2E3FC;\n",
              "    }\n",
              "\n",
              "    [theme=dark] .colab-df-convert:hover {\n",
              "      background-color: #434B5C;\n",
              "      box-shadow: 0px 1px 3px 1px rgba(0, 0, 0, 0.15);\n",
              "      filter: drop-shadow(0px 1px 2px rgba(0, 0, 0, 0.3));\n",
              "      fill: #FFFFFF;\n",
              "    }\n",
              "  </style>\n",
              "\n",
              "      <script>\n",
              "        const buttonEl =\n",
              "          document.querySelector('#df-d7804ff3-7d24-49a5-a2ea-fbbcbfe7a34a button.colab-df-convert');\n",
              "        buttonEl.style.display =\n",
              "          google.colab.kernel.accessAllowed ? 'block' : 'none';\n",
              "\n",
              "        async function convertToInteractive(key) {\n",
              "          const element = document.querySelector('#df-d7804ff3-7d24-49a5-a2ea-fbbcbfe7a34a');\n",
              "          const dataTable =\n",
              "            await google.colab.kernel.invokeFunction('convertToInteractive',\n",
              "                                                     [key], {});\n",
              "          if (!dataTable) return;\n",
              "\n",
              "          const docLinkHtml = 'Like what you see? Visit the ' +\n",
              "            '<a target=\"_blank\" href=https://colab.research.google.com/notebooks/data_table.ipynb>data table notebook</a>'\n",
              "            + ' to learn more about interactive tables.';\n",
              "          element.innerHTML = '';\n",
              "          dataTable['output_type'] = 'display_data';\n",
              "          await google.colab.output.renderOutput(dataTable, element);\n",
              "          const docLink = document.createElement('div');\n",
              "          docLink.innerHTML = docLinkHtml;\n",
              "          element.appendChild(docLink);\n",
              "        }\n",
              "      </script>\n",
              "    </div>\n",
              "  </div>\n",
              "  "
            ],
            "text/plain": [
              "    learnerID      testID assessmentItemID  answerCode            Timestamp\n",
              "0  A070001903  A070000094       A070094008           1  2020-08-22 08:19:15\n",
              "1  A070001440  A070000094       A070094006           1  2020-09-14 03:04:07\n",
              "2  A070001619  A070000094       A070094007           0  2020-09-16 21:30:37\n",
              "3  A070001032  A070000094       A070094004           0  2020-12-16 04:31:25\n",
              "4  A070001138  A070000094       A070094001           1  2020-08-08 19:34:14"
            ]
          },
          "metadata": {},
          "execution_count": 5
        }
      ]
    },
    {
      "cell_type": "code",
      "metadata": {
        "colab": {
          "base_uri": "https://localhost:8080/"
        },
        "id": "2Zaq1AklszNb",
        "outputId": "097980e5-6929-4d69-eb77-4aeb26544c8c"
      },
      "source": [
        "len(correct_train), len(itemIRT_train), len(learnerIRT_train)"
      ],
      "execution_count": 6,
      "outputs": [
        {
          "output_type": "execute_result",
          "data": {
            "text/plain": [
              "(210550, 1322, 26081)"
            ]
          },
          "metadata": {},
          "execution_count": 6
        }
      ]
    },
    {
      "cell_type": "code",
      "metadata": {
        "colab": {
          "base_uri": "https://localhost:8080/"
        },
        "id": "jX85VDVqtBVv",
        "outputId": "b3dfe922-6f91-4c63-e507-663d7e4c987f"
      },
      "source": [
        "len(correct_valid), len(itemIRT_valid), len(learnerIRT_valid)"
      ],
      "execution_count": 7,
      "outputs": [
        {
          "output_type": "execute_result",
          "data": {
            "text/plain": [
              "(43044, 1322, 5333)"
            ]
          },
          "metadata": {},
          "execution_count": 7
        }
      ]
    },
    {
      "cell_type": "code",
      "source": [
        "correct_train['Timestamp'] = pd.to_datetime(correct_train['Timestamp'], utc = False)\n",
        "correct_valid['Timestamp'] = pd.to_datetime(correct_valid['Timestamp'], utc = False)"
      ],
      "metadata": {
        "id": "MhsdsnDd2KxO"
      },
      "execution_count": 5,
      "outputs": []
    },
    {
      "cell_type": "code",
      "source": [
        "correct_train['Timestamp'].dtypes"
      ],
      "metadata": {
        "colab": {
          "base_uri": "https://localhost:8080/"
        },
        "id": "Bwwg9t7ZFCy8",
        "outputId": "8fad9787-4c5d-4324-86c9-282a2efd09b7"
      },
      "execution_count": 9,
      "outputs": [
        {
          "output_type": "execute_result",
          "data": {
            "text/plain": [
              "dtype('<M8[ns]')"
            ]
          },
          "metadata": {},
          "execution_count": 9
        }
      ]
    },
    {
      "cell_type": "code",
      "source": [
        "correct_valid.head()"
      ],
      "metadata": {
        "colab": {
          "base_uri": "https://localhost:8080/",
          "height": 206
        },
        "id": "pH9q4sasGqO3",
        "outputId": "0e9e7ece-dfc5-49e0-a3d8-1ac69a57c90d"
      },
      "execution_count": 12,
      "outputs": [
        {
          "output_type": "execute_result",
          "data": {
            "text/html": [
              "\n",
              "  <div id=\"df-dc970859-dd4b-4704-9868-83c0da764df3\">\n",
              "    <div class=\"colab-df-container\">\n",
              "      <div>\n",
              "<style scoped>\n",
              "    .dataframe tbody tr th:only-of-type {\n",
              "        vertical-align: middle;\n",
              "    }\n",
              "\n",
              "    .dataframe tbody tr th {\n",
              "        vertical-align: top;\n",
              "    }\n",
              "\n",
              "    .dataframe thead th {\n",
              "        text-align: right;\n",
              "    }\n",
              "</style>\n",
              "<table border=\"1\" class=\"dataframe\">\n",
              "  <thead>\n",
              "    <tr style=\"text-align: right;\">\n",
              "      <th></th>\n",
              "      <th>learnerID</th>\n",
              "      <th>testID</th>\n",
              "      <th>assessmentItemID</th>\n",
              "      <th>answerCode</th>\n",
              "      <th>Timestamp</th>\n",
              "    </tr>\n",
              "  </thead>\n",
              "  <tbody>\n",
              "    <tr>\n",
              "      <th>0</th>\n",
              "      <td>A070000441</td>\n",
              "      <td>A070000094</td>\n",
              "      <td>A070094007</td>\n",
              "      <td>0</td>\n",
              "      <td>2020-09-21 19:11:27</td>\n",
              "    </tr>\n",
              "    <tr>\n",
              "      <th>1</th>\n",
              "      <td>A070001547</td>\n",
              "      <td>A070000094</td>\n",
              "      <td>A070094004</td>\n",
              "      <td>0</td>\n",
              "      <td>2020-09-09 02:44:19</td>\n",
              "    </tr>\n",
              "    <tr>\n",
              "      <th>2</th>\n",
              "      <td>A070001444</td>\n",
              "      <td>A070000094</td>\n",
              "      <td>A070094002</td>\n",
              "      <td>0</td>\n",
              "      <td>2020-09-09 03:05:35</td>\n",
              "    </tr>\n",
              "    <tr>\n",
              "      <th>3</th>\n",
              "      <td>A070001500</td>\n",
              "      <td>A070000094</td>\n",
              "      <td>A070094003</td>\n",
              "      <td>1</td>\n",
              "      <td>2020-09-17 17:01:49</td>\n",
              "    </tr>\n",
              "    <tr>\n",
              "      <th>4</th>\n",
              "      <td>A070001672</td>\n",
              "      <td>A070000094</td>\n",
              "      <td>A070094005</td>\n",
              "      <td>1</td>\n",
              "      <td>2020-08-19 06:06:43</td>\n",
              "    </tr>\n",
              "  </tbody>\n",
              "</table>\n",
              "</div>\n",
              "      <button class=\"colab-df-convert\" onclick=\"convertToInteractive('df-dc970859-dd4b-4704-9868-83c0da764df3')\"\n",
              "              title=\"Convert this dataframe to an interactive table.\"\n",
              "              style=\"display:none;\">\n",
              "        \n",
              "  <svg xmlns=\"http://www.w3.org/2000/svg\" height=\"24px\"viewBox=\"0 0 24 24\"\n",
              "       width=\"24px\">\n",
              "    <path d=\"M0 0h24v24H0V0z\" fill=\"none\"/>\n",
              "    <path d=\"M18.56 5.44l.94 2.06.94-2.06 2.06-.94-2.06-.94-.94-2.06-.94 2.06-2.06.94zm-11 1L8.5 8.5l.94-2.06 2.06-.94-2.06-.94L8.5 2.5l-.94 2.06-2.06.94zm10 10l.94 2.06.94-2.06 2.06-.94-2.06-.94-.94-2.06-.94 2.06-2.06.94z\"/><path d=\"M17.41 7.96l-1.37-1.37c-.4-.4-.92-.59-1.43-.59-.52 0-1.04.2-1.43.59L10.3 9.45l-7.72 7.72c-.78.78-.78 2.05 0 2.83L4 21.41c.39.39.9.59 1.41.59.51 0 1.02-.2 1.41-.59l7.78-7.78 2.81-2.81c.8-.78.8-2.07 0-2.86zM5.41 20L4 18.59l7.72-7.72 1.47 1.35L5.41 20z\"/>\n",
              "  </svg>\n",
              "      </button>\n",
              "      \n",
              "  <style>\n",
              "    .colab-df-container {\n",
              "      display:flex;\n",
              "      flex-wrap:wrap;\n",
              "      gap: 12px;\n",
              "    }\n",
              "\n",
              "    .colab-df-convert {\n",
              "      background-color: #E8F0FE;\n",
              "      border: none;\n",
              "      border-radius: 50%;\n",
              "      cursor: pointer;\n",
              "      display: none;\n",
              "      fill: #1967D2;\n",
              "      height: 32px;\n",
              "      padding: 0 0 0 0;\n",
              "      width: 32px;\n",
              "    }\n",
              "\n",
              "    .colab-df-convert:hover {\n",
              "      background-color: #E2EBFA;\n",
              "      box-shadow: 0px 1px 2px rgba(60, 64, 67, 0.3), 0px 1px 3px 1px rgba(60, 64, 67, 0.15);\n",
              "      fill: #174EA6;\n",
              "    }\n",
              "\n",
              "    [theme=dark] .colab-df-convert {\n",
              "      background-color: #3B4455;\n",
              "      fill: #D2E3FC;\n",
              "    }\n",
              "\n",
              "    [theme=dark] .colab-df-convert:hover {\n",
              "      background-color: #434B5C;\n",
              "      box-shadow: 0px 1px 3px 1px rgba(0, 0, 0, 0.15);\n",
              "      filter: drop-shadow(0px 1px 2px rgba(0, 0, 0, 0.3));\n",
              "      fill: #FFFFFF;\n",
              "    }\n",
              "  </style>\n",
              "\n",
              "      <script>\n",
              "        const buttonEl =\n",
              "          document.querySelector('#df-dc970859-dd4b-4704-9868-83c0da764df3 button.colab-df-convert');\n",
              "        buttonEl.style.display =\n",
              "          google.colab.kernel.accessAllowed ? 'block' : 'none';\n",
              "\n",
              "        async function convertToInteractive(key) {\n",
              "          const element = document.querySelector('#df-dc970859-dd4b-4704-9868-83c0da764df3');\n",
              "          const dataTable =\n",
              "            await google.colab.kernel.invokeFunction('convertToInteractive',\n",
              "                                                     [key], {});\n",
              "          if (!dataTable) return;\n",
              "\n",
              "          const docLinkHtml = 'Like what you see? Visit the ' +\n",
              "            '<a target=\"_blank\" href=https://colab.research.google.com/notebooks/data_table.ipynb>data table notebook</a>'\n",
              "            + ' to learn more about interactive tables.';\n",
              "          element.innerHTML = '';\n",
              "          dataTable['output_type'] = 'display_data';\n",
              "          await google.colab.output.renderOutput(dataTable, element);\n",
              "          const docLink = document.createElement('div');\n",
              "          docLink.innerHTML = docLinkHtml;\n",
              "          element.appendChild(docLink);\n",
              "        }\n",
              "      </script>\n",
              "    </div>\n",
              "  </div>\n",
              "  "
            ],
            "text/plain": [
              "    learnerID      testID assessmentItemID  answerCode           Timestamp\n",
              "0  A070000441  A070000094       A070094007           0 2020-09-21 19:11:27\n",
              "1  A070001547  A070000094       A070094004           0 2020-09-09 02:44:19\n",
              "2  A070001444  A070000094       A070094002           0 2020-09-09 03:05:35\n",
              "3  A070001500  A070000094       A070094003           1 2020-09-17 17:01:49\n",
              "4  A070001672  A070000094       A070094005           1 2020-08-19 06:06:43"
            ]
          },
          "metadata": {},
          "execution_count": 12
        }
      ]
    },
    {
      "cell_type": "code",
      "source": [
        "correct_valid.sort_values(by = ['Timestamp']).groupby('learnerID').head()"
      ],
      "metadata": {
        "colab": {
          "base_uri": "https://localhost:8080/",
          "height": 423
        },
        "id": "D6qDEo_N47AM",
        "outputId": "9f915608-92ef-4914-d8fb-6ad07364240f"
      },
      "execution_count": 13,
      "outputs": [
        {
          "output_type": "execute_result",
          "data": {
            "text/html": [
              "\n",
              "  <div id=\"df-8f42a77a-616e-4aa1-bbc8-e162cbc3e9a9\">\n",
              "    <div class=\"colab-df-container\">\n",
              "      <div>\n",
              "<style scoped>\n",
              "    .dataframe tbody tr th:only-of-type {\n",
              "        vertical-align: middle;\n",
              "    }\n",
              "\n",
              "    .dataframe tbody tr th {\n",
              "        vertical-align: top;\n",
              "    }\n",
              "\n",
              "    .dataframe thead th {\n",
              "        text-align: right;\n",
              "    }\n",
              "</style>\n",
              "<table border=\"1\" class=\"dataframe\">\n",
              "  <thead>\n",
              "    <tr style=\"text-align: right;\">\n",
              "      <th></th>\n",
              "      <th>learnerID</th>\n",
              "      <th>testID</th>\n",
              "      <th>assessmentItemID</th>\n",
              "      <th>answerCode</th>\n",
              "      <th>Timestamp</th>\n",
              "    </tr>\n",
              "  </thead>\n",
              "  <tbody>\n",
              "    <tr>\n",
              "      <th>18425</th>\n",
              "      <td>A070000138</td>\n",
              "      <td>A070000029</td>\n",
              "      <td>A070029001</td>\n",
              "      <td>0</td>\n",
              "      <td>2020-01-03 00:48:15</td>\n",
              "    </tr>\n",
              "    <tr>\n",
              "      <th>18499</th>\n",
              "      <td>A070000138</td>\n",
              "      <td>A070000029</td>\n",
              "      <td>A070029002</td>\n",
              "      <td>1</td>\n",
              "      <td>2020-01-03 00:48:34</td>\n",
              "    </tr>\n",
              "    <tr>\n",
              "      <th>18422</th>\n",
              "      <td>A070000138</td>\n",
              "      <td>A070000029</td>\n",
              "      <td>A070029003</td>\n",
              "      <td>0</td>\n",
              "      <td>2020-01-03 00:48:42</td>\n",
              "    </tr>\n",
              "    <tr>\n",
              "      <th>18859</th>\n",
              "      <td>A070000138</td>\n",
              "      <td>A070000029</td>\n",
              "      <td>A070029004</td>\n",
              "      <td>0</td>\n",
              "      <td>2020-01-03 00:48:44</td>\n",
              "    </tr>\n",
              "    <tr>\n",
              "      <th>19168</th>\n",
              "      <td>A070000138</td>\n",
              "      <td>A070000029</td>\n",
              "      <td>A070029005</td>\n",
              "      <td>0</td>\n",
              "      <td>2020-01-03 00:48:50</td>\n",
              "    </tr>\n",
              "    <tr>\n",
              "      <th>...</th>\n",
              "      <td>...</td>\n",
              "      <td>...</td>\n",
              "      <td>...</td>\n",
              "      <td>...</td>\n",
              "      <td>...</td>\n",
              "    </tr>\n",
              "    <tr>\n",
              "      <th>14075</th>\n",
              "      <td>A070001168</td>\n",
              "      <td>A070000153</td>\n",
              "      <td>A070153001</td>\n",
              "      <td>0</td>\n",
              "      <td>2020-12-29 05:25:07</td>\n",
              "    </tr>\n",
              "    <tr>\n",
              "      <th>14914</th>\n",
              "      <td>A070001168</td>\n",
              "      <td>A070000153</td>\n",
              "      <td>A070153002</td>\n",
              "      <td>0</td>\n",
              "      <td>2020-12-29 05:25:09</td>\n",
              "    </tr>\n",
              "    <tr>\n",
              "      <th>14938</th>\n",
              "      <td>A070001168</td>\n",
              "      <td>A070000153</td>\n",
              "      <td>A070153003</td>\n",
              "      <td>0</td>\n",
              "      <td>2020-12-29 05:25:11</td>\n",
              "    </tr>\n",
              "    <tr>\n",
              "      <th>14705</th>\n",
              "      <td>A070001168</td>\n",
              "      <td>A070000153</td>\n",
              "      <td>A070153004</td>\n",
              "      <td>0</td>\n",
              "      <td>2020-12-29 05:25:14</td>\n",
              "    </tr>\n",
              "    <tr>\n",
              "      <th>14892</th>\n",
              "      <td>A070001168</td>\n",
              "      <td>A070000153</td>\n",
              "      <td>A070153005</td>\n",
              "      <td>0</td>\n",
              "      <td>2020-12-29 05:25:17</td>\n",
              "    </tr>\n",
              "  </tbody>\n",
              "</table>\n",
              "<p>1380 rows × 5 columns</p>\n",
              "</div>\n",
              "      <button class=\"colab-df-convert\" onclick=\"convertToInteractive('df-8f42a77a-616e-4aa1-bbc8-e162cbc3e9a9')\"\n",
              "              title=\"Convert this dataframe to an interactive table.\"\n",
              "              style=\"display:none;\">\n",
              "        \n",
              "  <svg xmlns=\"http://www.w3.org/2000/svg\" height=\"24px\"viewBox=\"0 0 24 24\"\n",
              "       width=\"24px\">\n",
              "    <path d=\"M0 0h24v24H0V0z\" fill=\"none\"/>\n",
              "    <path d=\"M18.56 5.44l.94 2.06.94-2.06 2.06-.94-2.06-.94-.94-2.06-.94 2.06-2.06.94zm-11 1L8.5 8.5l.94-2.06 2.06-.94-2.06-.94L8.5 2.5l-.94 2.06-2.06.94zm10 10l.94 2.06.94-2.06 2.06-.94-2.06-.94-.94-2.06-.94 2.06-2.06.94z\"/><path d=\"M17.41 7.96l-1.37-1.37c-.4-.4-.92-.59-1.43-.59-.52 0-1.04.2-1.43.59L10.3 9.45l-7.72 7.72c-.78.78-.78 2.05 0 2.83L4 21.41c.39.39.9.59 1.41.59.51 0 1.02-.2 1.41-.59l7.78-7.78 2.81-2.81c.8-.78.8-2.07 0-2.86zM5.41 20L4 18.59l7.72-7.72 1.47 1.35L5.41 20z\"/>\n",
              "  </svg>\n",
              "      </button>\n",
              "      \n",
              "  <style>\n",
              "    .colab-df-container {\n",
              "      display:flex;\n",
              "      flex-wrap:wrap;\n",
              "      gap: 12px;\n",
              "    }\n",
              "\n",
              "    .colab-df-convert {\n",
              "      background-color: #E8F0FE;\n",
              "      border: none;\n",
              "      border-radius: 50%;\n",
              "      cursor: pointer;\n",
              "      display: none;\n",
              "      fill: #1967D2;\n",
              "      height: 32px;\n",
              "      padding: 0 0 0 0;\n",
              "      width: 32px;\n",
              "    }\n",
              "\n",
              "    .colab-df-convert:hover {\n",
              "      background-color: #E2EBFA;\n",
              "      box-shadow: 0px 1px 2px rgba(60, 64, 67, 0.3), 0px 1px 3px 1px rgba(60, 64, 67, 0.15);\n",
              "      fill: #174EA6;\n",
              "    }\n",
              "\n",
              "    [theme=dark] .colab-df-convert {\n",
              "      background-color: #3B4455;\n",
              "      fill: #D2E3FC;\n",
              "    }\n",
              "\n",
              "    [theme=dark] .colab-df-convert:hover {\n",
              "      background-color: #434B5C;\n",
              "      box-shadow: 0px 1px 3px 1px rgba(0, 0, 0, 0.15);\n",
              "      filter: drop-shadow(0px 1px 2px rgba(0, 0, 0, 0.3));\n",
              "      fill: #FFFFFF;\n",
              "    }\n",
              "  </style>\n",
              "\n",
              "      <script>\n",
              "        const buttonEl =\n",
              "          document.querySelector('#df-8f42a77a-616e-4aa1-bbc8-e162cbc3e9a9 button.colab-df-convert');\n",
              "        buttonEl.style.display =\n",
              "          google.colab.kernel.accessAllowed ? 'block' : 'none';\n",
              "\n",
              "        async function convertToInteractive(key) {\n",
              "          const element = document.querySelector('#df-8f42a77a-616e-4aa1-bbc8-e162cbc3e9a9');\n",
              "          const dataTable =\n",
              "            await google.colab.kernel.invokeFunction('convertToInteractive',\n",
              "                                                     [key], {});\n",
              "          if (!dataTable) return;\n",
              "\n",
              "          const docLinkHtml = 'Like what you see? Visit the ' +\n",
              "            '<a target=\"_blank\" href=https://colab.research.google.com/notebooks/data_table.ipynb>data table notebook</a>'\n",
              "            + ' to learn more about interactive tables.';\n",
              "          element.innerHTML = '';\n",
              "          dataTable['output_type'] = 'display_data';\n",
              "          await google.colab.output.renderOutput(dataTable, element);\n",
              "          const docLink = document.createElement('div');\n",
              "          docLink.innerHTML = docLinkHtml;\n",
              "          element.appendChild(docLink);\n",
              "        }\n",
              "      </script>\n",
              "    </div>\n",
              "  </div>\n",
              "  "
            ],
            "text/plain": [
              "        learnerID      testID assessmentItemID  answerCode           Timestamp\n",
              "18425  A070000138  A070000029       A070029001           0 2020-01-03 00:48:15\n",
              "18499  A070000138  A070000029       A070029002           1 2020-01-03 00:48:34\n",
              "18422  A070000138  A070000029       A070029003           0 2020-01-03 00:48:42\n",
              "18859  A070000138  A070000029       A070029004           0 2020-01-03 00:48:44\n",
              "19168  A070000138  A070000029       A070029005           0 2020-01-03 00:48:50\n",
              "...           ...         ...              ...         ...                 ...\n",
              "14075  A070001168  A070000153       A070153001           0 2020-12-29 05:25:07\n",
              "14914  A070001168  A070000153       A070153002           0 2020-12-29 05:25:09\n",
              "14938  A070001168  A070000153       A070153003           0 2020-12-29 05:25:11\n",
              "14705  A070001168  A070000153       A070153004           0 2020-12-29 05:25:14\n",
              "14892  A070001168  A070000153       A070153005           0 2020-12-29 05:25:17\n",
              "\n",
              "[1380 rows x 5 columns]"
            ]
          },
          "metadata": {},
          "execution_count": 13
        }
      ]
    },
    {
      "cell_type": "code",
      "source": [
        "correct_train.sort_values(by = ['Timestamp']).groupby('learnerID').describe()"
      ],
      "metadata": {
        "colab": {
          "base_uri": "https://localhost:8080/",
          "height": 486
        },
        "id": "E4vEHq-c47HT",
        "outputId": "d2a07f1d-1e75-4575-f273-61b5e4ce4548"
      },
      "execution_count": 11,
      "outputs": [
        {
          "output_type": "execute_result",
          "data": {
            "text/html": [
              "\n",
              "  <div id=\"df-c68fd481-18a6-449d-ad6e-468647a1dbd4\">\n",
              "    <div class=\"colab-df-container\">\n",
              "      <div>\n",
              "<style scoped>\n",
              "    .dataframe tbody tr th:only-of-type {\n",
              "        vertical-align: middle;\n",
              "    }\n",
              "\n",
              "    .dataframe tbody tr th {\n",
              "        vertical-align: top;\n",
              "    }\n",
              "\n",
              "    .dataframe thead tr th {\n",
              "        text-align: left;\n",
              "    }\n",
              "\n",
              "    .dataframe thead tr:last-of-type th {\n",
              "        text-align: right;\n",
              "    }\n",
              "</style>\n",
              "<table border=\"1\" class=\"dataframe\">\n",
              "  <thead>\n",
              "    <tr>\n",
              "      <th></th>\n",
              "      <th colspan=\"8\" halign=\"left\">answerCode</th>\n",
              "    </tr>\n",
              "    <tr>\n",
              "      <th></th>\n",
              "      <th>count</th>\n",
              "      <th>mean</th>\n",
              "      <th>std</th>\n",
              "      <th>min</th>\n",
              "      <th>25%</th>\n",
              "      <th>50%</th>\n",
              "      <th>75%</th>\n",
              "      <th>max</th>\n",
              "    </tr>\n",
              "    <tr>\n",
              "      <th>learnerID</th>\n",
              "      <th></th>\n",
              "      <th></th>\n",
              "      <th></th>\n",
              "      <th></th>\n",
              "      <th></th>\n",
              "      <th></th>\n",
              "      <th></th>\n",
              "      <th></th>\n",
              "    </tr>\n",
              "  </thead>\n",
              "  <tbody>\n",
              "    <tr>\n",
              "      <th>A070000001</th>\n",
              "      <td>415.0</td>\n",
              "      <td>0.551807</td>\n",
              "      <td>0.497909</td>\n",
              "      <td>0.0</td>\n",
              "      <td>0.0</td>\n",
              "      <td>1.0</td>\n",
              "      <td>1.0</td>\n",
              "      <td>1.0</td>\n",
              "    </tr>\n",
              "    <tr>\n",
              "      <th>A070000002</th>\n",
              "      <td>84.0</td>\n",
              "      <td>0.214286</td>\n",
              "      <td>0.412790</td>\n",
              "      <td>0.0</td>\n",
              "      <td>0.0</td>\n",
              "      <td>0.0</td>\n",
              "      <td>0.0</td>\n",
              "      <td>1.0</td>\n",
              "    </tr>\n",
              "    <tr>\n",
              "      <th>A070000003</th>\n",
              "      <td>557.0</td>\n",
              "      <td>0.849192</td>\n",
              "      <td>0.358183</td>\n",
              "      <td>0.0</td>\n",
              "      <td>1.0</td>\n",
              "      <td>1.0</td>\n",
              "      <td>1.0</td>\n",
              "      <td>1.0</td>\n",
              "    </tr>\n",
              "    <tr>\n",
              "      <th>A070000004</th>\n",
              "      <td>183.0</td>\n",
              "      <td>0.278689</td>\n",
              "      <td>0.449584</td>\n",
              "      <td>0.0</td>\n",
              "      <td>0.0</td>\n",
              "      <td>0.0</td>\n",
              "      <td>1.0</td>\n",
              "      <td>1.0</td>\n",
              "    </tr>\n",
              "    <tr>\n",
              "      <th>A070000005</th>\n",
              "      <td>657.0</td>\n",
              "      <td>0.298326</td>\n",
              "      <td>0.457872</td>\n",
              "      <td>0.0</td>\n",
              "      <td>0.0</td>\n",
              "      <td>0.0</td>\n",
              "      <td>1.0</td>\n",
              "      <td>1.0</td>\n",
              "    </tr>\n",
              "    <tr>\n",
              "      <th>...</th>\n",
              "      <td>...</td>\n",
              "      <td>...</td>\n",
              "      <td>...</td>\n",
              "      <td>...</td>\n",
              "      <td>...</td>\n",
              "      <td>...</td>\n",
              "      <td>...</td>\n",
              "      <td>...</td>\n",
              "    </tr>\n",
              "    <tr>\n",
              "      <th>A070002062</th>\n",
              "      <td>8.0</td>\n",
              "      <td>1.000000</td>\n",
              "      <td>0.000000</td>\n",
              "      <td>1.0</td>\n",
              "      <td>1.0</td>\n",
              "      <td>1.0</td>\n",
              "      <td>1.0</td>\n",
              "      <td>1.0</td>\n",
              "    </tr>\n",
              "    <tr>\n",
              "      <th>A070002063</th>\n",
              "      <td>16.0</td>\n",
              "      <td>0.562500</td>\n",
              "      <td>0.512348</td>\n",
              "      <td>0.0</td>\n",
              "      <td>0.0</td>\n",
              "      <td>1.0</td>\n",
              "      <td>1.0</td>\n",
              "      <td>1.0</td>\n",
              "    </tr>\n",
              "    <tr>\n",
              "      <th>A070002066</th>\n",
              "      <td>24.0</td>\n",
              "      <td>0.166667</td>\n",
              "      <td>0.380693</td>\n",
              "      <td>0.0</td>\n",
              "      <td>0.0</td>\n",
              "      <td>0.0</td>\n",
              "      <td>0.0</td>\n",
              "      <td>1.0</td>\n",
              "    </tr>\n",
              "    <tr>\n",
              "      <th>A070002067</th>\n",
              "      <td>8.0</td>\n",
              "      <td>0.500000</td>\n",
              "      <td>0.534522</td>\n",
              "      <td>0.0</td>\n",
              "      <td>0.0</td>\n",
              "      <td>0.5</td>\n",
              "      <td>1.0</td>\n",
              "      <td>1.0</td>\n",
              "    </tr>\n",
              "    <tr>\n",
              "      <th>A070002068</th>\n",
              "      <td>16.0</td>\n",
              "      <td>0.437500</td>\n",
              "      <td>0.512348</td>\n",
              "      <td>0.0</td>\n",
              "      <td>0.0</td>\n",
              "      <td>0.0</td>\n",
              "      <td>1.0</td>\n",
              "      <td>1.0</td>\n",
              "    </tr>\n",
              "  </tbody>\n",
              "</table>\n",
              "<p>1379 rows × 8 columns</p>\n",
              "</div>\n",
              "      <button class=\"colab-df-convert\" onclick=\"convertToInteractive('df-c68fd481-18a6-449d-ad6e-468647a1dbd4')\"\n",
              "              title=\"Convert this dataframe to an interactive table.\"\n",
              "              style=\"display:none;\">\n",
              "        \n",
              "  <svg xmlns=\"http://www.w3.org/2000/svg\" height=\"24px\"viewBox=\"0 0 24 24\"\n",
              "       width=\"24px\">\n",
              "    <path d=\"M0 0h24v24H0V0z\" fill=\"none\"/>\n",
              "    <path d=\"M18.56 5.44l.94 2.06.94-2.06 2.06-.94-2.06-.94-.94-2.06-.94 2.06-2.06.94zm-11 1L8.5 8.5l.94-2.06 2.06-.94-2.06-.94L8.5 2.5l-.94 2.06-2.06.94zm10 10l.94 2.06.94-2.06 2.06-.94-2.06-.94-.94-2.06-.94 2.06-2.06.94z\"/><path d=\"M17.41 7.96l-1.37-1.37c-.4-.4-.92-.59-1.43-.59-.52 0-1.04.2-1.43.59L10.3 9.45l-7.72 7.72c-.78.78-.78 2.05 0 2.83L4 21.41c.39.39.9.59 1.41.59.51 0 1.02-.2 1.41-.59l7.78-7.78 2.81-2.81c.8-.78.8-2.07 0-2.86zM5.41 20L4 18.59l7.72-7.72 1.47 1.35L5.41 20z\"/>\n",
              "  </svg>\n",
              "      </button>\n",
              "      \n",
              "  <style>\n",
              "    .colab-df-container {\n",
              "      display:flex;\n",
              "      flex-wrap:wrap;\n",
              "      gap: 12px;\n",
              "    }\n",
              "\n",
              "    .colab-df-convert {\n",
              "      background-color: #E8F0FE;\n",
              "      border: none;\n",
              "      border-radius: 50%;\n",
              "      cursor: pointer;\n",
              "      display: none;\n",
              "      fill: #1967D2;\n",
              "      height: 32px;\n",
              "      padding: 0 0 0 0;\n",
              "      width: 32px;\n",
              "    }\n",
              "\n",
              "    .colab-df-convert:hover {\n",
              "      background-color: #E2EBFA;\n",
              "      box-shadow: 0px 1px 2px rgba(60, 64, 67, 0.3), 0px 1px 3px 1px rgba(60, 64, 67, 0.15);\n",
              "      fill: #174EA6;\n",
              "    }\n",
              "\n",
              "    [theme=dark] .colab-df-convert {\n",
              "      background-color: #3B4455;\n",
              "      fill: #D2E3FC;\n",
              "    }\n",
              "\n",
              "    [theme=dark] .colab-df-convert:hover {\n",
              "      background-color: #434B5C;\n",
              "      box-shadow: 0px 1px 3px 1px rgba(0, 0, 0, 0.15);\n",
              "      filter: drop-shadow(0px 1px 2px rgba(0, 0, 0, 0.3));\n",
              "      fill: #FFFFFF;\n",
              "    }\n",
              "  </style>\n",
              "\n",
              "      <script>\n",
              "        const buttonEl =\n",
              "          document.querySelector('#df-c68fd481-18a6-449d-ad6e-468647a1dbd4 button.colab-df-convert');\n",
              "        buttonEl.style.display =\n",
              "          google.colab.kernel.accessAllowed ? 'block' : 'none';\n",
              "\n",
              "        async function convertToInteractive(key) {\n",
              "          const element = document.querySelector('#df-c68fd481-18a6-449d-ad6e-468647a1dbd4');\n",
              "          const dataTable =\n",
              "            await google.colab.kernel.invokeFunction('convertToInteractive',\n",
              "                                                     [key], {});\n",
              "          if (!dataTable) return;\n",
              "\n",
              "          const docLinkHtml = 'Like what you see? Visit the ' +\n",
              "            '<a target=\"_blank\" href=https://colab.research.google.com/notebooks/data_table.ipynb>data table notebook</a>'\n",
              "            + ' to learn more about interactive tables.';\n",
              "          element.innerHTML = '';\n",
              "          dataTable['output_type'] = 'display_data';\n",
              "          await google.colab.output.renderOutput(dataTable, element);\n",
              "          const docLink = document.createElement('div');\n",
              "          docLink.innerHTML = docLinkHtml;\n",
              "          element.appendChild(docLink);\n",
              "        }\n",
              "      </script>\n",
              "    </div>\n",
              "  </div>\n",
              "  "
            ],
            "text/plain": [
              "           answerCode                                             \n",
              "                count      mean       std  min  25%  50%  75%  max\n",
              "learnerID                                                         \n",
              "A070000001      415.0  0.551807  0.497909  0.0  0.0  1.0  1.0  1.0\n",
              "A070000002       84.0  0.214286  0.412790  0.0  0.0  0.0  0.0  1.0\n",
              "A070000003      557.0  0.849192  0.358183  0.0  1.0  1.0  1.0  1.0\n",
              "A070000004      183.0  0.278689  0.449584  0.0  0.0  0.0  1.0  1.0\n",
              "A070000005      657.0  0.298326  0.457872  0.0  0.0  0.0  1.0  1.0\n",
              "...               ...       ...       ...  ...  ...  ...  ...  ...\n",
              "A070002062        8.0  1.000000  0.000000  1.0  1.0  1.0  1.0  1.0\n",
              "A070002063       16.0  0.562500  0.512348  0.0  0.0  1.0  1.0  1.0\n",
              "A070002066       24.0  0.166667  0.380693  0.0  0.0  0.0  0.0  1.0\n",
              "A070002067        8.0  0.500000  0.534522  0.0  0.0  0.5  1.0  1.0\n",
              "A070002068       16.0  0.437500  0.512348  0.0  0.0  0.0  1.0  1.0\n",
              "\n",
              "[1379 rows x 8 columns]"
            ]
          },
          "metadata": {},
          "execution_count": 11
        }
      ]
    },
    {
      "cell_type": "code",
      "source": [
        ""
      ],
      "metadata": {
        "colab": {
          "base_uri": "https://localhost:8080/"
        },
        "id": "SMXwqkvQ47JY",
        "outputId": "743dc149-c34f-4f2e-fe9e-b056a1eb410a"
      },
      "execution_count": 16,
      "outputs": [
        {
          "output_type": "execute_result",
          "data": {
            "text/plain": [
              "210550"
            ]
          },
          "metadata": {},
          "execution_count": 16
        }
      ]
    },
    {
      "cell_type": "code",
      "source": [
        ""
      ],
      "metadata": {
        "id": "Zb1VC7Gu47Lr"
      },
      "execution_count": null,
      "outputs": []
    },
    {
      "cell_type": "code",
      "metadata": {
        "id": "FLoSEHsAQBPO"
      },
      "source": [
        "correct_train.describe()"
      ],
      "execution_count": null,
      "outputs": []
    },
    {
      "cell_type": "code",
      "metadata": {
        "id": "KEGVCge9QKHV"
      },
      "source": [
        "itemIRT_train.describe()"
      ],
      "execution_count": null,
      "outputs": []
    },
    {
      "cell_type": "code",
      "metadata": {
        "id": "PC9JeJXWQYsF"
      },
      "source": [
        "learnerIRT_train.describe()"
      ],
      "execution_count": null,
      "outputs": []
    },
    {
      "cell_type": "code",
      "metadata": {
        "id": "PUkhn0m6pHJ0"
      },
      "source": [
        "correct_train.head()"
      ],
      "execution_count": null,
      "outputs": []
    },
    {
      "cell_type": "code",
      "metadata": {
        "id": "ruRqwUurqDZn"
      },
      "source": [
        "itemIRT_train.head()"
      ],
      "execution_count": null,
      "outputs": []
    },
    {
      "cell_type": "code",
      "metadata": {
        "id": "QchTAtmOrpOo"
      },
      "source": [
        "learnerIRT_train.head()"
      ],
      "execution_count": null,
      "outputs": []
    },
    {
      "cell_type": "code",
      "metadata": {
        "id": "R1EW1Ue1rrOK"
      },
      "source": [
        "second_df = pd.merge(left = correct_train, right = itemIRT_train, how = 'left', on = ['testID', 'assessmentItemID'])"
      ],
      "execution_count": 5,
      "outputs": []
    },
    {
      "cell_type": "code",
      "metadata": {
        "colab": {
          "base_uri": "https://localhost:8080/",
          "height": 205
        },
        "id": "pW-GN3yMtdHv",
        "outputId": "ebed7fac-092c-4261-e5a4-0c89076a45a8"
      },
      "source": [
        "second_df.head()"
      ],
      "execution_count": null,
      "outputs": [
        {
          "output_type": "execute_result",
          "data": {
            "text/html": [
              "<div>\n",
              "<style scoped>\n",
              "    .dataframe tbody tr th:only-of-type {\n",
              "        vertical-align: middle;\n",
              "    }\n",
              "\n",
              "    .dataframe tbody tr th {\n",
              "        vertical-align: top;\n",
              "    }\n",
              "\n",
              "    .dataframe thead th {\n",
              "        text-align: right;\n",
              "    }\n",
              "</style>\n",
              "<table border=\"1\" class=\"dataframe\">\n",
              "  <thead>\n",
              "    <tr style=\"text-align: right;\">\n",
              "      <th></th>\n",
              "      <th>learnerID</th>\n",
              "      <th>testID</th>\n",
              "      <th>assessmentItemID</th>\n",
              "      <th>answerCode</th>\n",
              "      <th>difficultyLevel</th>\n",
              "      <th>discriminationLevel</th>\n",
              "      <th>guessLevel</th>\n",
              "    </tr>\n",
              "  </thead>\n",
              "  <tbody>\n",
              "    <tr>\n",
              "      <th>0</th>\n",
              "      <td>A070001903</td>\n",
              "      <td>A070000094</td>\n",
              "      <td>A070094008</td>\n",
              "      <td>1</td>\n",
              "      <td>-0.629810</td>\n",
              "      <td>2.806422</td>\n",
              "      <td>0.046112</td>\n",
              "    </tr>\n",
              "    <tr>\n",
              "      <th>1</th>\n",
              "      <td>A070001311</td>\n",
              "      <td>A070000094</td>\n",
              "      <td>A070094005</td>\n",
              "      <td>1</td>\n",
              "      <td>-0.152352</td>\n",
              "      <td>4.111677</td>\n",
              "      <td>0.146713</td>\n",
              "    </tr>\n",
              "    <tr>\n",
              "      <th>2</th>\n",
              "      <td>A070001788</td>\n",
              "      <td>A070000094</td>\n",
              "      <td>A070094001</td>\n",
              "      <td>0</td>\n",
              "      <td>0.785138</td>\n",
              "      <td>8.954192</td>\n",
              "      <td>0.295473</td>\n",
              "    </tr>\n",
              "    <tr>\n",
              "      <th>3</th>\n",
              "      <td>A070000421</td>\n",
              "      <td>A070000094</td>\n",
              "      <td>A070094008</td>\n",
              "      <td>1</td>\n",
              "      <td>-0.629810</td>\n",
              "      <td>2.806422</td>\n",
              "      <td>0.046112</td>\n",
              "    </tr>\n",
              "    <tr>\n",
              "      <th>4</th>\n",
              "      <td>A070001017</td>\n",
              "      <td>A070000094</td>\n",
              "      <td>A070094002</td>\n",
              "      <td>1</td>\n",
              "      <td>-0.335048</td>\n",
              "      <td>5.953758</td>\n",
              "      <td>0.278443</td>\n",
              "    </tr>\n",
              "  </tbody>\n",
              "</table>\n",
              "</div>"
            ],
            "text/plain": [
              "    learnerID      testID  ... discriminationLevel  guessLevel\n",
              "0  A070001903  A070000094  ...            2.806422    0.046112\n",
              "1  A070001311  A070000094  ...            4.111677    0.146713\n",
              "2  A070001788  A070000094  ...            8.954192    0.295473\n",
              "3  A070000421  A070000094  ...            2.806422    0.046112\n",
              "4  A070001017  A070000094  ...            5.953758    0.278443\n",
              "\n",
              "[5 rows x 7 columns]"
            ]
          },
          "metadata": {},
          "execution_count": 9
        }
      ]
    },
    {
      "cell_type": "code",
      "metadata": {
        "colab": {
          "base_uri": "https://localhost:8080/"
        },
        "id": "YKEdMbfhtg17",
        "outputId": "2b8ad6cc-82d4-47f5-d116-f2f124a7cfa3"
      },
      "source": [
        "len(second_df)"
      ],
      "execution_count": null,
      "outputs": [
        {
          "output_type": "execute_result",
          "data": {
            "text/plain": [
              "210550"
            ]
          },
          "metadata": {},
          "execution_count": 10
        }
      ]
    },
    {
      "cell_type": "code",
      "metadata": {
        "id": "3H4PHCUItkup"
      },
      "source": [
        "train_df = pd.merge(left = second_df, right = learnerIRT_train, how = 'left', on = ['testID', 'learnerID'])"
      ],
      "execution_count": 6,
      "outputs": []
    },
    {
      "cell_type": "code",
      "metadata": {
        "colab": {
          "base_uri": "https://localhost:8080/",
          "height": 206
        },
        "id": "5u6alPqIt7Zd",
        "outputId": "90399911-9051-404e-ce71-0a297297c4c4"
      },
      "source": [
        "train_df.head()"
      ],
      "execution_count": 8,
      "outputs": [
        {
          "output_type": "execute_result",
          "data": {
            "text/html": [
              "\n",
              "  <div id=\"df-b76690d0-75b8-42a9-b791-d9ee24e28796\">\n",
              "    <div class=\"colab-df-container\">\n",
              "      <div>\n",
              "<style scoped>\n",
              "    .dataframe tbody tr th:only-of-type {\n",
              "        vertical-align: middle;\n",
              "    }\n",
              "\n",
              "    .dataframe tbody tr th {\n",
              "        vertical-align: top;\n",
              "    }\n",
              "\n",
              "    .dataframe thead th {\n",
              "        text-align: right;\n",
              "    }\n",
              "</style>\n",
              "<table border=\"1\" class=\"dataframe\">\n",
              "  <thead>\n",
              "    <tr style=\"text-align: right;\">\n",
              "      <th></th>\n",
              "      <th>learnerID</th>\n",
              "      <th>testID</th>\n",
              "      <th>assessmentItemID</th>\n",
              "      <th>answerCode</th>\n",
              "      <th>Timestamp_x</th>\n",
              "      <th>difficultyLevel</th>\n",
              "      <th>discriminationLevel</th>\n",
              "      <th>guessLevel</th>\n",
              "      <th>KnowledgeTag</th>\n",
              "      <th>Timestamp_y</th>\n",
              "      <th>learnerProfile</th>\n",
              "      <th>theta</th>\n",
              "      <th>realScore</th>\n",
              "      <th>Timestamp</th>\n",
              "    </tr>\n",
              "  </thead>\n",
              "  <tbody>\n",
              "    <tr>\n",
              "      <th>0</th>\n",
              "      <td>A070001903</td>\n",
              "      <td>A070000094</td>\n",
              "      <td>A070094008</td>\n",
              "      <td>1</td>\n",
              "      <td>2020-08-22 08:19:15</td>\n",
              "      <td>-0.629810</td>\n",
              "      <td>2.806422</td>\n",
              "      <td>0.046112</td>\n",
              "      <td>NaN</td>\n",
              "      <td>2021-01-08 06:08:25.336946</td>\n",
              "      <td>F;S01;7</td>\n",
              "      <td>-0.173620</td>\n",
              "      <td>0.635192</td>\n",
              "      <td>2021-01-08 06:08:25.336946</td>\n",
              "    </tr>\n",
              "    <tr>\n",
              "      <th>1</th>\n",
              "      <td>A070001440</td>\n",
              "      <td>A070000094</td>\n",
              "      <td>A070094006</td>\n",
              "      <td>1</td>\n",
              "      <td>2020-09-14 03:04:07</td>\n",
              "      <td>0.001141</td>\n",
              "      <td>1.060096</td>\n",
              "      <td>0.046260</td>\n",
              "      <td>NaN</td>\n",
              "      <td>2021-01-08 06:08:25.336946</td>\n",
              "      <td>F;S01;7</td>\n",
              "      <td>1.293742</td>\n",
              "      <td>0.964566</td>\n",
              "      <td>2021-01-08 06:08:25.336946</td>\n",
              "    </tr>\n",
              "    <tr>\n",
              "      <th>2</th>\n",
              "      <td>A070001619</td>\n",
              "      <td>A070000094</td>\n",
              "      <td>A070094007</td>\n",
              "      <td>0</td>\n",
              "      <td>2020-09-16 21:30:37</td>\n",
              "      <td>1.139958</td>\n",
              "      <td>13.727655</td>\n",
              "      <td>0.299840</td>\n",
              "      <td>NaN</td>\n",
              "      <td>2021-01-08 06:08:25.336946</td>\n",
              "      <td>M;S01;7</td>\n",
              "      <td>0.864086</td>\n",
              "      <td>0.847392</td>\n",
              "      <td>2021-01-08 06:08:25.336946</td>\n",
              "    </tr>\n",
              "    <tr>\n",
              "      <th>3</th>\n",
              "      <td>A070001032</td>\n",
              "      <td>A070000094</td>\n",
              "      <td>A070094004</td>\n",
              "      <td>0</td>\n",
              "      <td>2020-12-16 04:31:25</td>\n",
              "      <td>-0.869407</td>\n",
              "      <td>3.337444</td>\n",
              "      <td>0.013006</td>\n",
              "      <td>NaN</td>\n",
              "      <td>2021-01-08 06:08:25.336946</td>\n",
              "      <td>F;S01;7</td>\n",
              "      <td>-0.791087</td>\n",
              "      <td>0.347025</td>\n",
              "      <td>2021-01-08 06:08:25.336946</td>\n",
              "    </tr>\n",
              "    <tr>\n",
              "      <th>4</th>\n",
              "      <td>A070001138</td>\n",
              "      <td>A070000094</td>\n",
              "      <td>A070094001</td>\n",
              "      <td>1</td>\n",
              "      <td>2020-08-08 19:34:14</td>\n",
              "      <td>0.785138</td>\n",
              "      <td>8.954192</td>\n",
              "      <td>0.295473</td>\n",
              "      <td>NaN</td>\n",
              "      <td>2021-01-08 06:08:25.336946</td>\n",
              "      <td>F;S01;7</td>\n",
              "      <td>1.233376</td>\n",
              "      <td>0.952915</td>\n",
              "      <td>2021-01-08 06:08:25.336946</td>\n",
              "    </tr>\n",
              "  </tbody>\n",
              "</table>\n",
              "</div>\n",
              "      <button class=\"colab-df-convert\" onclick=\"convertToInteractive('df-b76690d0-75b8-42a9-b791-d9ee24e28796')\"\n",
              "              title=\"Convert this dataframe to an interactive table.\"\n",
              "              style=\"display:none;\">\n",
              "        \n",
              "  <svg xmlns=\"http://www.w3.org/2000/svg\" height=\"24px\"viewBox=\"0 0 24 24\"\n",
              "       width=\"24px\">\n",
              "    <path d=\"M0 0h24v24H0V0z\" fill=\"none\"/>\n",
              "    <path d=\"M18.56 5.44l.94 2.06.94-2.06 2.06-.94-2.06-.94-.94-2.06-.94 2.06-2.06.94zm-11 1L8.5 8.5l.94-2.06 2.06-.94-2.06-.94L8.5 2.5l-.94 2.06-2.06.94zm10 10l.94 2.06.94-2.06 2.06-.94-2.06-.94-.94-2.06-.94 2.06-2.06.94z\"/><path d=\"M17.41 7.96l-1.37-1.37c-.4-.4-.92-.59-1.43-.59-.52 0-1.04.2-1.43.59L10.3 9.45l-7.72 7.72c-.78.78-.78 2.05 0 2.83L4 21.41c.39.39.9.59 1.41.59.51 0 1.02-.2 1.41-.59l7.78-7.78 2.81-2.81c.8-.78.8-2.07 0-2.86zM5.41 20L4 18.59l7.72-7.72 1.47 1.35L5.41 20z\"/>\n",
              "  </svg>\n",
              "      </button>\n",
              "      \n",
              "  <style>\n",
              "    .colab-df-container {\n",
              "      display:flex;\n",
              "      flex-wrap:wrap;\n",
              "      gap: 12px;\n",
              "    }\n",
              "\n",
              "    .colab-df-convert {\n",
              "      background-color: #E8F0FE;\n",
              "      border: none;\n",
              "      border-radius: 50%;\n",
              "      cursor: pointer;\n",
              "      display: none;\n",
              "      fill: #1967D2;\n",
              "      height: 32px;\n",
              "      padding: 0 0 0 0;\n",
              "      width: 32px;\n",
              "    }\n",
              "\n",
              "    .colab-df-convert:hover {\n",
              "      background-color: #E2EBFA;\n",
              "      box-shadow: 0px 1px 2px rgba(60, 64, 67, 0.3), 0px 1px 3px 1px rgba(60, 64, 67, 0.15);\n",
              "      fill: #174EA6;\n",
              "    }\n",
              "\n",
              "    [theme=dark] .colab-df-convert {\n",
              "      background-color: #3B4455;\n",
              "      fill: #D2E3FC;\n",
              "    }\n",
              "\n",
              "    [theme=dark] .colab-df-convert:hover {\n",
              "      background-color: #434B5C;\n",
              "      box-shadow: 0px 1px 3px 1px rgba(0, 0, 0, 0.15);\n",
              "      filter: drop-shadow(0px 1px 2px rgba(0, 0, 0, 0.3));\n",
              "      fill: #FFFFFF;\n",
              "    }\n",
              "  </style>\n",
              "\n",
              "      <script>\n",
              "        const buttonEl =\n",
              "          document.querySelector('#df-b76690d0-75b8-42a9-b791-d9ee24e28796 button.colab-df-convert');\n",
              "        buttonEl.style.display =\n",
              "          google.colab.kernel.accessAllowed ? 'block' : 'none';\n",
              "\n",
              "        async function convertToInteractive(key) {\n",
              "          const element = document.querySelector('#df-b76690d0-75b8-42a9-b791-d9ee24e28796');\n",
              "          const dataTable =\n",
              "            await google.colab.kernel.invokeFunction('convertToInteractive',\n",
              "                                                     [key], {});\n",
              "          if (!dataTable) return;\n",
              "\n",
              "          const docLinkHtml = 'Like what you see? Visit the ' +\n",
              "            '<a target=\"_blank\" href=https://colab.research.google.com/notebooks/data_table.ipynb>data table notebook</a>'\n",
              "            + ' to learn more about interactive tables.';\n",
              "          element.innerHTML = '';\n",
              "          dataTable['output_type'] = 'display_data';\n",
              "          await google.colab.output.renderOutput(dataTable, element);\n",
              "          const docLink = document.createElement('div');\n",
              "          docLink.innerHTML = docLinkHtml;\n",
              "          element.appendChild(docLink);\n",
              "        }\n",
              "      </script>\n",
              "    </div>\n",
              "  </div>\n",
              "  "
            ],
            "text/plain": [
              "    learnerID      testID  ... realScore                   Timestamp\n",
              "0  A070001903  A070000094  ...  0.635192  2021-01-08 06:08:25.336946\n",
              "1  A070001440  A070000094  ...  0.964566  2021-01-08 06:08:25.336946\n",
              "2  A070001619  A070000094  ...  0.847392  2021-01-08 06:08:25.336946\n",
              "3  A070001032  A070000094  ...  0.347025  2021-01-08 06:08:25.336946\n",
              "4  A070001138  A070000094  ...  0.952915  2021-01-08 06:08:25.336946\n",
              "\n",
              "[5 rows x 14 columns]"
            ]
          },
          "metadata": {},
          "execution_count": 8
        }
      ]
    },
    {
      "cell_type": "code",
      "metadata": {
        "colab": {
          "base_uri": "https://localhost:8080/"
        },
        "id": "za0nf8Fit-CI",
        "outputId": "83735426-3f21-41ac-b2fd-150c1f376b99"
      },
      "source": [
        "len(train_df)"
      ],
      "execution_count": 9,
      "outputs": [
        {
          "output_type": "execute_result",
          "data": {
            "text/plain": [
              "210550"
            ]
          },
          "metadata": {},
          "execution_count": 9
        }
      ]
    },
    {
      "cell_type": "code",
      "metadata": {
        "id": "q8E-WNfYvAUH"
      },
      "source": [
        "se_df = pd.merge(left = correct_valid, right = itemIRT_valid, how = 'left', on = ['testID', 'assessmentItemID'])\n",
        "valid_df = pd.merge(left = se_df, right = learnerIRT_valid, how = 'left', on = ['testID', 'learnerID'])"
      ],
      "execution_count": 7,
      "outputs": []
    },
    {
      "cell_type": "code",
      "metadata": {
        "colab": {
          "base_uri": "https://localhost:8080/"
        },
        "id": "7rNsvGBJvV-L",
        "outputId": "85049e00-1ba8-4e2f-bdfa-8df8699e76ae"
      },
      "source": [
        "len(valid_df)"
      ],
      "execution_count": 11,
      "outputs": [
        {
          "output_type": "execute_result",
          "data": {
            "text/plain": [
              "43044"
            ]
          },
          "metadata": {},
          "execution_count": 11
        }
      ]
    },
    {
      "cell_type": "code",
      "metadata": {
        "id": "IH-9Os6FvXBY"
      },
      "source": [
        "#train_df.to_csv('train', index = False)\n",
        "#valid_df.to_csv('valid', index = False)"
      ],
      "execution_count": null,
      "outputs": []
    },
    {
      "cell_type": "code",
      "metadata": {
        "id": "zHbjRICVwYNs"
      },
      "source": [
        ""
      ],
      "execution_count": null,
      "outputs": []
    },
    {
      "cell_type": "markdown",
      "metadata": {
        "id": "e0tpfUKexfQI"
      },
      "source": [
        "# 모델만들기1\n",
        "\n",
        "### 로지스틱회귀\n",
        "\n",
        "*train_df(answerCode | difficultyLevel | discriminationLevel | \tguessLevel | theta | realScore)\n",
        "\n",
        "\n",
        "*valid_df \n"
      ]
    },
    {
      "cell_type": "code",
      "metadata": {
        "colab": {
          "base_uri": "https://localhost:8080/"
        },
        "id": "GesN8AFFxnCR",
        "outputId": "310f3e1c-09a7-4b70-f86c-f84a9701b339"
      },
      "source": [
        "target = 'answerCode'\n",
        "#features = ['difficultyLevel', 'guessLevel', 'theta', 'realScore']\n",
        "features = ['difficultyLevel', 'discriminationLevel', 'guessLevel', 'theta', 'realScore']\n",
        "y_train = train_df[target]\n",
        "X_train = train_df[features]\n",
        "\n",
        "y_train.value_counts(normalize = True)"
      ],
      "execution_count": 16,
      "outputs": [
        {
          "output_type": "execute_result",
          "data": {
            "text/plain": [
              "1    0.519212\n",
              "0    0.480788\n",
              "Name: answerCode, dtype: float64"
            ]
          },
          "metadata": {},
          "execution_count": 16
        }
      ]
    },
    {
      "cell_type": "code",
      "metadata": {
        "id": "p6k-57YSbWmG"
      },
      "source": [
        "y_val = valid_df[target]\n",
        "X_val = valid_df[features]"
      ],
      "execution_count": 17,
      "outputs": []
    },
    {
      "cell_type": "code",
      "metadata": {
        "colab": {
          "base_uri": "https://localhost:8080/"
        },
        "id": "K0bgL_tlbCEL",
        "outputId": "7d5a3691-b45c-4435-ce50-583929153b83"
      },
      "source": [
        "from sklearn.linear_model import LogisticRegression\n",
        "\n",
        "logistic = LogisticRegression()\n",
        "logistic.fit(X_train, y_train)"
      ],
      "execution_count": 18,
      "outputs": [
        {
          "output_type": "execute_result",
          "data": {
            "text/plain": [
              "LogisticRegression()"
            ]
          },
          "metadata": {},
          "execution_count": 18
        }
      ]
    },
    {
      "cell_type": "code",
      "source": [
        ""
      ],
      "metadata": {
        "id": "i3dcNkMj45Hb"
      },
      "execution_count": null,
      "outputs": []
    },
    {
      "cell_type": "code",
      "metadata": {
        "colab": {
          "base_uri": "https://localhost:8080/"
        },
        "id": "EEl4emyVbixE",
        "outputId": "b2abc5de-aaa6-47b7-9b9f-67c812a69b7f"
      },
      "source": [
        "print('검증세트 정확도', logistic.score(X_val, y_val))"
      ],
      "execution_count": 19,
      "outputs": [
        {
          "output_type": "stream",
          "name": "stdout",
          "text": [
            "검증세트 정확도 0.809938667410092\n"
          ]
        }
      ]
    },
    {
      "cell_type": "code",
      "metadata": {
        "colab": {
          "base_uri": "https://localhost:8080/",
          "height": 52
        },
        "id": "1D1KdztXb75k",
        "outputId": "6e3264ce-a696-49c0-bd24-9dfb7fc36956"
      },
      "source": [
        "\n",
        "from wandb.keras import WandbCallback\n",
        "wandb_project = 'project_logisticRegression'\n",
        "wandb_group = \"\"\n",
        "wandb.init(project = wandb_project)\n",
        "\n",
        "from sklearn.metrics import accuracy_score\n",
        "model = LogisticRegression(random_state = 1)\n",
        "model.fit(X_train, y_train)\n",
        "y_pred = model.predict(X_val)\n",
        "accuracy = accuracy_score(y_val, y_pred)\n",
        "coefficients = pd.Series(model.coef_[0], X_train.columns)\n",
        "wandb.log({'accuracy' : accuracy})\n"
      ],
      "execution_count": 20,
      "outputs": [
        {
          "output_type": "stream",
          "name": "stderr",
          "text": [
            "\u001b[34m\u001b[1mwandb\u001b[0m: Currently logged in as: \u001b[33miznooy\u001b[0m (use `wandb login --relogin` to force relogin)\n"
          ]
        },
        {
          "output_type": "display_data",
          "data": {
            "text/html": [
              "\n",
              "                    Syncing run <strong><a href=\"https://wandb.ai/iznooy/project_logisticRegression/runs/325hur8z\" target=\"_blank\">playful-shape-1</a></strong> to <a href=\"https://wandb.ai/iznooy/project_logisticRegression\" target=\"_blank\">Weights & Biases</a> (<a href=\"https://docs.wandb.com/integrations/jupyter.html\" target=\"_blank\">docs</a>).<br/>\n",
              "\n",
              "                "
            ],
            "text/plain": [
              "<IPython.core.display.HTML object>"
            ]
          },
          "metadata": {}
        }
      ]
    },
    {
      "cell_type": "code",
      "metadata": {
        "colab": {
          "base_uri": "https://localhost:8080/"
        },
        "id": "TCIEu-jbctar",
        "outputId": "74f95b8b-af14-42a5-ee39-38758cb917b0"
      },
      "source": [
        "()\n",
        "coefficients\n"
      ],
      "execution_count": 28,
      "outputs": [
        {
          "output_type": "execute_result",
          "data": {
            "text/plain": [
              "difficultyLevel       -1.620651\n",
              "discriminationLevel   -0.001726\n",
              "guessLevel             3.227950\n",
              "theta                  1.742168\n",
              "realScore              1.590439\n",
              "dtype: float64"
            ]
          },
          "metadata": {},
          "execution_count": 28
        }
      ]
    },
    {
      "cell_type": "code",
      "metadata": {
        "colab": {
          "base_uri": "https://localhost:8080/",
          "height": 282
        },
        "id": "wtSoTRxrdL4c",
        "outputId": "a60788ed-7322-440d-c6c4-b42680eb0dab"
      },
      "source": [
        "coefficients.sort_values().plot.barh()"
      ],
      "execution_count": 29,
      "outputs": [
        {
          "output_type": "execute_result",
          "data": {
            "text/plain": [
              "<matplotlib.axes._subplots.AxesSubplot at 0x7f4aa35dec50>"
            ]
          },
          "metadata": {},
          "execution_count": 29
        },
        {
          "output_type": "display_data",
          "data": {
            "image/png": "[encoded data removed]",
            "text/plain": [
              "<Figure size 432x288 with 1 Axes>"
            ]
          },
          "metadata": {
            "needs_background": "light"
          }
        }
      ]
    },
    {
      "cell_type": "code",
      "metadata": {
        "colab": {
          "base_uri": "https://localhost:8080/"
        },
        "id": "iCV2zf9pdZ9m",
        "outputId": "52db9cfe-ccc0-4277-d4a6-a0b1ec46b556"
      },
      "source": [
        "test_case = [[2, 0, 2, -1, 1]]\n",
        "logistic.predict(test_case)"
      ],
      "execution_count": null,
      "outputs": [
        {
          "output_type": "execute_result",
          "data": {
            "text/plain": [
              "array([1])"
            ]
          },
          "metadata": {},
          "execution_count": 24
        }
      ]
    },
    {
      "cell_type": "code",
      "metadata": {
        "colab": {
          "base_uri": "https://localhost:8080/"
        },
        "id": "f-EryJ62eZPa",
        "outputId": "e730d246-48e0-487a-d17b-2fb77ff6d21b"
      },
      "source": [
        "test_case_1 = [[-1, 0, 2, -1, 1]]\n",
        "logistic.predict(test_case_1)"
      ],
      "execution_count": null,
      "outputs": [
        {
          "output_type": "execute_result",
          "data": {
            "text/plain": [
              "array([1])"
            ]
          },
          "metadata": {},
          "execution_count": 25
        }
      ]
    },
    {
      "cell_type": "code",
      "metadata": {
        "colab": {
          "base_uri": "https://localhost:8080/"
        },
        "id": "RSC3rkyHehec",
        "outputId": "0f9a6935-9e1b-410d-9547-14120105eba1"
      },
      "source": [
        "test_case_2 = [[3, 0, 2, -1, -1]]\n",
        "logistic.predict(test_case_2)"
      ],
      "execution_count": null,
      "outputs": [
        {
          "output_type": "execute_result",
          "data": {
            "text/plain": [
              "array([0])"
            ]
          },
          "metadata": {},
          "execution_count": 26
        }
      ]
    },
    {
      "cell_type": "code",
      "metadata": {
        "id": "2aMsF30eeswS",
        "colab": {
          "base_uri": "https://localhost:8080/",
          "height": 290
        },
        "outputId": "edf096b4-9771-4a21-bb64-df616246fbe8"
      },
      "source": [
        "import pickle\n",
        "from sklearn.externals import joblib\n",
        "\n",
        "saved_model = pickle.dumps(clf)\n",
        "clf_from_pickle = pickle.loads(saved_model)\n",
        "\n",
        "# joblib.dump(clf, 'filename.pkl') \n",
        "# clf_from_joblib = joblib.load('filename.pkl') \n",
        "# clf_from_joblib.predict(X)"
      ],
      "execution_count": null,
      "outputs": [
        {
          "output_type": "stream",
          "name": "stderr",
          "text": [
            "/usr/local/lib/python3.7/dist-packages/sklearn/externals/joblib/__init__.py:15: FutureWarning: sklearn.externals.joblib is deprecated in 0.21 and will be removed in 0.23. Please import this functionality directly from joblib, which can be installed with: pip install joblib. If this warning is raised when loading pickled models, you may need to re-serialize those models with scikit-learn 0.21+.\n",
            "  warnings.warn(msg, category=FutureWarning)\n"
          ]
        },
        {
          "output_type": "error",
          "ename": "NameError",
          "evalue": "ignored",
          "traceback": [
            "\u001b[0;31m---------------------------------------------------------------------------\u001b[0m",
            "\u001b[0;31mNameError\u001b[0m                                 Traceback (most recent call last)",
            "\u001b[0;32m<ipython-input-27-8a7c16477a8d>\u001b[0m in \u001b[0;36m<module>\u001b[0;34m()\u001b[0m\n\u001b[1;32m      2\u001b[0m \u001b[0;32mfrom\u001b[0m \u001b[0msklearn\u001b[0m\u001b[0;34m.\u001b[0m\u001b[0mexternals\u001b[0m \u001b[0;32mimport\u001b[0m \u001b[0mjoblib\u001b[0m\u001b[0;34m\u001b[0m\u001b[0;34m\u001b[0m\u001b[0m\n\u001b[1;32m      3\u001b[0m \u001b[0;34m\u001b[0m\u001b[0m\n\u001b[0;32m----> 4\u001b[0;31m \u001b[0msaved_model\u001b[0m \u001b[0;34m=\u001b[0m \u001b[0mpickle\u001b[0m\u001b[0;34m.\u001b[0m\u001b[0mdumps\u001b[0m\u001b[0;34m(\u001b[0m\u001b[0mclf\u001b[0m\u001b[0;34m)\u001b[0m\u001b[0;34m\u001b[0m\u001b[0;34m\u001b[0m\u001b[0m\n\u001b[0m\u001b[1;32m      5\u001b[0m \u001b[0mclf_from_pickle\u001b[0m \u001b[0;34m=\u001b[0m \u001b[0mpickle\u001b[0m\u001b[0;34m.\u001b[0m\u001b[0mloads\u001b[0m\u001b[0;34m(\u001b[0m\u001b[0msaved_model\u001b[0m\u001b[0;34m)\u001b[0m\u001b[0;34m\u001b[0m\u001b[0;34m\u001b[0m\u001b[0m\n\u001b[1;32m      6\u001b[0m \u001b[0;34m\u001b[0m\u001b[0m\n",
            "\u001b[0;31mNameError\u001b[0m: name 'clf' is not defined"
          ]
        }
      ]
    },
    {
      "cell_type": "code",
      "metadata": {
        "id": "V01AC5e23y6u"
      },
      "source": [
        "!pip install joblib"
      ],
      "execution_count": null,
      "outputs": []
    },
    {
      "cell_type": "code",
      "metadata": {
        "id": "31-CepNF3bY1"
      },
      "source": [
        "import pickle\n",
        "from sklearn.externals import joblib\n",
        "\n",
        "joblib.dump(logistic, 'filename.pkl') \n",
        "clf_from_joblib = joblib.load('filename.pkl') \n",
        "clf_from_joblib.predict(test_case)"
      ],
      "execution_count": null,
      "outputs": []
    },
    {
      "cell_type": "markdown",
      "source": [
        "#모델 만들기2\n",
        "\n",
        "###Rnn\n",
        "\n"
      ],
      "metadata": {
        "id": "ZfZLW8nIPVnU"
      }
    },
    {
      "cell_type": "code",
      "source": [
        "layer_input = keras.Input(shape = (5,1), name = 'input')\n",
        "layer_rnn = keras.layers.SimpleRNN(100, name = 'RNN')(layer_input)\n",
        "layer_output = keras.layers.Dense(1, name = 'output')(layer_rnn)\n",
        "\n",
        "rnn_model = keras.Model(layer_input, layer_output)\n",
        "print(rnn_model.summary())"
      ],
      "metadata": {
        "id": "NFkS8AaSPaDG",
        "colab": {
          "base_uri": "https://localhost:8080/"
        },
        "outputId": "87a5f866-94a6-40cb-add1-e06eee8d6a91"
      },
      "execution_count": 26,
      "outputs": [
        {
          "output_type": "stream",
          "name": "stdout",
          "text": [
            "Model: \"model_1\"\n",
            "_________________________________________________________________\n",
            " Layer (type)                Output Shape              Param #   \n",
            "=================================================================\n",
            " input (InputLayer)          [(None, 5, 1)]            0         \n",
            "                                                                 \n",
            " RNN (SimpleRNN)             (None, 100)               10200     \n",
            "                                                                 \n",
            " output (Dense)              (None, 1)                 101       \n",
            "                                                                 \n",
            "=================================================================\n",
            "Total params: 10,301\n",
            "Trainable params: 10,301\n",
            "Non-trainable params: 0\n",
            "_________________________________________________________________\n",
            "None\n"
          ]
        }
      ]
    },
    {
      "cell_type": "code",
      "source": [
        "rnn_model.compile(loss = 'binary_crossentropy', optimizer = 'adam', metrics = ['accuracy'])\n",
        "rnn_model._name = 'many_to_one'"
      ],
      "metadata": {
        "id": "IWEIYZrQW1vX"
      },
      "execution_count": 27,
      "outputs": []
    },
    {
      "cell_type": "code",
      "source": [
        "from wandb.keras import WandbCallback\n",
        "wandb_project = 'project_RNN'\n",
        "wandb_group = \"\"\n",
        "wandb.init(project = wandb_project)\n",
        "\n",
        "wandb.config.epochs = 20\n",
        "wandb.config.batch_size = 128\n",
        "\n",
        "rnn_model.fit(X_train, y_train,\n",
        "          batch_size=wandb.config.batch_size, \n",
        "          epochs=wandb.config.epochs, \n",
        "         validation_split=0.2, callbacks = [WandbCallback()])\n"
      ],
      "metadata": {
        "id": "c8eB0FfmPaHT",
        "colab": {
          "base_uri": "https://localhost:8080/",
          "height": 1000,
          "referenced_widgets": [
            "0f142dd1851341fab31fae563367ac34",
            "486d25443006489fb8c7c9b1f823831e",
            "45d8e70b4ade438da319f1768936e5a4",
            "91746f4273ff432a838071ac47411fe9",
            "1494b3e5f54b4a2fb7ff184e3d058a39",
            "9ddbc164da9a4437bd41b719682a591e",
            "8c3b225f14104d8dbad305bdb17b32f0",
            "2cd98eb87a294f999cd1458e0bd47352"
          ]
        },
        "outputId": "bce42e23-7039-4578-d7af-f9725848c594"
      },
      "execution_count": 28,
      "outputs": [
        {
          "output_type": "display_data",
          "data": {
            "text/html": [
              "Finishing last run (ID:344mvwcc) before initializing another..."
            ],
            "text/plain": [
              "<IPython.core.display.HTML object>"
            ]
          },
          "metadata": {}
        },
        {
          "output_type": "display_data",
          "data": {
            "text/html": [
              "<br/>Waiting for W&B process to finish, PID 561... <strong style=\"color:green\">(success).</strong>"
            ],
            "text/plain": [
              "<IPython.core.display.HTML object>"
            ]
          },
          "metadata": {}
        },
        {
          "output_type": "display_data",
          "data": {
            "application/vnd.jupyter.widget-view+json": {
              "model_id": "0f142dd1851341fab31fae563367ac34",
              "version_minor": 0,
              "version_major": 2
            },
            "text/plain": [
              "VBox(children=(Label(value=' 0.39MB of 0.39MB uploaded (0.00MB deduped)\\r'), FloatProgress(value=1.0, max=1.0)…"
            ]
          },
          "metadata": {}
        },
        {
          "output_type": "display_data",
          "data": {
            "text/html": [
              "<style>\n",
              "    table.wandb td:nth-child(1) { padding: 0 10px; text-align: right }\n",
              "    .wandb-row { display: flex; flex-direction: row; flex-wrap: wrap; width: 100% }\n",
              "    .wandb-col { display: flex; flex-direction: column; flex-basis: 100%; flex: 1; padding: 10px; }\n",
              "    </style>\n",
              "<div class=\"wandb-row\"><div class=\"wandb-col\">\n",
              "<h3>Run history:</h3><br/><table class=\"wandb\"><tr><td>accuracy</td><td>█▃▁▄▇▇▇▇▇▇▇▇▇▇▇▇▇▇▇▇</td></tr><tr><td>batch_size</td><td>▁</td></tr><tr><td>epoch</td><td>▁▁▂▂▂▃▃▄▄▄▅▅▅▆▆▇▇▇██</td></tr><tr><td>epochs</td><td>▁</td></tr><tr><td>loss</td><td>▁▆█▅▃▃▃▃▃▃▃▃▃▃▃▃▃▃▃▃</td></tr><tr><td>val_accuracy</td><td>█▁▁▁▁▁▁▁▁▁▁▁▁▁▁▁▁▁▁▁</td></tr><tr><td>val_loss</td><td>▁██▇▇▇▇▇▇▇▇▇▇▇▇▇▇▇▇▇</td></tr></table><br/></div><div class=\"wandb-col\">\n",
              "<h3>Run summary:</h3><br/><table class=\"wandb\"><tr><td>accuracy</td><td>0.52286</td></tr><tr><td>batch_size</td><td>128</td></tr><tr><td>best_epoch</td><td>0</td></tr><tr><td>best_val_loss</td><td>6.39705</td></tr><tr><td>epoch</td><td>19</td></tr><tr><td>epochs</td><td>20</td></tr><tr><td>loss</td><td>7.27622</td></tr><tr><td>val_accuracy</td><td>0.50055</td></tr><tr><td>val_loss</td><td>7.61629</td></tr></table>\n",
              "</div></div>\n",
              "Synced 5 W&B file(s), 1 media file(s), 0 artifact file(s) and 1 other file(s)\n",
              "<br/>Synced <strong style=\"color:#cdcd00\">exalted-wood-1</strong>: <a href=\"https://wandb.ai/iznooy/project_stackedRNN/runs/344mvwcc\" target=\"_blank\">https://wandb.ai/iznooy/project_stackedRNN/runs/344mvwcc</a><br/>\n",
              "Find logs at: <code>./wandb/run-20211222_073810-344mvwcc/logs</code><br/>\n"
            ],
            "text/plain": [
              "<IPython.core.display.HTML object>"
            ]
          },
          "metadata": {}
        },
        {
          "output_type": "display_data",
          "data": {
            "text/html": [
              "Successfully finished last run (ID:344mvwcc). Initializing new run:<br/>"
            ],
            "text/plain": [
              "<IPython.core.display.HTML object>"
            ]
          },
          "metadata": {}
        },
        {
          "output_type": "display_data",
          "data": {
            "text/html": [
              "\n",
              "                    Syncing run <strong><a href=\"https://wandb.ai/iznooy/project_RNN/runs/1l1rgr2g\" target=\"_blank\">woven-waterfall-1</a></strong> to <a href=\"https://wandb.ai/iznooy/project_RNN\" target=\"_blank\">Weights & Biases</a> (<a href=\"https://docs.wandb.com/integrations/jupyter.html\" target=\"_blank\">docs</a>).<br/>\n",
              "\n",
              "                "
            ],
            "text/plain": [
              "<IPython.core.display.HTML object>"
            ]
          },
          "metadata": {}
        },
        {
          "output_type": "stream",
          "name": "stdout",
          "text": [
            "Epoch 1/20\n",
            "1316/1316 [==============================] - 7s 5ms/step - loss: 0.5796 - accuracy: 0.7539 - val_loss: 0.4625 - val_accuracy: 0.7829\n",
            "Epoch 2/20\n",
            "1316/1316 [==============================] - 6s 5ms/step - loss: 3.0967 - accuracy: 0.6703 - val_loss: 7.6385 - val_accuracy: 0.5043\n",
            "Epoch 3/20\n",
            "1316/1316 [==============================] - 6s 5ms/step - loss: 7.9329 - accuracy: 0.4851 - val_loss: 7.5775 - val_accuracy: 0.5082\n",
            "Epoch 4/20\n",
            "1316/1316 [==============================] - 6s 5ms/step - loss: 7.7568 - accuracy: 0.4966 - val_loss: 7.1534 - val_accuracy: 0.5360\n",
            "Epoch 5/20\n",
            "1316/1316 [==============================] - 6s 5ms/step - loss: 7.2154 - accuracy: 0.5313 - val_loss: 7.1176 - val_accuracy: 0.5370\n",
            "Epoch 6/20\n",
            "1316/1316 [==============================] - 6s 5ms/step - loss: 6.6999 - accuracy: 0.5634 - val_loss: 6.5143 - val_accuracy: 0.5765\n",
            "Epoch 7/20\n",
            "1316/1316 [==============================] - 6s 5ms/step - loss: 6.5311 - accuracy: 0.5752 - val_loss: 6.5143 - val_accuracy: 0.5765\n",
            "Epoch 8/20\n",
            "1316/1316 [==============================] - 6s 5ms/step - loss: 6.6207 - accuracy: 0.5691 - val_loss: 6.9750 - val_accuracy: 0.5469\n",
            "Epoch 9/20\n",
            "1316/1316 [==============================] - 6s 5ms/step - loss: 6.8195 - accuracy: 0.5570 - val_loss: 6.9448 - val_accuracy: 0.5486\n",
            "Epoch 10/20\n",
            "1316/1316 [==============================] - 6s 5ms/step - loss: 6.8106 - accuracy: 0.5575 - val_loss: 6.9389 - val_accuracy: 0.5488\n",
            "Epoch 11/20\n",
            "1316/1316 [==============================] - 6s 5ms/step - loss: 6.6940 - accuracy: 0.5649 - val_loss: 6.7390 - val_accuracy: 0.5623\n",
            "Epoch 12/20\n",
            "1316/1316 [==============================] - 6s 5ms/step - loss: 6.6224 - accuracy: 0.5696 - val_loss: 6.7390 - val_accuracy: 0.5623\n",
            "Epoch 13/20\n",
            "1316/1316 [==============================] - 6s 5ms/step - loss: 6.6224 - accuracy: 0.5696 - val_loss: 6.7390 - val_accuracy: 0.5623\n",
            "Epoch 14/20\n",
            "1316/1316 [==============================] - 6s 5ms/step - loss: 6.6224 - accuracy: 0.5696 - val_loss: 6.7390 - val_accuracy: 0.5623\n",
            "Epoch 15/20\n",
            "1316/1316 [==============================] - 6s 5ms/step - loss: 6.6224 - accuracy: 0.5696 - val_loss: 6.7390 - val_accuracy: 0.5623\n",
            "Epoch 16/20\n",
            "1316/1316 [==============================] - 6s 5ms/step - loss: 6.6224 - accuracy: 0.5696 - val_loss: 6.7390 - val_accuracy: 0.5623\n",
            "Epoch 17/20\n",
            "1316/1316 [==============================] - 6s 5ms/step - loss: 6.6224 - accuracy: 0.5696 - val_loss: 6.7390 - val_accuracy: 0.5623\n",
            "Epoch 18/20\n",
            "1316/1316 [==============================] - 6s 5ms/step - loss: 6.6224 - accuracy: 0.5696 - val_loss: 6.7390 - val_accuracy: 0.5623\n",
            "Epoch 19/20\n",
            "1316/1316 [==============================] - 6s 5ms/step - loss: 6.6224 - accuracy: 0.5696 - val_loss: 6.7390 - val_accuracy: 0.5623\n",
            "Epoch 20/20\n",
            "1316/1316 [==============================] - 6s 5ms/step - loss: 6.6224 - accuracy: 0.5696 - val_loss: 6.7390 - val_accuracy: 0.5623\n"
          ]
        },
        {
          "output_type": "execute_result",
          "data": {
            "text/plain": [
              "<keras.callbacks.History at 0x7f8bb9bc5890>"
            ]
          },
          "metadata": {},
          "execution_count": 28
        }
      ]
    },
    {
      "cell_type": "code",
      "source": [
        "print('검증세트 정확도', rnn_model.evaluate(X_val, y_val))"
      ],
      "metadata": {
        "id": "DxHrWfdyPaJE",
        "colab": {
          "base_uri": "https://localhost:8080/"
        },
        "outputId": "fade62a7-05cc-4ef2-c01f-3f368e1041a0"
      },
      "execution_count": 29,
      "outputs": [
        {
          "output_type": "stream",
          "name": "stdout",
          "text": [
            "1346/1346 [==============================] - 2s 2ms/step - loss: 6.8689 - accuracy: 0.5537\n",
            "검증세트 정확도 [6.868892192840576, 0.5536892414093018]\n"
          ]
        }
      ]
    },
    {
      "cell_type": "code",
      "source": [
        ""
      ],
      "metadata": {
        "id": "CvQtqCP0PaKb"
      },
      "execution_count": null,
      "outputs": []
    },
    {
      "cell_type": "markdown",
      "source": [
        "### Stacked RNN"
      ],
      "metadata": {
        "id": "JIgaqVshVVMZ"
      }
    },
    {
      "cell_type": "code",
      "source": [
        "import numpy as np\n",
        "import tensorflow as tf\n",
        "from tensorflow import keras"
      ],
      "metadata": {
        "id": "53qMOjHeHNTv"
      },
      "execution_count": 22,
      "outputs": []
    },
    {
      "cell_type": "code",
      "source": [
        "layer_input = keras.Input(shape = (5,1), name= 'input')\n",
        "layer_rnn0 = keras.layers.SimpleRNN(100, return_sequences=True, name = 'RNN_cell_0')(layer_input)\n",
        "layer_rnn1 = keras.layers.SimpleRNN(100, name = 'RNN_cell_1')(layer_rnn0)\n",
        "layer_output = keras.layers.Dense(1, name = 'output')(layer_rnn1)\n",
        "\n",
        "model = keras.Model(layer_input, layer_output)\n",
        "model._name = 'stack_many_to_one'\n",
        "print(model.summary())\n",
        "\n",
        "model.compile(loss = 'binary_crossentropy', optimizer = 'adam', metrics = ['accuracy'])"
      ],
      "metadata": {
        "id": "gfTviD59PaMB",
        "colab": {
          "base_uri": "https://localhost:8080/"
        },
        "outputId": "217a1f74-4a9a-464a-a126-3318731bb84b"
      },
      "execution_count": 23,
      "outputs": [
        {
          "output_type": "stream",
          "name": "stdout",
          "text": [
            "Model: \"stack_many_to_one\"\n",
            "_________________________________________________________________\n",
            " Layer (type)                Output Shape              Param #   \n",
            "=================================================================\n",
            " input (InputLayer)          [(None, 5, 1)]            0         \n",
            "                                                                 \n",
            " RNN_cell_0 (SimpleRNN)      (None, 5, 100)            10200     \n",
            "                                                                 \n",
            " RNN_cell_1 (SimpleRNN)      (None, 100)               20100     \n",
            "                                                                 \n",
            " output (Dense)              (None, 1)                 101       \n",
            "                                                                 \n",
            "=================================================================\n",
            "Total params: 30,401\n",
            "Trainable params: 30,401\n",
            "Non-trainable params: 0\n",
            "_________________________________________________________________\n",
            "None\n"
          ]
        }
      ]
    },
    {
      "cell_type": "code",
      "source": [
        "from wandb.keras import WandbCallback\n",
        "wandb_project = 'project_stackedRNN'\n",
        "wandb_group = \"\"\n",
        "wandb.init(project = wandb_project)\n",
        "\n",
        "wandb.config.epochs = 20\n",
        "wandb.config.batch_size = 128\n",
        "\n",
        "\n",
        "model.fit(X_train, y_train,\n",
        "          batch_size=wandb.config.batch_size, \n",
        "          epochs=wandb.config.epochs, \n",
        "         validation_split=0.2, callbacks = [WandbCallback()])\n",
        "\n",
        "'''\n",
        "model.fit(X_train, y_train,\n",
        "          batch_size= 10, \n",
        "          epochs=128, \n",
        "         validation_split=0.2, callbacks = [early_stop, save_best])\n",
        "'''\n",
        "\n",
        "wandb.log({'epochs' : wandb.config.epochs,\n",
        "           'batch_size' : wandb.config.batch_size})"
      ],
      "metadata": {
        "colab": {
          "base_uri": "https://localhost:8080/",
          "height": 966,
          "referenced_widgets": [
            "0a32277671af40dcbd6534e7f0c9afd0",
            "f9cc378346084a8a8f02fab587b88d7d",
            "a817628b0a3748e88d7e3359051aa70f",
            "8d287fa2df934aecb94c88f8ce3a4171",
            "cba680f0198942bebecf42afac8fdf3f",
            "6828ee530eb642859c3a8e5263bce0fd",
            "b3bd05b579b2447f8d21f600c0edda9d",
            "fbde4a94e51149cfa1818ef86e445971"
          ]
        },
        "id": "qTqZ3tQdVlD8",
        "outputId": "50e55b8b-d308-49bc-b6e7-f2f5821680c7"
      },
      "execution_count": 24,
      "outputs": [
        {
          "output_type": "display_data",
          "data": {
            "text/html": [
              "Finishing last run (ID:325hur8z) before initializing another..."
            ],
            "text/plain": [
              "<IPython.core.display.HTML object>"
            ]
          },
          "metadata": {}
        },
        {
          "output_type": "display_data",
          "data": {
            "text/html": [
              "<br/>Waiting for W&B process to finish, PID 502... <strong style=\"color:green\">(success).</strong>"
            ],
            "text/plain": [
              "<IPython.core.display.HTML object>"
            ]
          },
          "metadata": {}
        },
        {
          "output_type": "display_data",
          "data": {
            "application/vnd.jupyter.widget-view+json": {
              "model_id": "0a32277671af40dcbd6534e7f0c9afd0",
              "version_minor": 0,
              "version_major": 2
            },
            "text/plain": [
              "VBox(children=(Label(value=' 0.00MB of 0.00MB uploaded (0.00MB deduped)\\r'), FloatProgress(value=1.0, max=1.0)…"
            ]
          },
          "metadata": {}
        },
        {
          "output_type": "display_data",
          "data": {
            "text/html": [
              "<style>\n",
              "    table.wandb td:nth-child(1) { padding: 0 10px; text-align: right }\n",
              "    .wandb-row { display: flex; flex-direction: row; flex-wrap: wrap; width: 100% }\n",
              "    .wandb-col { display: flex; flex-direction: column; flex-basis: 100%; flex: 1; padding: 10px; }\n",
              "    </style>\n",
              "<div class=\"wandb-row\"><div class=\"wandb-col\">\n",
              "<h3>Run history:</h3><br/><table class=\"wandb\"><tr><td>accuracy</td><td>▁</td></tr></table><br/></div><div class=\"wandb-col\">\n",
              "<h3>Run summary:</h3><br/><table class=\"wandb\"><tr><td>accuracy</td><td>0.80994</td></tr></table>\n",
              "</div></div>\n",
              "Synced 5 W&B file(s), 0 media file(s), 0 artifact file(s) and 0 other file(s)\n",
              "<br/>Synced <strong style=\"color:#cdcd00\">playful-shape-1</strong>: <a href=\"https://wandb.ai/iznooy/project_logisticRegression/runs/325hur8z\" target=\"_blank\">https://wandb.ai/iznooy/project_logisticRegression/runs/325hur8z</a><br/>\n",
              "Find logs at: <code>./wandb/run-20211222_073702-325hur8z/logs</code><br/>\n"
            ],
            "text/plain": [
              "<IPython.core.display.HTML object>"
            ]
          },
          "metadata": {}
        },
        {
          "output_type": "display_data",
          "data": {
            "text/html": [
              "Successfully finished last run (ID:325hur8z). Initializing new run:<br/>"
            ],
            "text/plain": [
              "<IPython.core.display.HTML object>"
            ]
          },
          "metadata": {}
        },
        {
          "output_type": "display_data",
          "data": {
            "text/html": [
              "\n",
              "                    Syncing run <strong><a href=\"https://wandb.ai/iznooy/project_stackedRNN/runs/344mvwcc\" target=\"_blank\">exalted-wood-1</a></strong> to <a href=\"https://wandb.ai/iznooy/project_stackedRNN\" target=\"_blank\">Weights & Biases</a> (<a href=\"https://docs.wandb.com/integrations/jupyter.html\" target=\"_blank\">docs</a>).<br/>\n",
              "\n",
              "                "
            ],
            "text/plain": [
              "<IPython.core.display.HTML object>"
            ]
          },
          "metadata": {}
        },
        {
          "output_type": "stream",
          "name": "stdout",
          "text": [
            "Epoch 1/20\n",
            "1316/1316 [==============================] - 17s 12ms/step - loss: 7.0029 - accuracy: 0.5310 - val_loss: 6.3970 - val_accuracy: 0.5655\n",
            "Epoch 2/20\n",
            "1316/1316 [==============================] - 11s 9ms/step - loss: 7.7925 - accuracy: 0.4889 - val_loss: 7.7095 - val_accuracy: 0.4980\n",
            "Epoch 3/20\n",
            "1316/1316 [==============================] - 11s 9ms/step - loss: 8.0168 - accuracy: 0.4770 - val_loss: 7.7209 - val_accuracy: 0.4995\n",
            "Epoch 4/20\n",
            "1316/1316 [==============================] - 11s 9ms/step - loss: 7.6161 - accuracy: 0.5015 - val_loss: 7.6163 - val_accuracy: 0.5005\n",
            "Epoch 5/20\n",
            "1316/1316 [==============================] - 11s 9ms/step - loss: 7.2762 - accuracy: 0.5229 - val_loss: 7.6163 - val_accuracy: 0.5005\n",
            "Epoch 6/20\n",
            "1316/1316 [==============================] - 11s 9ms/step - loss: 7.2762 - accuracy: 0.5229 - val_loss: 7.6163 - val_accuracy: 0.5005\n",
            "Epoch 7/20\n",
            "1316/1316 [==============================] - 11s 9ms/step - loss: 7.2762 - accuracy: 0.5229 - val_loss: 7.6163 - val_accuracy: 0.5005\n",
            "Epoch 8/20\n",
            "1316/1316 [==============================] - 19s 15ms/step - loss: 7.2762 - accuracy: 0.5229 - val_loss: 7.6163 - val_accuracy: 0.5005\n",
            "Epoch 9/20\n",
            "1316/1316 [==============================] - 18s 13ms/step - loss: 7.2762 - accuracy: 0.5229 - val_loss: 7.6163 - val_accuracy: 0.5005\n",
            "Epoch 10/20\n",
            "1316/1316 [==============================] - 14s 11ms/step - loss: 7.2762 - accuracy: 0.5229 - val_loss: 7.6163 - val_accuracy: 0.5005\n",
            "Epoch 11/20\n",
            "1316/1316 [==============================] - 13s 10ms/step - loss: 7.2762 - accuracy: 0.5229 - val_loss: 7.6163 - val_accuracy: 0.5005\n",
            "Epoch 12/20\n",
            "1316/1316 [==============================] - 21s 16ms/step - loss: 7.2762 - accuracy: 0.5229 - val_loss: 7.6163 - val_accuracy: 0.5005\n",
            "Epoch 13/20\n",
            "1316/1316 [==============================] - 15s 11ms/step - loss: 7.2762 - accuracy: 0.5229 - val_loss: 7.6163 - val_accuracy: 0.5005\n",
            "Epoch 14/20\n",
            "1316/1316 [==============================] - 11s 9ms/step - loss: 7.2762 - accuracy: 0.5229 - val_loss: 7.6163 - val_accuracy: 0.5005\n",
            "Epoch 15/20\n",
            "1316/1316 [==============================] - 11s 9ms/step - loss: 7.2762 - accuracy: 0.5229 - val_loss: 7.6163 - val_accuracy: 0.5005\n",
            "Epoch 16/20\n",
            "1316/1316 [==============================] - 11s 9ms/step - loss: 7.2762 - accuracy: 0.5229 - val_loss: 7.6163 - val_accuracy: 0.5005\n",
            "Epoch 17/20\n",
            "1316/1316 [==============================] - 12s 9ms/step - loss: 7.2762 - accuracy: 0.5229 - val_loss: 7.6163 - val_accuracy: 0.5005\n",
            "Epoch 18/20\n",
            "1316/1316 [==============================] - 14s 11ms/step - loss: 7.2762 - accuracy: 0.5229 - val_loss: 7.6163 - val_accuracy: 0.5005\n",
            "Epoch 19/20\n",
            "1316/1316 [==============================] - 16s 12ms/step - loss: 7.2762 - accuracy: 0.5229 - val_loss: 7.6163 - val_accuracy: 0.5005\n",
            "Epoch 20/20\n",
            "1316/1316 [==============================] - 11s 9ms/step - loss: 7.2762 - accuracy: 0.5229 - val_loss: 7.6163 - val_accuracy: 0.5005\n"
          ]
        }
      ]
    },
    {
      "cell_type": "code",
      "source": [
        "print('검증세트 정확도', model.evaluate(X_val, y_val))"
      ],
      "metadata": {
        "colab": {
          "base_uri": "https://localhost:8080/"
        },
        "id": "w0UU-mUAV2WS",
        "outputId": "edd3b142-b1d5-49b1-fd5e-5032c1e8fc3d"
      },
      "execution_count": 25,
      "outputs": [
        {
          "output_type": "stream",
          "name": "stdout",
          "text": [
            "1346/1346 [==============================] - 3s 2ms/step - loss: 7.0828 - accuracy: 0.5355\n",
            "검증세트 정확도 [7.082770824432373, 0.5355450510978699]\n"
          ]
        }
      ]
    },
    {
      "cell_type": "markdown",
      "metadata": {
        "id": "1Gt8Kp-UKqLt"
      },
      "source": [
        "# LSTM\n"
      ]
    },
    {
      "cell_type": "code",
      "source": [
        "train_df.shape"
      ],
      "metadata": {
        "colab": {
          "base_uri": "https://localhost:8080/"
        },
        "id": "myg8LGjd5XFB",
        "outputId": "c20a9c56-1f77-4abe-a94f-cc2cc312d077"
      },
      "execution_count": 31,
      "outputs": [
        {
          "output_type": "execute_result",
          "data": {
            "text/plain": [
              "(210550, 14)"
            ]
          },
          "metadata": {},
          "execution_count": 31
        }
      ]
    },
    {
      "cell_type": "code",
      "source": [
        "train_df.sort_values(by = 'Timestamp_x').groupby('learnerID').head()"
      ],
      "metadata": {
        "colab": {
          "base_uri": "https://localhost:8080/",
          "height": 423
        },
        "id": "RJoj1vHm5dM8",
        "outputId": "be8fc77d-f7ea-4f09-d146-6ed0584230e5"
      },
      "execution_count": 18,
      "outputs": [
        {
          "output_type": "execute_result",
          "data": {
            "text/html": [
              "\n",
              "  <div id=\"df-e639e06e-dce7-48f1-9a3f-7400fb16f181\">\n",
              "    <div class=\"colab-df-container\">\n",
              "      <div>\n",
              "<style scoped>\n",
              "    .dataframe tbody tr th:only-of-type {\n",
              "        vertical-align: middle;\n",
              "    }\n",
              "\n",
              "    .dataframe tbody tr th {\n",
              "        vertical-align: top;\n",
              "    }\n",
              "\n",
              "    .dataframe thead th {\n",
              "        text-align: right;\n",
              "    }\n",
              "</style>\n",
              "<table border=\"1\" class=\"dataframe\">\n",
              "  <thead>\n",
              "    <tr style=\"text-align: right;\">\n",
              "      <th></th>\n",
              "      <th>learnerID</th>\n",
              "      <th>testID</th>\n",
              "      <th>assessmentItemID</th>\n",
              "      <th>answerCode</th>\n",
              "      <th>Timestamp_x</th>\n",
              "      <th>difficultyLevel</th>\n",
              "      <th>discriminationLevel</th>\n",
              "      <th>guessLevel</th>\n",
              "      <th>KnowledgeTag</th>\n",
              "      <th>Timestamp_y</th>\n",
              "      <th>learnerProfile</th>\n",
              "      <th>theta</th>\n",
              "      <th>realScore</th>\n",
              "      <th>Timestamp</th>\n",
              "    </tr>\n",
              "  </thead>\n",
              "  <tbody>\n",
              "    <tr>\n",
              "      <th>75841</th>\n",
              "      <td>A070000372</td>\n",
              "      <td>A070000019</td>\n",
              "      <td>A070019001</td>\n",
              "      <td>1</td>\n",
              "      <td>2020-01-01 00:32:43</td>\n",
              "      <td>-0.267794</td>\n",
              "      <td>2.179342</td>\n",
              "      <td>3.048870e-05</td>\n",
              "      <td>NaN</td>\n",
              "      <td>2021-01-08 06:08:25.336946</td>\n",
              "      <td>F;S01;7</td>\n",
              "      <td>-0.008597</td>\n",
              "      <td>0.448231</td>\n",
              "      <td>2021-01-08 06:08:25.336946</td>\n",
              "    </tr>\n",
              "    <tr>\n",
              "      <th>74659</th>\n",
              "      <td>A070000372</td>\n",
              "      <td>A070000019</td>\n",
              "      <td>A070019002</td>\n",
              "      <td>0</td>\n",
              "      <td>2020-01-01 00:32:46</td>\n",
              "      <td>0.627104</td>\n",
              "      <td>1.917141</td>\n",
              "      <td>2.999971e-01</td>\n",
              "      <td>NaN</td>\n",
              "      <td>2021-01-08 06:08:25.336946</td>\n",
              "      <td>F;S01;7</td>\n",
              "      <td>-0.008597</td>\n",
              "      <td>0.448231</td>\n",
              "      <td>2021-01-08 06:08:25.336946</td>\n",
              "    </tr>\n",
              "    <tr>\n",
              "      <th>74847</th>\n",
              "      <td>A070000372</td>\n",
              "      <td>A070000019</td>\n",
              "      <td>A070019003</td>\n",
              "      <td>1</td>\n",
              "      <td>2020-01-01 00:32:52</td>\n",
              "      <td>0.282633</td>\n",
              "      <td>3.556267</td>\n",
              "      <td>1.705585e-01</td>\n",
              "      <td>NaN</td>\n",
              "      <td>2021-01-08 06:08:25.336946</td>\n",
              "      <td>F;S01;7</td>\n",
              "      <td>-0.008597</td>\n",
              "      <td>0.448231</td>\n",
              "      <td>2021-01-08 06:08:25.336946</td>\n",
              "    </tr>\n",
              "    <tr>\n",
              "      <th>75010</th>\n",
              "      <td>A070000372</td>\n",
              "      <td>A070000019</td>\n",
              "      <td>A070019004</td>\n",
              "      <td>0</td>\n",
              "      <td>2020-01-01 00:32:54</td>\n",
              "      <td>0.445940</td>\n",
              "      <td>2.863303</td>\n",
              "      <td>2.996260e-01</td>\n",
              "      <td>NaN</td>\n",
              "      <td>2021-01-08 06:08:25.336946</td>\n",
              "      <td>F;S01;7</td>\n",
              "      <td>-0.008597</td>\n",
              "      <td>0.448231</td>\n",
              "      <td>2021-01-08 06:08:25.336946</td>\n",
              "    </tr>\n",
              "    <tr>\n",
              "      <th>75107</th>\n",
              "      <td>A070000372</td>\n",
              "      <td>A070000019</td>\n",
              "      <td>A070019005</td>\n",
              "      <td>0</td>\n",
              "      <td>2020-01-01 00:32:57</td>\n",
              "      <td>0.613388</td>\n",
              "      <td>1.600848</td>\n",
              "      <td>1.424934e-01</td>\n",
              "      <td>NaN</td>\n",
              "      <td>2021-01-08 06:08:25.336946</td>\n",
              "      <td>F;S01;7</td>\n",
              "      <td>-0.008597</td>\n",
              "      <td>0.448231</td>\n",
              "      <td>2021-01-08 06:08:25.336946</td>\n",
              "    </tr>\n",
              "    <tr>\n",
              "      <th>...</th>\n",
              "      <td>...</td>\n",
              "      <td>...</td>\n",
              "      <td>...</td>\n",
              "      <td>...</td>\n",
              "      <td>...</td>\n",
              "      <td>...</td>\n",
              "      <td>...</td>\n",
              "      <td>...</td>\n",
              "      <td>...</td>\n",
              "      <td>...</td>\n",
              "      <td>...</td>\n",
              "      <td>...</td>\n",
              "      <td>...</td>\n",
              "      <td>...</td>\n",
              "    </tr>\n",
              "    <tr>\n",
              "      <th>62169</th>\n",
              "      <td>A070001139</td>\n",
              "      <td>A070000163</td>\n",
              "      <td>A070163001</td>\n",
              "      <td>0</td>\n",
              "      <td>2020-12-29 05:15:15</td>\n",
              "      <td>0.424376</td>\n",
              "      <td>5.721616</td>\n",
              "      <td>1.382128e-01</td>\n",
              "      <td>NaN</td>\n",
              "      <td>2021-01-08 06:08:25.336946</td>\n",
              "      <td>F;S01;7</td>\n",
              "      <td>0.036266</td>\n",
              "      <td>0.329169</td>\n",
              "      <td>2021-01-08 06:08:25.336946</td>\n",
              "    </tr>\n",
              "    <tr>\n",
              "      <th>64412</th>\n",
              "      <td>A070001139</td>\n",
              "      <td>A070000163</td>\n",
              "      <td>A070163002</td>\n",
              "      <td>1</td>\n",
              "      <td>2020-12-29 05:16:09</td>\n",
              "      <td>0.755853</td>\n",
              "      <td>1.458568</td>\n",
              "      <td>1.209644e-01</td>\n",
              "      <td>NaN</td>\n",
              "      <td>2021-01-08 06:08:25.336946</td>\n",
              "      <td>F;S01;7</td>\n",
              "      <td>0.036266</td>\n",
              "      <td>0.329169</td>\n",
              "      <td>2021-01-08 06:08:25.336946</td>\n",
              "    </tr>\n",
              "    <tr>\n",
              "      <th>62767</th>\n",
              "      <td>A070001139</td>\n",
              "      <td>A070000163</td>\n",
              "      <td>A070163003</td>\n",
              "      <td>0</td>\n",
              "      <td>2020-12-29 05:17:08</td>\n",
              "      <td>0.426200</td>\n",
              "      <td>3.347423</td>\n",
              "      <td>1.912472e-01</td>\n",
              "      <td>NaN</td>\n",
              "      <td>2021-01-08 06:08:25.336946</td>\n",
              "      <td>F;S01;7</td>\n",
              "      <td>0.036266</td>\n",
              "      <td>0.329169</td>\n",
              "      <td>2021-01-08 06:08:25.336946</td>\n",
              "    </tr>\n",
              "    <tr>\n",
              "      <th>64436</th>\n",
              "      <td>A070001139</td>\n",
              "      <td>A070000163</td>\n",
              "      <td>A070163004</td>\n",
              "      <td>0</td>\n",
              "      <td>2020-12-29 05:21:22</td>\n",
              "      <td>-0.032573</td>\n",
              "      <td>1.867638</td>\n",
              "      <td>9.270000e-08</td>\n",
              "      <td>NaN</td>\n",
              "      <td>2021-01-08 06:08:25.336946</td>\n",
              "      <td>F;S01;7</td>\n",
              "      <td>0.036266</td>\n",
              "      <td>0.329169</td>\n",
              "      <td>2021-01-08 06:08:25.336946</td>\n",
              "    </tr>\n",
              "    <tr>\n",
              "      <th>63684</th>\n",
              "      <td>A070001139</td>\n",
              "      <td>A070000163</td>\n",
              "      <td>A070163005</td>\n",
              "      <td>0</td>\n",
              "      <td>2020-12-29 05:21:31</td>\n",
              "      <td>1.350637</td>\n",
              "      <td>32.412570</td>\n",
              "      <td>1.230486e-02</td>\n",
              "      <td>NaN</td>\n",
              "      <td>2021-01-08 06:08:25.336946</td>\n",
              "      <td>F;S01;7</td>\n",
              "      <td>0.036266</td>\n",
              "      <td>0.329169</td>\n",
              "      <td>2021-01-08 06:08:25.336946</td>\n",
              "    </tr>\n",
              "  </tbody>\n",
              "</table>\n",
              "<p>6895 rows × 14 columns</p>\n",
              "</div>\n",
              "      <button class=\"colab-df-convert\" onclick=\"convertToInteractive('df-e639e06e-dce7-48f1-9a3f-7400fb16f181')\"\n",
              "              title=\"Convert this dataframe to an interactive table.\"\n",
              "              style=\"display:none;\">\n",
              "        \n",
              "  <svg xmlns=\"http://www.w3.org/2000/svg\" height=\"24px\"viewBox=\"0 0 24 24\"\n",
              "       width=\"24px\">\n",
              "    <path d=\"M0 0h24v24H0V0z\" fill=\"none\"/>\n",
              "    <path d=\"M18.56 5.44l.94 2.06.94-2.06 2.06-.94-2.06-.94-.94-2.06-.94 2.06-2.06.94zm-11 1L8.5 8.5l.94-2.06 2.06-.94-2.06-.94L8.5 2.5l-.94 2.06-2.06.94zm10 10l.94 2.06.94-2.06 2.06-.94-2.06-.94-.94-2.06-.94 2.06-2.06.94z\"/><path d=\"M17.41 7.96l-1.37-1.37c-.4-.4-.92-.59-1.43-.59-.52 0-1.04.2-1.43.59L10.3 9.45l-7.72 7.72c-.78.78-.78 2.05 0 2.83L4 21.41c.39.39.9.59 1.41.59.51 0 1.02-.2 1.41-.59l7.78-7.78 2.81-2.81c.8-.78.8-2.07 0-2.86zM5.41 20L4 18.59l7.72-7.72 1.47 1.35L5.41 20z\"/>\n",
              "  </svg>\n",
              "      </button>\n",
              "      \n",
              "  <style>\n",
              "    .colab-df-container {\n",
              "      display:flex;\n",
              "      flex-wrap:wrap;\n",
              "      gap: 12px;\n",
              "    }\n",
              "\n",
              "    .colab-df-convert {\n",
              "      background-color: #E8F0FE;\n",
              "      border: none;\n",
              "      border-radius: 50%;\n",
              "      cursor: pointer;\n",
              "      display: none;\n",
              "      fill: #1967D2;\n",
              "      height: 32px;\n",
              "      padding: 0 0 0 0;\n",
              "      width: 32px;\n",
              "    }\n",
              "\n",
              "    .colab-df-convert:hover {\n",
              "      background-color: #E2EBFA;\n",
              "      box-shadow: 0px 1px 2px rgba(60, 64, 67, 0.3), 0px 1px 3px 1px rgba(60, 64, 67, 0.15);\n",
              "      fill: #174EA6;\n",
              "    }\n",
              "\n",
              "    [theme=dark] .colab-df-convert {\n",
              "      background-color: #3B4455;\n",
              "      fill: #D2E3FC;\n",
              "    }\n",
              "\n",
              "    [theme=dark] .colab-df-convert:hover {\n",
              "      background-color: #434B5C;\n",
              "      box-shadow: 0px 1px 3px 1px rgba(0, 0, 0, 0.15);\n",
              "      filter: drop-shadow(0px 1px 2px rgba(0, 0, 0, 0.3));\n",
              "      fill: #FFFFFF;\n",
              "    }\n",
              "  </style>\n",
              "\n",
              "      <script>\n",
              "        const buttonEl =\n",
              "          document.querySelector('#df-e639e06e-dce7-48f1-9a3f-7400fb16f181 button.colab-df-convert');\n",
              "        buttonEl.style.display =\n",
              "          google.colab.kernel.accessAllowed ? 'block' : 'none';\n",
              "\n",
              "        async function convertToInteractive(key) {\n",
              "          const element = document.querySelector('#df-e639e06e-dce7-48f1-9a3f-7400fb16f181');\n",
              "          const dataTable =\n",
              "            await google.colab.kernel.invokeFunction('convertToInteractive',\n",
              "                                                     [key], {});\n",
              "          if (!dataTable) return;\n",
              "\n",
              "          const docLinkHtml = 'Like what you see? Visit the ' +\n",
              "            '<a target=\"_blank\" href=https://colab.research.google.com/notebooks/data_table.ipynb>data table notebook</a>'\n",
              "            + ' to learn more about interactive tables.';\n",
              "          element.innerHTML = '';\n",
              "          dataTable['output_type'] = 'display_data';\n",
              "          await google.colab.output.renderOutput(dataTable, element);\n",
              "          const docLink = document.createElement('div');\n",
              "          docLink.innerHTML = docLinkHtml;\n",
              "          element.appendChild(docLink);\n",
              "        }\n",
              "      </script>\n",
              "    </div>\n",
              "  </div>\n",
              "  "
            ],
            "text/plain": [
              "        learnerID      testID  ... realScore                   Timestamp\n",
              "75841  A070000372  A070000019  ...  0.448231  2021-01-08 06:08:25.336946\n",
              "74659  A070000372  A070000019  ...  0.448231  2021-01-08 06:08:25.336946\n",
              "74847  A070000372  A070000019  ...  0.448231  2021-01-08 06:08:25.336946\n",
              "75010  A070000372  A070000019  ...  0.448231  2021-01-08 06:08:25.336946\n",
              "75107  A070000372  A070000019  ...  0.448231  2021-01-08 06:08:25.336946\n",
              "...           ...         ...  ...       ...                         ...\n",
              "62169  A070001139  A070000163  ...  0.329169  2021-01-08 06:08:25.336946\n",
              "64412  A070001139  A070000163  ...  0.329169  2021-01-08 06:08:25.336946\n",
              "62767  A070001139  A070000163  ...  0.329169  2021-01-08 06:08:25.336946\n",
              "64436  A070001139  A070000163  ...  0.329169  2021-01-08 06:08:25.336946\n",
              "63684  A070001139  A070000163  ...  0.329169  2021-01-08 06:08:25.336946\n",
              "\n",
              "[6895 rows x 14 columns]"
            ]
          },
          "metadata": {},
          "execution_count": 18
        }
      ]
    },
    {
      "cell_type": "code",
      "source": [
        "train_df['learnerID'].value_counts()"
      ],
      "metadata": {
        "colab": {
          "base_uri": "https://localhost:8080/"
        },
        "id": "8ASGwRYl59CY",
        "outputId": "b8aa6521-99ce-43af-a419-f3575faeb737"
      },
      "execution_count": 53,
      "outputs": [
        {
          "output_type": "execute_result",
          "data": {
            "text/plain": [
              "A070000120    1241\n",
              "A070000080    1173\n",
              "A070000073    1033\n",
              "A070000048     968\n",
              "A070000062     926\n",
              "              ... \n",
              "A070001691       6\n",
              "A070001371       6\n",
              "A070001647       6\n",
              "A070000908       6\n",
              "A070001021       6\n",
              "Name: learnerID, Length: 1379, dtype: int64"
            ]
          },
          "metadata": {},
          "execution_count": 53
        }
      ]
    },
    {
      "cell_type": "code",
      "source": [
        "train_df['assessmentItemID'].value_counts()\n",
        "#1322\n",
        "train_df['testID'].value_counts()\n",
        "#164"
      ],
      "metadata": {
        "id": "bs7HyUdL6gnH"
      },
      "execution_count": null,
      "outputs": []
    },
    {
      "cell_type": "code",
      "source": [
        "#learner와 assessmentItemID 중복 없음. 즉, 학습자가 한 문항을 여러번 푼 데이터는 없음\n",
        "result = train_df.groupby(['learnerID','assessmentItemID']).size().reset_index().rename(columns = {0:'count'})\n",
        "result.shape"
      ],
      "metadata": {
        "colab": {
          "base_uri": "https://localhost:8080/"
        },
        "id": "8mwPQ0qQ8OqU",
        "outputId": "d884f59d-640e-4adc-8619-304bdc35c394"
      },
      "execution_count": 51,
      "outputs": [
        {
          "output_type": "execute_result",
          "data": {
            "text/plain": [
              "(210550, 3)"
            ]
          },
          "metadata": {},
          "execution_count": 51
        }
      ]
    },
    {
      "cell_type": "code",
      "metadata": {
        "id": "yyGkXCRD3rgt",
        "colab": {
          "base_uri": "https://localhost:8080/"
        },
        "outputId": "56abfc7a-815f-4800-e06f-4543cfaf1fa8"
      },
      "source": [
        "target = 'answerCode'\n",
        "features = ['difficultyLevel', 'discriminationLevel', 'guessLevel', 'theta', 'realScore']\n",
        "y_train = train_df[target]\n",
        "X_train = train_df[features]\n",
        "\n",
        "y_train.value_counts(normalize = True)"
      ],
      "execution_count": 30,
      "outputs": [
        {
          "output_type": "execute_result",
          "data": {
            "text/plain": [
              "1    0.519212\n",
              "0    0.480788\n",
              "Name: answerCode, dtype: float64"
            ]
          },
          "metadata": {},
          "execution_count": 30
        }
      ]
    },
    {
      "cell_type": "code",
      "source": [
        "layer_input = keras.Input(shape = (5,1), name = 'input')\n",
        "layer_rnn0 = keras.layers.LSTM(100, name = 'LSTM1', return_sequences = True)(layer_input)\n",
        "layer_rnn1 = keras.layers.LSTM(100, name = 'LSTM2')(layer_rnn0)\n",
        "#print(layer_input.shape, layer_rnn0.shape)\n",
        "layer_output = keras.layers.Dense(1, name = 'output', activation = 'sigmoid')(layer_rnn1)\n",
        "\n",
        "lstm_model = keras.Model(layer_input, layer_output)\n",
        "print(lstm_model.summary())"
      ],
      "metadata": {
        "colab": {
          "base_uri": "https://localhost:8080/"
        },
        "id": "1e6hWR5y58Yk",
        "outputId": "7781e0c3-b358-49bb-ea76-41a0cc2220a1"
      },
      "execution_count": 45,
      "outputs": [
        {
          "output_type": "stream",
          "name": "stdout",
          "text": [
            "Model: \"model_8\"\n",
            "_________________________________________________________________\n",
            " Layer (type)                Output Shape              Param #   \n",
            "=================================================================\n",
            " input (InputLayer)          [(None, 5, 1)]            0         \n",
            "                                                                 \n",
            " LSTM1 (LSTM)                (None, 5, 100)            40800     \n",
            "                                                                 \n",
            " LSTM2 (LSTM)                (None, 100)               80400     \n",
            "                                                                 \n",
            " output (Dense)              (None, 1)                 101       \n",
            "                                                                 \n",
            "=================================================================\n",
            "Total params: 121,301\n",
            "Trainable params: 121,301\n",
            "Non-trainable params: 0\n",
            "_________________________________________________________________\n",
            "None\n"
          ]
        }
      ]
    },
    {
      "cell_type": "code",
      "metadata": {
        "id": "0c28oruDK1J9"
      },
      "source": [
        "lstm_model.compile(loss = 'binary_crossentropy', optimizer = 'adam', metrics = ['accuracy'])"
      ],
      "execution_count": 46,
      "outputs": []
    },
    {
      "cell_type": "code",
      "source": [
        "early_stop = tf.keras.callbacks.EarlyStopping(monitor = 'val_loss', min_delta=0.0001, patience = 5)\n",
        "save_best = tf.keras.callbacks.ModelCheckpoint(filepath = \"FMbest.hdf5\", monitor = 'val_loss', \n",
        "                                            save_best_only = True, save_weights_only = True)"
      ],
      "metadata": {
        "id": "sd_VUo61IAZ0"
      },
      "execution_count": 35,
      "outputs": []
    },
    {
      "cell_type": "code",
      "metadata": {
        "id": "Jgwjj3rQK_W8",
        "colab": {
          "base_uri": "https://localhost:8080/",
          "height": 1000,
          "referenced_widgets": [
            "76f2e6369f5f49c7a8a0cfba413723f0",
            "18dbbb38309a42ae980fa029a2881ec5",
            "b047e0d0f6e74e5fa86d39ee5face0b9",
            "f6e5b9ff39ed4ccfb11fe7c038491dd6",
            "987835ab6c4d47679fc0c96f0adec616",
            "29f47fe37fac477f82b3efec654ca487",
            "b09a14cb7d9f4761b1babd6b472bedd5",
            "6e22ef2ac94d43a59e8ffd2e21a71e17"
          ]
        },
        "outputId": "fe5a1558-979c-4cef-ab79-470277eeeb37"
      },
      "source": [
        "from wandb.keras import WandbCallback\n",
        "wandb_project = 'project_lstm'\n",
        "wandb_group = \"\"\n",
        "wandb.init(project = wandb_project)\n",
        "\n",
        "wandb.config.epochs = 30\n",
        "wandb.config.batch_size = 256\n",
        "\n",
        "\n",
        "lstm_model.fit(X_train, y_train,\n",
        "          batch_size=wandb.config.batch_size, \n",
        "          epochs=wandb.config.epochs, \n",
        "         validation_split=0.2, callbacks = [WandbCallback()])\n",
        "\n",
        "'''\n",
        "model.fit(X_train, y_train,\n",
        "          batch_size= 10, \n",
        "          epochs=128, \n",
        "         validation_split=0.2, callbacks = [early_stop, save_best])\n",
        "'''\n",
        "\n",
        "wandb.log({'epochs' : wandb.config.epochs,\n",
        "           'batch_size' : wandb.config.batch_size})"
      ],
      "execution_count": 47,
      "outputs": [
        {
          "output_type": "display_data",
          "data": {
            "text/html": [
              "Finishing last run (ID:uk2wbpyq) before initializing another..."
            ],
            "text/plain": [
              "<IPython.core.display.HTML object>"
            ]
          },
          "metadata": {}
        },
        {
          "output_type": "display_data",
          "data": {
            "text/html": [
              "<br/>Waiting for W&B process to finish, PID 1598... <strong style=\"color:green\">(success).</strong>"
            ],
            "text/plain": [
              "<IPython.core.display.HTML object>"
            ]
          },
          "metadata": {}
        },
        {
          "output_type": "display_data",
          "data": {
            "application/vnd.jupyter.widget-view+json": {
              "model_id": "76f2e6369f5f49c7a8a0cfba413723f0",
              "version_minor": 0,
              "version_major": 2
            },
            "text/plain": [
              "VBox(children=(Label(value=' 0.00MB of 0.00MB uploaded (0.00MB deduped)\\r'), FloatProgress(value=1.0, max=1.0)…"
            ]
          },
          "metadata": {}
        },
        {
          "output_type": "display_data",
          "data": {
            "text/html": [
              "<style>\n",
              "    table.wandb td:nth-child(1) { padding: 0 10px; text-align: right }\n",
              "    .wandb-row { display: flex; flex-direction: row; flex-wrap: wrap; width: 100% }\n",
              "    .wandb-col { display: flex; flex-direction: column; flex-basis: 100%; flex: 1; padding: 10px; }\n",
              "    </style>\n",
              "<div class=\"wandb-row\"><div class=\"wandb-col\">\n",
              "</div><div class=\"wandb-col\">\n",
              "</div></div>\n",
              "Synced 5 W&B file(s), 0 media file(s), 0 artifact file(s) and 0 other file(s)\n",
              "<br/>Synced <strong style=\"color:#cdcd00\">sleek-water-3</strong>: <a href=\"https://wandb.ai/iznooy/project_lstm/runs/uk2wbpyq\" target=\"_blank\">https://wandb.ai/iznooy/project_lstm/runs/uk2wbpyq</a><br/>\n",
              "Find logs at: <code>./wandb/run-20211222_082841-uk2wbpyq/logs</code><br/>\n"
            ],
            "text/plain": [
              "<IPython.core.display.HTML object>"
            ]
          },
          "metadata": {}
        },
        {
          "output_type": "display_data",
          "data": {
            "text/html": [
              "Successfully finished last run (ID:uk2wbpyq). Initializing new run:<br/>"
            ],
            "text/plain": [
              "<IPython.core.display.HTML object>"
            ]
          },
          "metadata": {}
        },
        {
          "output_type": "display_data",
          "data": {
            "text/html": [
              "\n",
              "                    Syncing run <strong><a href=\"https://wandb.ai/iznooy/project_lstm/runs/z4t1z87x\" target=\"_blank\">dark-totem-4</a></strong> to <a href=\"https://wandb.ai/iznooy/project_lstm\" target=\"_blank\">Weights & Biases</a> (<a href=\"https://docs.wandb.com/integrations/jupyter.html\" target=\"_blank\">docs</a>).<br/>\n",
              "\n",
              "                "
            ],
            "text/plain": [
              "<IPython.core.display.HTML object>"
            ]
          },
          "metadata": {}
        },
        {
          "output_type": "stream",
          "name": "stdout",
          "text": [
            "Epoch 1/30\n",
            "658/658 [==============================] - 35s 47ms/step - loss: 0.4426 - accuracy: 0.8000 - val_loss: 0.4173 - val_accuracy: 0.8129\n",
            "Epoch 2/30\n",
            "658/658 [==============================] - 31s 47ms/step - loss: 0.4117 - accuracy: 0.8148 - val_loss: 0.4102 - val_accuracy: 0.8159\n",
            "Epoch 3/30\n",
            "658/658 [==============================] - 30s 46ms/step - loss: 0.4055 - accuracy: 0.8165 - val_loss: 0.4046 - val_accuracy: 0.8177\n",
            "Epoch 4/30\n",
            "658/658 [==============================] - 30s 46ms/step - loss: 0.4008 - accuracy: 0.8183 - val_loss: 0.3987 - val_accuracy: 0.8185\n",
            "Epoch 5/30\n",
            "658/658 [==============================] - 31s 48ms/step - loss: 0.3946 - accuracy: 0.8195 - val_loss: 0.4019 - val_accuracy: 0.8125\n",
            "Epoch 6/30\n",
            "658/658 [==============================] - 30s 46ms/step - loss: 0.3916 - accuracy: 0.8196 - val_loss: 0.3884 - val_accuracy: 0.8194\n",
            "Epoch 7/30\n",
            "658/658 [==============================] - 30s 46ms/step - loss: 0.3891 - accuracy: 0.8202 - val_loss: 0.3881 - val_accuracy: 0.8196\n",
            "Epoch 8/30\n",
            "658/658 [==============================] - 31s 47ms/step - loss: 0.3881 - accuracy: 0.8205 - val_loss: 0.3898 - val_accuracy: 0.8195\n",
            "Epoch 9/30\n",
            "658/658 [==============================] - 30s 46ms/step - loss: 0.3875 - accuracy: 0.8206 - val_loss: 0.3864 - val_accuracy: 0.8202\n",
            "Epoch 10/30\n",
            "658/658 [==============================] - 31s 46ms/step - loss: 0.3871 - accuracy: 0.8204 - val_loss: 0.3878 - val_accuracy: 0.8202\n",
            "Epoch 11/30\n",
            "658/658 [==============================] - 31s 47ms/step - loss: 0.3865 - accuracy: 0.8207 - val_loss: 0.3872 - val_accuracy: 0.8195\n",
            "Epoch 12/30\n",
            "658/658 [==============================] - 30s 46ms/step - loss: 0.3861 - accuracy: 0.8209 - val_loss: 0.3877 - val_accuracy: 0.8177\n",
            "Epoch 13/30\n",
            "658/658 [==============================] - 30s 46ms/step - loss: 0.3861 - accuracy: 0.8209 - val_loss: 0.3852 - val_accuracy: 0.8204\n",
            "Epoch 14/30\n",
            "658/658 [==============================] - 30s 46ms/step - loss: 0.3858 - accuracy: 0.8209 - val_loss: 0.3852 - val_accuracy: 0.8199\n",
            "Epoch 15/30\n",
            "658/658 [==============================] - 31s 46ms/step - loss: 0.3856 - accuracy: 0.8210 - val_loss: 0.3881 - val_accuracy: 0.8200\n",
            "Epoch 16/30\n",
            "658/658 [==============================] - 31s 47ms/step - loss: 0.3852 - accuracy: 0.8210 - val_loss: 0.3898 - val_accuracy: 0.8198\n",
            "Epoch 17/30\n",
            "658/658 [==============================] - 30s 46ms/step - loss: 0.3845 - accuracy: 0.8214 - val_loss: 0.3863 - val_accuracy: 0.8202\n",
            "Epoch 18/30\n",
            "658/658 [==============================] - 30s 46ms/step - loss: 0.3846 - accuracy: 0.8212 - val_loss: 0.3866 - val_accuracy: 0.8198\n",
            "Epoch 19/30\n",
            "658/658 [==============================] - 31s 47ms/step - loss: 0.3842 - accuracy: 0.8213 - val_loss: 0.3850 - val_accuracy: 0.8212\n",
            "Epoch 20/30\n",
            "658/658 [==============================] - 31s 46ms/step - loss: 0.3839 - accuracy: 0.8214 - val_loss: 0.3878 - val_accuracy: 0.8180\n",
            "Epoch 21/30\n",
            "658/658 [==============================] - 30s 46ms/step - loss: 0.3838 - accuracy: 0.8213 - val_loss: 0.3852 - val_accuracy: 0.8207\n",
            "Epoch 22/30\n",
            "658/658 [==============================] - 31s 47ms/step - loss: 0.3831 - accuracy: 0.8212 - val_loss: 0.3847 - val_accuracy: 0.8205\n",
            "Epoch 23/30\n",
            "658/658 [==============================] - 31s 46ms/step - loss: 0.3836 - accuracy: 0.8215 - val_loss: 0.3868 - val_accuracy: 0.8194\n",
            "Epoch 24/30\n",
            "658/658 [==============================] - 31s 47ms/step - loss: 0.3831 - accuracy: 0.8219 - val_loss: 0.3864 - val_accuracy: 0.8192\n",
            "Epoch 25/30\n",
            "658/658 [==============================] - 31s 47ms/step - loss: 0.3831 - accuracy: 0.8217 - val_loss: 0.3850 - val_accuracy: 0.8194\n",
            "Epoch 26/30\n",
            "658/658 [==============================] - 31s 47ms/step - loss: 0.3829 - accuracy: 0.8220 - val_loss: 0.3847 - val_accuracy: 0.8196\n",
            "Epoch 27/30\n",
            "658/658 [==============================] - 31s 47ms/step - loss: 0.3827 - accuracy: 0.8219 - val_loss: 0.3848 - val_accuracy: 0.8208\n",
            "Epoch 28/30\n",
            "658/658 [==============================] - 30s 46ms/step - loss: 0.3824 - accuracy: 0.8218 - val_loss: 0.3846 - val_accuracy: 0.8203\n",
            "Epoch 29/30\n",
            "658/658 [==============================] - 31s 47ms/step - loss: 0.3821 - accuracy: 0.8217 - val_loss: 0.3848 - val_accuracy: 0.8204\n",
            "Epoch 30/30\n",
            "658/658 [==============================] - 30s 46ms/step - loss: 0.3822 - accuracy: 0.8216 - val_loss: 0.3862 - val_accuracy: 0.8198\n"
          ]
        }
      ]
    },
    {
      "cell_type": "code",
      "source": [
        "print('검증세트 정확도', lstm_model.evaluate(X_val, y_val))\n"
      ],
      "metadata": {
        "colab": {
          "base_uri": "https://localhost:8080/"
        },
        "id": "iIkUZBtdHpuo",
        "outputId": "e4897c6e-f37e-4a18-e30f-13c96a87990e"
      },
      "execution_count": 48,
      "outputs": [
        {
          "output_type": "stream",
          "name": "stdout",
          "text": [
            "1346/1346 [==============================] - 5s 4ms/step - loss: 0.3699 - accuracy: 0.8282\n",
            "검증세트 정확도 [0.36991748213768005, 0.8281758427619934]\n"
          ]
        }
      ]
    },
    {
      "cell_type": "markdown",
      "source": [
        "# Wandb 사용법 -> config내의 수치들 조절 \n",
        "** wandb.init() / wandb.finish() 로 실험이 가능 \n",
        "\n",
        "1)wandb 홈페이지에 저장됨 \n",
        "https://wandb.ai/iznooy/basic-second?workspace=user-iznooy\n",
        "\n",
        "1-1) Project = 'basic-second' 이름 안 바꾸면 지난번 학습 이어서 함께 저장됨. architecutre 바꾸면 조심해야. \n",
        "\n",
        "2)로지스틱리그레션에서 조절할 수 있는 수치 조사 \n",
        "\n",
        "3)RNN 돌리는 것 가능 ? -timestamp 조정해야"
      ],
      "metadata": {
        "id": "-p0OURyMmJ8u"
      }
    },
    {
      "cell_type": "code",
      "source": [
        "import random\n",
        "for run in range(5):\n",
        "    wandb.init(\n",
        "        project = 'basic-second',\n",
        "        config = {\"learning_rate\" : 0.02, \n",
        "                  \"architecture\" : \"RNN\",\n",
        "                  \"dataset\": \"X_train\"}\n",
        "    )\n",
        "    offset = random.random() / 5\n",
        "    for ii in range(2, 10):\n",
        "        acc = 1 - 2 ** -ii - random.random() / ii - offset\n",
        "        loss = 2 ** -ii + random.random() / ii + offset\n",
        "      # 2️⃣ Log metrics from your script to W&B\n",
        "        wandb.log({\"acc\": acc, \"loss\": loss})\n",
        "      \n",
        "  # Mark the run as finished\n",
        "    wandb.finish()\n",
        "\n"
      ],
      "metadata": {
        "colab": {
          "base_uri": "https://localhost:8080/",
          "height": 1000,
          "referenced_widgets": [
            "0fe6f83d547a4f5883e08456c3ec6e5b",
            "61816db0a539489a9972925d587ed8bc",
            "fe18f2b58379465cb5ade639f888e38d",
            "8f69167f70814ce99c8fda96c6c94faf",
            "eb98ead12b1d4982b891bb4d83bef94b",
            "ea5e27cb79df4aa2ae95cbc12e25b4c4",
            "0ac5050c308c48c1acd5d34cc99b2e4d",
            "7b1d91d86a4f4b39896588037a2fbcf8",
            "75ec6cc74cc548478a50910685e268d7",
            "485d6d51c6cf451eb4752e93908bd44c",
            "bcf2b9836d8e453eb4f334caf239b46d",
            "6177888633fc4b4daf6b74faebb23534",
            "edcd2035c0884e7f820b8a8dbd8607c2",
            "f3b9c59b683c493bb257d2d3be38c702",
            "d5e5656b450642a0b24419a2b87120d4",
            "3fa82ca91ea34ccfabbe35a312f78cf5",
            "17fe26cebe9d4fe79ab66c9b55c8f3d6",
            "48dc836698434c648b077d7cfd226a70",
            "8f56107c863f40eab1a7d2f4ab34939e",
            "5a68be42cef54072a6deca8913140307",
            "af2577684a574b178c68f1ed7b495f55",
            "3ab43570b9cf4cd186eb176d5c210237",
            "0b06f107380944248e0abc77ff3039c4",
            "ec7e34d1a0bd4da1887d8391e8f05d9b",
            "2203af88a85f4da08f437a271d2e10b4",
            "d09e54e58149439881c3a7c6813e23bd",
            "9e51616727f14e5e9dd7f6a8bfa008ff",
            "332f9c2b9017423c8cbfb53f15083804",
            "27bbd494f22241478e317c50c4f73702",
            "403fd2aa3d004a24a94a1c0a0fe474d4",
            "66be84600eba4967ba2c0b328b3757b1",
            "6208557e555241dd9c2d186dac239b70",
            "c56ccc00195c4aeabb6d4abab59bc185",
            "8ac3ee0eac71491083e75ada77e00ddf",
            "ad8cfa92afcd465a9294d65539940c68",
            "99cd27d141f843d6833cf555857eaa9c",
            "8fbba5b3636b4c05960d0c70b60a3665",
            "0798de4ff3f94892ab45f78769abcabc",
            "4dfcc04ba84747a8a3693a4522b3072d",
            "3e815d8fba7a42b6bc3e39f4b665ca31"
          ]
        },
        "id": "HjdvPcrFksu_",
        "outputId": "6d699494-7c8e-44c0-9635-482b52449b1f"
      },
      "execution_count": null,
      "outputs": [
        {
          "output_type": "display_data",
          "data": {
            "text/html": [
              "\n",
              "                    Syncing run <strong><a href=\"https://wandb.ai/iznooy/basic-second/runs/ldqu38j7\" target=\"_blank\">revived-disco-18</a></strong> to <a href=\"https://wandb.ai/iznooy/basic-second\" target=\"_blank\">Weights & Biases</a> (<a href=\"https://docs.wandb.com/integrations/jupyter.html\" target=\"_blank\">docs</a>).<br/>\n",
              "\n",
              "                "
            ],
            "text/plain": [
              "<IPython.core.display.HTML object>"
            ]
          },
          "metadata": {}
        },
        {
          "output_type": "display_data",
          "data": {
            "text/html": [
              "<br/>Waiting for W&B process to finish, PID 1430... <strong style=\"color:green\">(success).</strong>"
            ],
            "text/plain": [
              "<IPython.core.display.HTML object>"
            ]
          },
          "metadata": {}
        },
        {
          "output_type": "display_data",
          "data": {
            "application/vnd.jupyter.widget-view+json": {
              "model_id": "0fe6f83d547a4f5883e08456c3ec6e5b",
              "version_minor": 0,
              "version_major": 2
            },
            "text/plain": [
              "VBox(children=(Label(value=' 0.00MB of 0.00MB uploaded (0.00MB deduped)\\r'), FloatProgress(value=1.0, max=1.0)…"
            ]
          },
          "metadata": {}
        },
        {
          "output_type": "display_data",
          "data": {
            "text/html": [
              "<style>\n",
              "    table.wandb td:nth-child(1) { padding: 0 10px; text-align: right }\n",
              "    .wandb-row { display: flex; flex-direction: row; flex-wrap: wrap; width: 100% }\n",
              "    .wandb-col { display: flex; flex-direction: column; flex-basis: 100%; flex: 1; padding: 10px; }\n",
              "    </style>\n",
              "<div class=\"wandb-row\"><div class=\"wandb-col\">\n",
              "<h3>Run history:</h3><br/><table class=\"wandb\"><tr><td>acc</td><td>▁▅▅▆▆█▇▇</td></tr><tr><td>loss</td><td>▆█▅▄▄▃▁▂</td></tr></table><br/></div><div class=\"wandb-col\">\n",
              "<h3>Run summary:</h3><br/><table class=\"wandb\"><tr><td>acc</td><td>0.8286</td></tr><tr><td>loss</td><td>0.16527</td></tr></table>\n",
              "</div></div>\n",
              "Synced 4 W&B file(s), 0 media file(s), 0 artifact file(s) and 0 other file(s)\n",
              "<br/>Synced <strong style=\"color:#cdcd00\">revived-disco-18</strong>: <a href=\"https://wandb.ai/iznooy/basic-second/runs/ldqu38j7\" target=\"_blank\">https://wandb.ai/iznooy/basic-second/runs/ldqu38j7</a><br/>\n",
              "Find logs at: <code>./wandb/run-20211217_085945-ldqu38j7/logs</code><br/>\n"
            ],
            "text/plain": [
              "<IPython.core.display.HTML object>"
            ]
          },
          "metadata": {}
        },
        {
          "output_type": "display_data",
          "data": {
            "text/html": [
              "\n",
              "                    Syncing run <strong><a href=\"https://wandb.ai/iznooy/basic-second/runs/3j5vr6ym\" target=\"_blank\">easy-darkness-19</a></strong> to <a href=\"https://wandb.ai/iznooy/basic-second\" target=\"_blank\">Weights & Biases</a> (<a href=\"https://docs.wandb.com/integrations/jupyter.html\" target=\"_blank\">docs</a>).<br/>\n",
              "\n",
              "                "
            ],
            "text/plain": [
              "<IPython.core.display.HTML object>"
            ]
          },
          "metadata": {}
        },
        {
          "output_type": "display_data",
          "data": {
            "text/html": [
              "<br/>Waiting for W&B process to finish, PID 1462... <strong style=\"color:green\">(success).</strong>"
            ],
            "text/plain": [
              "<IPython.core.display.HTML object>"
            ]
          },
          "metadata": {}
        },
        {
          "output_type": "display_data",
          "data": {
            "application/vnd.jupyter.widget-view+json": {
              "model_id": "75ec6cc74cc548478a50910685e268d7",
              "version_minor": 0,
              "version_major": 2
            },
            "text/plain": [
              "VBox(children=(Label(value=' 0.00MB of 0.00MB uploaded (0.00MB deduped)\\r'), FloatProgress(value=1.0, max=1.0)…"
            ]
          },
          "metadata": {}
        },
        {
          "output_type": "display_data",
          "data": {
            "text/html": [
              "<style>\n",
              "    table.wandb td:nth-child(1) { padding: 0 10px; text-align: right }\n",
              "    .wandb-row { display: flex; flex-direction: row; flex-wrap: wrap; width: 100% }\n",
              "    .wandb-col { display: flex; flex-direction: column; flex-basis: 100%; flex: 1; padding: 10px; }\n",
              "    </style>\n",
              "<div class=\"wandb-row\"><div class=\"wandb-col\">\n",
              "<h3>Run history:</h3><br/><table class=\"wandb\"><tr><td>acc</td><td>▁▃▄▆▇▇▇█</td></tr><tr><td>loss</td><td>█▅▂▃▃▂▁▂</td></tr></table><br/></div><div class=\"wandb-col\">\n",
              "<h3>Run summary:</h3><br/><table class=\"wandb\"><tr><td>acc</td><td>0.8114</td></tr><tr><td>loss</td><td>0.26492</td></tr></table>\n",
              "</div></div>\n",
              "Synced 4 W&B file(s), 0 media file(s), 0 artifact file(s) and 0 other file(s)\n",
              "<br/>Synced <strong style=\"color:#cdcd00\">easy-darkness-19</strong>: <a href=\"https://wandb.ai/iznooy/basic-second/runs/3j5vr6ym\" target=\"_blank\">https://wandb.ai/iznooy/basic-second/runs/3j5vr6ym</a><br/>\n",
              "Find logs at: <code>./wandb/run-20211217_085954-3j5vr6ym/logs</code><br/>\n"
            ],
            "text/plain": [
              "<IPython.core.display.HTML object>"
            ]
          },
          "metadata": {}
        },
        {
          "output_type": "display_data",
          "data": {
            "text/html": [
              "\n",
              "                    Syncing run <strong><a href=\"https://wandb.ai/iznooy/basic-second/runs/2465ood6\" target=\"_blank\">devout-haze-20</a></strong> to <a href=\"https://wandb.ai/iznooy/basic-second\" target=\"_blank\">Weights & Biases</a> (<a href=\"https://docs.wandb.com/integrations/jupyter.html\" target=\"_blank\">docs</a>).<br/>\n",
              "\n",
              "                "
            ],
            "text/plain": [
              "<IPython.core.display.HTML object>"
            ]
          },
          "metadata": {}
        },
        {
          "output_type": "display_data",
          "data": {
            "text/html": [
              "<br/>Waiting for W&B process to finish, PID 1494... <strong style=\"color:green\">(success).</strong>"
            ],
            "text/plain": [
              "<IPython.core.display.HTML object>"
            ]
          },
          "metadata": {}
        },
        {
          "output_type": "display_data",
          "data": {
            "application/vnd.jupyter.widget-view+json": {
              "model_id": "17fe26cebe9d4fe79ab66c9b55c8f3d6",
              "version_minor": 0,
              "version_major": 2
            },
            "text/plain": [
              "VBox(children=(Label(value=' 0.00MB of 0.00MB uploaded (0.00MB deduped)\\r'), FloatProgress(value=1.0, max=1.0)…"
            ]
          },
          "metadata": {}
        },
        {
          "output_type": "display_data",
          "data": {
            "text/html": [
              "<style>\n",
              "    table.wandb td:nth-child(1) { padding: 0 10px; text-align: right }\n",
              "    .wandb-row { display: flex; flex-direction: row; flex-wrap: wrap; width: 100% }\n",
              "    .wandb-col { display: flex; flex-direction: column; flex-basis: 100%; flex: 1; padding: 10px; }\n",
              "    </style>\n",
              "<div class=\"wandb-row\"><div class=\"wandb-col\">\n",
              "<h3>Run history:</h3><br/><table class=\"wandb\"><tr><td>acc</td><td>▁▅▆▇▆▇██</td></tr><tr><td>loss</td><td>█▇▅▃▄▁▂▂</td></tr></table><br/></div><div class=\"wandb-col\">\n",
              "<h3>Run summary:</h3><br/><table class=\"wandb\"><tr><td>acc</td><td>0.90178</td></tr><tr><td>loss</td><td>0.1822</td></tr></table>\n",
              "</div></div>\n",
              "Synced 4 W&B file(s), 0 media file(s), 0 artifact file(s) and 0 other file(s)\n",
              "<br/>Synced <strong style=\"color:#cdcd00\">devout-haze-20</strong>: <a href=\"https://wandb.ai/iznooy/basic-second/runs/2465ood6\" target=\"_blank\">https://wandb.ai/iznooy/basic-second/runs/2465ood6</a><br/>\n",
              "Find logs at: <code>./wandb/run-20211217_090003-2465ood6/logs</code><br/>\n"
            ],
            "text/plain": [
              "<IPython.core.display.HTML object>"
            ]
          },
          "metadata": {}
        },
        {
          "output_type": "display_data",
          "data": {
            "text/html": [
              "\n",
              "                    Syncing run <strong><a href=\"https://wandb.ai/iznooy/basic-second/runs/2npk9yhn\" target=\"_blank\">ruby-yogurt-21</a></strong> to <a href=\"https://wandb.ai/iznooy/basic-second\" target=\"_blank\">Weights & Biases</a> (<a href=\"https://docs.wandb.com/integrations/jupyter.html\" target=\"_blank\">docs</a>).<br/>\n",
              "\n",
              "                "
            ],
            "text/plain": [
              "<IPython.core.display.HTML object>"
            ]
          },
          "metadata": {}
        },
        {
          "output_type": "display_data",
          "data": {
            "text/html": [
              "<br/>Waiting for W&B process to finish, PID 1528... <strong style=\"color:green\">(success).</strong>"
            ],
            "text/plain": [
              "<IPython.core.display.HTML object>"
            ]
          },
          "metadata": {}
        },
        {
          "output_type": "display_data",
          "data": {
            "application/vnd.jupyter.widget-view+json": {
              "model_id": "2203af88a85f4da08f437a271d2e10b4",
              "version_minor": 0,
              "version_major": 2
            },
            "text/plain": [
              "VBox(children=(Label(value=' 0.00MB of 0.00MB uploaded (0.00MB deduped)\\r'), FloatProgress(value=1.0, max=1.0)…"
            ]
          },
          "metadata": {}
        },
        {
          "output_type": "display_data",
          "data": {
            "text/html": [
              "<style>\n",
              "    table.wandb td:nth-child(1) { padding: 0 10px; text-align: right }\n",
              "    .wandb-row { display: flex; flex-direction: row; flex-wrap: wrap; width: 100% }\n",
              "    .wandb-col { display: flex; flex-direction: column; flex-basis: 100%; flex: 1; padding: 10px; }\n",
              "    </style>\n",
              "<div class=\"wandb-row\"><div class=\"wandb-col\">\n",
              "<h3>Run history:</h3><br/><table class=\"wandb\"><tr><td>acc</td><td>▁▆█▆▆██▇</td></tr><tr><td>loss</td><td>█▆▂▁▁▂▂▁</td></tr></table><br/></div><div class=\"wandb-col\">\n",
              "<h3>Run summary:</h3><br/><table class=\"wandb\"><tr><td>acc</td><td>0.80502</td></tr><tr><td>loss</td><td>0.16664</td></tr></table>\n",
              "</div></div>\n",
              "Synced 4 W&B file(s), 0 media file(s), 0 artifact file(s) and 0 other file(s)\n",
              "<br/>Synced <strong style=\"color:#cdcd00\">ruby-yogurt-21</strong>: <a href=\"https://wandb.ai/iznooy/basic-second/runs/2npk9yhn\" target=\"_blank\">https://wandb.ai/iznooy/basic-second/runs/2npk9yhn</a><br/>\n",
              "Find logs at: <code>./wandb/run-20211217_090012-2npk9yhn/logs</code><br/>\n"
            ],
            "text/plain": [
              "<IPython.core.display.HTML object>"
            ]
          },
          "metadata": {}
        },
        {
          "output_type": "display_data",
          "data": {
            "text/html": [
              "\n",
              "                    Syncing run <strong><a href=\"https://wandb.ai/iznooy/basic-second/runs/czg8pbj9\" target=\"_blank\">blooming-dew-22</a></strong> to <a href=\"https://wandb.ai/iznooy/basic-second\" target=\"_blank\">Weights & Biases</a> (<a href=\"https://docs.wandb.com/integrations/jupyter.html\" target=\"_blank\">docs</a>).<br/>\n",
              "\n",
              "                "
            ],
            "text/plain": [
              "<IPython.core.display.HTML object>"
            ]
          },
          "metadata": {}
        },
        {
          "output_type": "display_data",
          "data": {
            "text/html": [
              "<br/>Waiting for W&B process to finish, PID 1562... <strong style=\"color:green\">(success).</strong>"
            ],
            "text/plain": [
              "<IPython.core.display.HTML object>"
            ]
          },
          "metadata": {}
        },
        {
          "output_type": "display_data",
          "data": {
            "application/vnd.jupyter.widget-view+json": {
              "model_id": "c56ccc00195c4aeabb6d4abab59bc185",
              "version_minor": 0,
              "version_major": 2
            },
            "text/plain": [
              "VBox(children=(Label(value=' 0.00MB of 0.00MB uploaded (0.00MB deduped)\\r'), FloatProgress(value=1.0, max=1.0)…"
            ]
          },
          "metadata": {}
        },
        {
          "output_type": "display_data",
          "data": {
            "text/html": [
              "<style>\n",
              "    table.wandb td:nth-child(1) { padding: 0 10px; text-align: right }\n",
              "    .wandb-row { display: flex; flex-direction: row; flex-wrap: wrap; width: 100% }\n",
              "    .wandb-col { display: flex; flex-direction: column; flex-basis: 100%; flex: 1; padding: 10px; }\n",
              "    </style>\n",
              "<div class=\"wandb-row\"><div class=\"wandb-col\">\n",
              "<h3>Run history:</h3><br/><table class=\"wandb\"><tr><td>acc</td><td>▁▄▅▇█▇██</td></tr><tr><td>loss</td><td>█▄▃▄▃▂▁▁</td></tr></table><br/></div><div class=\"wandb-col\">\n",
              "<h3>Run summary:</h3><br/><table class=\"wandb\"><tr><td>acc</td><td>0.74959</td></tr><tr><td>loss</td><td>0.17274</td></tr></table>\n",
              "</div></div>\n",
              "Synced 4 W&B file(s), 0 media file(s), 0 artifact file(s) and 0 other file(s)\n",
              "<br/>Synced <strong style=\"color:#cdcd00\">blooming-dew-22</strong>: <a href=\"https://wandb.ai/iznooy/basic-second/runs/czg8pbj9\" target=\"_blank\">https://wandb.ai/iznooy/basic-second/runs/czg8pbj9</a><br/>\n",
              "Find logs at: <code>./wandb/run-20211217_090020-czg8pbj9/logs</code><br/>\n"
            ],
            "text/plain": [
              "<IPython.core.display.HTML object>"
            ]
          },
          "metadata": {}
        }
      ]
    }
  ]
}